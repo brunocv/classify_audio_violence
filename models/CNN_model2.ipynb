{
 "cells": [
  {
   "cell_type": "markdown",
   "metadata": {},
   "source": [
    "# Convolutional Neural Network\n",
    "\n",
    "### Part 1 - Building the CNN\n",
    "\n",
    "#### Importing the Tensorflow libraries and packages"
   ]
  },
  {
   "cell_type": "code",
   "execution_count": 1,
   "metadata": {},
   "outputs": [
    {
     "name": "stdout",
     "output_type": "stream",
     "text": [
      "Tensor Flow Version: 2.6.0\n",
      "Keras Version: 2.6.0\n",
      "\n",
      "Python 3.8.0 (default, Nov  6 2019, 16:00:02) [MSC v.1916 64 bit (AMD64)]\n",
      "Pandas 1.2.5\n",
      "Scikit-Learn 1.0.2\n",
      "GPU is available\n"
     ]
    }
   ],
   "source": [
    "import sys\n",
    "\n",
    "import tensorflow.keras\n",
    "import pandas as pd\n",
    "import sklearn as sk\n",
    "import tensorflow as tf\n",
    "\n",
    "print(f\"Tensor Flow Version: {tf.__version__}\")\n",
    "print(f\"Keras Version: {tensorflow.keras.__version__}\")\n",
    "print()\n",
    "print(f\"Python {sys.version}\")\n",
    "print(f\"Pandas {pd.__version__}\")\n",
    "print(f\"Scikit-Learn {sk.__version__}\")\n",
    "gpu = len(tf.config.list_physical_devices('GPU'))>0\n",
    "print(\"GPU is\", \"available\" if gpu else \"NOT AVAILABLE\")"
   ]
  },
  {
   "cell_type": "code",
   "execution_count": 2,
   "metadata": {},
   "outputs": [],
   "source": [
    "# Load the TensorBoard notebook extension\n",
    "%load_ext tensorboard\n",
    "from tensorflow.keras.models import Sequential\n",
    "from tensorflow.keras.layers import Conv2D, MaxPooling2D, Flatten, Dense, Dropout\n",
    "from tensorflow.keras.callbacks import ReduceLROnPlateau\n",
    "\n",
    "import os"
   ]
  },
  {
   "cell_type": "code",
   "execution_count": 3,
   "metadata": {},
   "outputs": [],
   "source": [
    "classifier = Sequential()\n",
    "\n",
    "#classes = 2\n",
    "\n",
    "#Kernels usually 1x1 | 3x3 | 5x5\n",
    "\n",
    "#Adding a convolutional layer\n",
    "classifier.add(Conv2D(32, (3, 3), input_shape = (150, 150, 3), padding='same', activation = 'relu'))\n",
    "classifier.add(MaxPooling2D(pool_size = (2, 2)))\n",
    "classifier.add(Dropout(0.40))\n",
    "\n",
    "#Adding a second convolutional layer\n",
    "classifier.add(Conv2D(64, (3, 3), padding='same', activation = 'relu'))\n",
    "classifier.add(MaxPooling2D(pool_size = (2, 2)))\n",
    "classifier.add(Dropout(0.40))\n",
    "\n",
    "#Adding a third convolutional layer\n",
    "classifier.add(Conv2D(64, (3, 3), padding='same', activation = 'relu'))\n",
    "classifier.add(MaxPooling2D(pool_size = (2, 2)))\n",
    "classifier.add(Dropout(0.40))\n",
    "\n",
    "#Flattening\n",
    "classifier.add(Flatten())\n",
    "\n",
    "\n",
    "#Full connection\n",
    "classifier.add(Dense(units = 128, activation = 'relu'))\n",
    "classifier.add(Dropout(0.30))\n",
    "classifier.add(Dense(units = 1, activation= 'sigmoid'))"
   ]
  },
  {
   "cell_type": "markdown",
   "metadata": {},
   "source": [
    "Let's double check the model description:"
   ]
  },
  {
   "cell_type": "code",
   "execution_count": 4,
   "metadata": {},
   "outputs": [
    {
     "name": "stdout",
     "output_type": "stream",
     "text": [
      "Model: \"sequential\"\n",
      "_________________________________________________________________\n",
      "Layer (type)                 Output Shape              Param #   \n",
      "=================================================================\n",
      "conv2d (Conv2D)              (None, 150, 150, 32)      896       \n",
      "_________________________________________________________________\n",
      "max_pooling2d (MaxPooling2D) (None, 75, 75, 32)        0         \n",
      "_________________________________________________________________\n",
      "dropout (Dropout)            (None, 75, 75, 32)        0         \n",
      "_________________________________________________________________\n",
      "conv2d_1 (Conv2D)            (None, 75, 75, 64)        18496     \n",
      "_________________________________________________________________\n",
      "max_pooling2d_1 (MaxPooling2 (None, 37, 37, 64)        0         \n",
      "_________________________________________________________________\n",
      "dropout_1 (Dropout)          (None, 37, 37, 64)        0         \n",
      "_________________________________________________________________\n",
      "conv2d_2 (Conv2D)            (None, 37, 37, 64)        36928     \n",
      "_________________________________________________________________\n",
      "max_pooling2d_2 (MaxPooling2 (None, 18, 18, 64)        0         \n",
      "_________________________________________________________________\n",
      "dropout_2 (Dropout)          (None, 18, 18, 64)        0         \n",
      "_________________________________________________________________\n",
      "flatten (Flatten)            (None, 20736)             0         \n",
      "_________________________________________________________________\n",
      "dense (Dense)                (None, 128)               2654336   \n",
      "_________________________________________________________________\n",
      "dropout_3 (Dropout)          (None, 128)               0         \n",
      "_________________________________________________________________\n",
      "dense_1 (Dense)              (None, 1)                 129       \n",
      "=================================================================\n",
      "Total params: 2,710,785\n",
      "Trainable params: 2,710,785\n",
      "Non-trainable params: 0\n",
      "_________________________________________________________________\n"
     ]
    }
   ],
   "source": [
    "classifier.summary()"
   ]
  },
  {
   "cell_type": "code",
   "execution_count": 5,
   "metadata": {},
   "outputs": [],
   "source": [
    "classifier.compile(optimizer = 'adam', loss = 'binary_crossentropy', metrics = ['accuracy'])"
   ]
  },
  {
   "cell_type": "markdown",
   "metadata": {},
   "source": [
    "### Part 2 - Fitting the CNN to the images\n"
   ]
  },
  {
   "cell_type": "code",
   "execution_count": 6,
   "metadata": {},
   "outputs": [
    {
     "name": "stdout",
     "output_type": "stream",
     "text": [
      "Found 1102 images belonging to 2 classes.\n",
      "Found 274 images belonging to 2 classes.\n",
      "Found 344 images belonging to 2 classes.\n"
     ]
    }
   ],
   "source": [
    "from tensorflow.keras.preprocessing.image import ImageDataGenerator\n",
    "\n",
    "path_dir = '../dataset_mel_final/train'\n",
    "parth_dir_test = '../dataset_mel_final/test'\n",
    "\n",
    "datagen = ImageDataGenerator(\n",
    "                    rescale=1./255,\n",
    "                    validation_split = 0.2)\n",
    "\n",
    "train_generator = datagen.flow_from_directory(\n",
    "    path_dir,\n",
    "    target_size=(150,150),\n",
    "    shuffle=True,\n",
    "    subset='training',\n",
    "    batch_size = 64,\n",
    "    class_mode = 'binary'\n",
    ")\n",
    "validation_generator = datagen.flow_from_directory(\n",
    "    path_dir,\n",
    "    target_size=(150,150),\n",
    "    subset='validation',\n",
    "    batch_size = 64,\n",
    "    class_mode = 'binary'\n",
    ")\n",
    "\n",
    "test_set = datagen.flow_from_directory(parth_dir_test,\n",
    "                                        target_size=(150,150),\n",
    "                                        batch_size =64,\n",
    "                                        class_mode = 'binary')\n"
   ]
  },
  {
   "cell_type": "code",
   "execution_count": 7,
   "metadata": {},
   "outputs": [
    {
     "data": {
      "text/plain": [
       "{'nonviolence': 0, 'violence': 1}"
      ]
     },
     "execution_count": 7,
     "metadata": {},
     "output_type": "execute_result"
    }
   ],
   "source": [
    "train_generator.class_indices"
   ]
  },
  {
   "cell_type": "code",
   "execution_count": 8,
   "metadata": {},
   "outputs": [],
   "source": [
    "from tensorflow.keras.callbacks import EarlyStopping, ModelCheckpoint, TensorBoard\n",
    "import datetime\n",
    "\n",
    "#rm -rf /logs/\n",
    "\n",
    "es = EarlyStopping(monitor='val_loss', patience=50)\n",
    "mc = ModelCheckpoint('best_model2.h5', monitor='val_loss', mode='min', save_best_only=True)\n",
    "reduceLR = ReduceLROnPlateau(monitor='val_loss', factor=0.1, patience=10)\n",
    "\n",
    "# Create a TensorBoard callback\n",
    "log_dir = \"logs\\\\\" + datetime.datetime.now().strftime(\"%Y%m%d-%H%M%S\")\n",
    "tensorboard_callback = TensorBoard(log_dir=log_dir, histogram_freq=1)"
   ]
  },
  {
   "cell_type": "code",
   "execution_count": 9,
   "metadata": {},
   "outputs": [
    {
     "name": "stdout",
     "output_type": "stream",
     "text": [
      "Epoch 1/600\n",
      "18/18 [==============================] - 10s 323ms/step - loss: 0.8053 - accuracy: 0.5082 - val_loss: 0.6927 - val_accuracy: 0.5000\n",
      "Epoch 2/600\n",
      "18/18 [==============================] - 4s 225ms/step - loss: 0.6889 - accuracy: 0.5245 - val_loss: 0.6801 - val_accuracy: 0.6861\n",
      "Epoch 3/600\n",
      "18/18 [==============================] - 4s 238ms/step - loss: 0.6483 - accuracy: 0.6361 - val_loss: 0.6229 - val_accuracy: 0.7153\n",
      "Epoch 4/600\n",
      "18/18 [==============================] - 4s 226ms/step - loss: 0.5855 - accuracy: 0.6770 - val_loss: 0.5246 - val_accuracy: 0.7372\n",
      "Epoch 5/600\n",
      "18/18 [==============================] - 4s 224ms/step - loss: 0.4854 - accuracy: 0.7722 - val_loss: 0.3845 - val_accuracy: 0.8504\n",
      "Epoch 6/600\n",
      "18/18 [==============================] - 4s 228ms/step - loss: 0.3847 - accuracy: 0.8494 - val_loss: 0.2995 - val_accuracy: 0.8869\n",
      "Epoch 7/600\n",
      "18/18 [==============================] - 4s 220ms/step - loss: 0.3036 - accuracy: 0.8802 - val_loss: 0.2453 - val_accuracy: 0.9270\n",
      "Epoch 8/600\n",
      "18/18 [==============================] - 4s 217ms/step - loss: 0.2782 - accuracy: 0.8920 - val_loss: 0.1788 - val_accuracy: 0.9562\n",
      "Epoch 9/600\n",
      "18/18 [==============================] - 4s 236ms/step - loss: 0.2569 - accuracy: 0.9056 - val_loss: 0.1835 - val_accuracy: 0.9453\n",
      "Epoch 10/600\n",
      "18/18 [==============================] - 4s 220ms/step - loss: 0.2396 - accuracy: 0.9074 - val_loss: 0.1777 - val_accuracy: 0.9453\n",
      "Epoch 11/600\n",
      "18/18 [==============================] - 4s 236ms/step - loss: 0.2153 - accuracy: 0.9201 - val_loss: 0.1603 - val_accuracy: 0.9635\n",
      "Epoch 12/600\n",
      "18/18 [==============================] - 4s 218ms/step - loss: 0.2209 - accuracy: 0.9192 - val_loss: 0.1532 - val_accuracy: 0.9526\n",
      "Epoch 13/600\n",
      "18/18 [==============================] - 4s 218ms/step - loss: 0.2127 - accuracy: 0.9093 - val_loss: 0.1807 - val_accuracy: 0.9489\n",
      "Epoch 14/600\n",
      "18/18 [==============================] - 4s 215ms/step - loss: 0.2019 - accuracy: 0.9274 - val_loss: 0.1536 - val_accuracy: 0.9526\n",
      "Epoch 15/600\n",
      "18/18 [==============================] - 4s 211ms/step - loss: 0.1837 - accuracy: 0.9310 - val_loss: 0.1426 - val_accuracy: 0.9489\n",
      "Epoch 16/600\n",
      "18/18 [==============================] - 4s 221ms/step - loss: 0.1881 - accuracy: 0.9301 - val_loss: 0.1613 - val_accuracy: 0.9526\n",
      "Epoch 17/600\n",
      "18/18 [==============================] - 4s 215ms/step - loss: 0.1772 - accuracy: 0.9383 - val_loss: 0.1279 - val_accuracy: 0.9562\n",
      "Epoch 18/600\n",
      "18/18 [==============================] - 4s 222ms/step - loss: 0.1685 - accuracy: 0.9456 - val_loss: 0.1655 - val_accuracy: 0.9562\n",
      "Epoch 19/600\n",
      "18/18 [==============================] - 4s 221ms/step - loss: 0.1553 - accuracy: 0.9428 - val_loss: 0.1347 - val_accuracy: 0.9599\n",
      "Epoch 20/600\n",
      "18/18 [==============================] - 4s 232ms/step - loss: 0.1286 - accuracy: 0.9537 - val_loss: 0.1587 - val_accuracy: 0.9562\n",
      "Epoch 21/600\n",
      "18/18 [==============================] - 4s 226ms/step - loss: 0.1537 - accuracy: 0.9374 - val_loss: 0.1296 - val_accuracy: 0.9562\n",
      "Epoch 22/600\n",
      "18/18 [==============================] - 4s 219ms/step - loss: 0.1390 - accuracy: 0.9474 - val_loss: 0.1338 - val_accuracy: 0.9526\n",
      "Epoch 23/600\n",
      "18/18 [==============================] - 4s 215ms/step - loss: 0.1504 - accuracy: 0.9428 - val_loss: 0.1419 - val_accuracy: 0.9489\n",
      "Epoch 24/600\n",
      "18/18 [==============================] - 4s 214ms/step - loss: 0.1431 - accuracy: 0.9510 - val_loss: 0.1423 - val_accuracy: 0.9489\n",
      "Epoch 25/600\n",
      "18/18 [==============================] - 5s 278ms/step - loss: 0.1421 - accuracy: 0.9501 - val_loss: 0.1572 - val_accuracy: 0.9416\n",
      "Epoch 26/600\n",
      "18/18 [==============================] - 5s 265ms/step - loss: 0.1275 - accuracy: 0.9501 - val_loss: 0.1321 - val_accuracy: 0.9489\n",
      "Epoch 27/600\n",
      "18/18 [==============================] - 4s 241ms/step - loss: 0.1179 - accuracy: 0.9537 - val_loss: 0.1284 - val_accuracy: 0.9526\n",
      "Epoch 28/600\n",
      "18/18 [==============================] - 4s 234ms/step - loss: 0.0966 - accuracy: 0.9664 - val_loss: 0.1217 - val_accuracy: 0.9526\n",
      "Epoch 29/600\n",
      "18/18 [==============================] - 4s 234ms/step - loss: 0.1020 - accuracy: 0.9619 - val_loss: 0.1219 - val_accuracy: 0.9526\n",
      "Epoch 30/600\n",
      "18/18 [==============================] - 4s 235ms/step - loss: 0.0910 - accuracy: 0.9701 - val_loss: 0.1274 - val_accuracy: 0.9526\n",
      "Epoch 31/600\n",
      "18/18 [==============================] - 4s 231ms/step - loss: 0.0956 - accuracy: 0.9682 - val_loss: 0.1239 - val_accuracy: 0.9526\n",
      "Epoch 32/600\n",
      "18/18 [==============================] - 4s 243ms/step - loss: 0.0905 - accuracy: 0.9628 - val_loss: 0.1279 - val_accuracy: 0.9453\n",
      "Epoch 33/600\n",
      "18/18 [==============================] - 4s 235ms/step - loss: 0.0862 - accuracy: 0.9682 - val_loss: 0.1221 - val_accuracy: 0.9489\n",
      "Epoch 34/600\n",
      "18/18 [==============================] - 4s 234ms/step - loss: 0.0924 - accuracy: 0.9701 - val_loss: 0.1224 - val_accuracy: 0.9526\n",
      "Epoch 35/600\n",
      "18/18 [==============================] - 4s 235ms/step - loss: 0.0875 - accuracy: 0.9691 - val_loss: 0.1274 - val_accuracy: 0.9489\n",
      "Epoch 36/600\n",
      "18/18 [==============================] - 4s 235ms/step - loss: 0.0918 - accuracy: 0.9655 - val_loss: 0.1307 - val_accuracy: 0.9489\n",
      "Epoch 37/600\n",
      "18/18 [==============================] - 4s 229ms/step - loss: 0.0871 - accuracy: 0.9682 - val_loss: 0.1217 - val_accuracy: 0.9562\n",
      "Epoch 38/600\n",
      "18/18 [==============================] - 4s 227ms/step - loss: 0.0913 - accuracy: 0.9682 - val_loss: 0.1229 - val_accuracy: 0.9526\n",
      "Epoch 39/600\n",
      "18/18 [==============================] - 4s 231ms/step - loss: 0.0776 - accuracy: 0.9746 - val_loss: 0.1236 - val_accuracy: 0.9526\n",
      "Epoch 40/600\n",
      "18/18 [==============================] - 4s 231ms/step - loss: 0.0791 - accuracy: 0.9701 - val_loss: 0.1237 - val_accuracy: 0.9526\n",
      "Epoch 41/600\n",
      "18/18 [==============================] - 4s 231ms/step - loss: 0.0755 - accuracy: 0.9719 - val_loss: 0.1235 - val_accuracy: 0.9526\n",
      "Epoch 42/600\n",
      "18/18 [==============================] - 5s 269ms/step - loss: 0.0822 - accuracy: 0.9701 - val_loss: 0.1245 - val_accuracy: 0.9526\n",
      "Epoch 43/600\n",
      "18/18 [==============================] - 4s 235ms/step - loss: 0.0785 - accuracy: 0.9673 - val_loss: 0.1244 - val_accuracy: 0.9526\n",
      "Epoch 44/600\n",
      "18/18 [==============================] - 5s 263ms/step - loss: 0.0918 - accuracy: 0.9637 - val_loss: 0.1237 - val_accuracy: 0.9526\n",
      "Epoch 45/600\n",
      "18/18 [==============================] - 4s 235ms/step - loss: 0.0898 - accuracy: 0.9655 - val_loss: 0.1238 - val_accuracy: 0.9526\n",
      "Epoch 46/600\n",
      "18/18 [==============================] - 4s 234ms/step - loss: 0.0800 - accuracy: 0.9719 - val_loss: 0.1238 - val_accuracy: 0.9489\n",
      "Epoch 47/600\n",
      "18/18 [==============================] - 4s 245ms/step - loss: 0.0752 - accuracy: 0.9755 - val_loss: 0.1245 - val_accuracy: 0.9526\n",
      "Epoch 48/600\n",
      "18/18 [==============================] - 4s 239ms/step - loss: 0.0825 - accuracy: 0.9655 - val_loss: 0.1245 - val_accuracy: 0.9526\n",
      "Epoch 49/600\n",
      "18/18 [==============================] - 4s 235ms/step - loss: 0.0725 - accuracy: 0.9755 - val_loss: 0.1244 - val_accuracy: 0.9526\n",
      "Epoch 50/600\n",
      "18/18 [==============================] - 4s 234ms/step - loss: 0.0882 - accuracy: 0.9619 - val_loss: 0.1244 - val_accuracy: 0.9526\n",
      "Epoch 51/600\n",
      "18/18 [==============================] - 5s 260ms/step - loss: 0.0844 - accuracy: 0.9719 - val_loss: 0.1243 - val_accuracy: 0.9526\n",
      "Epoch 52/600\n",
      "18/18 [==============================] - 4s 235ms/step - loss: 0.0806 - accuracy: 0.9764 - val_loss: 0.1243 - val_accuracy: 0.9526\n",
      "Epoch 53/600\n",
      "18/18 [==============================] - 4s 233ms/step - loss: 0.0792 - accuracy: 0.9691 - val_loss: 0.1243 - val_accuracy: 0.9526\n",
      "Epoch 54/600\n",
      "18/18 [==============================] - 5s 253ms/step - loss: 0.0792 - accuracy: 0.9728 - val_loss: 0.1243 - val_accuracy: 0.9526\n",
      "Epoch 55/600\n",
      "18/18 [==============================] - 5s 249ms/step - loss: 0.0761 - accuracy: 0.9728 - val_loss: 0.1242 - val_accuracy: 0.9526\n",
      "Epoch 56/600\n",
      "18/18 [==============================] - 4s 220ms/step - loss: 0.0907 - accuracy: 0.9664 - val_loss: 0.1242 - val_accuracy: 0.9526\n",
      "Epoch 57/600\n",
      "18/18 [==============================] - 4s 218ms/step - loss: 0.0834 - accuracy: 0.9682 - val_loss: 0.1243 - val_accuracy: 0.9526\n"
     ]
    },
    {
     "name": "stdout",
     "output_type": "stream",
     "text": [
      "Epoch 58/600\n",
      "18/18 [==============================] - 4s 217ms/step - loss: 0.0811 - accuracy: 0.9691 - val_loss: 0.1243 - val_accuracy: 0.9526\n",
      "Epoch 59/600\n",
      "18/18 [==============================] - 4s 220ms/step - loss: 0.0824 - accuracy: 0.9664 - val_loss: 0.1243 - val_accuracy: 0.9526\n",
      "Epoch 60/600\n",
      "18/18 [==============================] - 4s 215ms/step - loss: 0.0870 - accuracy: 0.9664 - val_loss: 0.1243 - val_accuracy: 0.9526\n",
      "Epoch 61/600\n",
      "18/18 [==============================] - 4s 214ms/step - loss: 0.0689 - accuracy: 0.9755 - val_loss: 0.1243 - val_accuracy: 0.9526\n",
      "Epoch 62/600\n",
      "18/18 [==============================] - 4s 214ms/step - loss: 0.0714 - accuracy: 0.9773 - val_loss: 0.1243 - val_accuracy: 0.9526\n",
      "Epoch 63/600\n",
      "18/18 [==============================] - 4s 214ms/step - loss: 0.0857 - accuracy: 0.9737 - val_loss: 0.1243 - val_accuracy: 0.9526\n",
      "Epoch 64/600\n",
      "18/18 [==============================] - 4s 215ms/step - loss: 0.0786 - accuracy: 0.9737 - val_loss: 0.1243 - val_accuracy: 0.9526\n",
      "Epoch 65/600\n",
      "18/18 [==============================] - 4s 214ms/step - loss: 0.0869 - accuracy: 0.9701 - val_loss: 0.1243 - val_accuracy: 0.9526\n",
      "Epoch 66/600\n",
      "18/18 [==============================] - 4s 220ms/step - loss: 0.0912 - accuracy: 0.9682 - val_loss: 0.1243 - val_accuracy: 0.9526\n",
      "Epoch 67/600\n",
      "18/18 [==============================] - 4s 218ms/step - loss: 0.0762 - accuracy: 0.9728 - val_loss: 0.1243 - val_accuracy: 0.9526\n",
      "Epoch 68/600\n",
      "18/18 [==============================] - 5s 264ms/step - loss: 0.0824 - accuracy: 0.9673 - val_loss: 0.1243 - val_accuracy: 0.9526\n",
      "Epoch 69/600\n",
      "18/18 [==============================] - 5s 266ms/step - loss: 0.0808 - accuracy: 0.9773 - val_loss: 0.1243 - val_accuracy: 0.9526\n",
      "Epoch 70/600\n",
      "18/18 [==============================] - 5s 263ms/step - loss: 0.0817 - accuracy: 0.9710 - val_loss: 0.1243 - val_accuracy: 0.9526\n",
      "Epoch 71/600\n",
      "18/18 [==============================] - 5s 269ms/step - loss: 0.0808 - accuracy: 0.9701 - val_loss: 0.1243 - val_accuracy: 0.9526\n",
      "Epoch 72/600\n",
      "18/18 [==============================] - 5s 273ms/step - loss: 0.0877 - accuracy: 0.9691 - val_loss: 0.1243 - val_accuracy: 0.9526\n",
      "Epoch 73/600\n",
      "18/18 [==============================] - 5s 267ms/step - loss: 0.0747 - accuracy: 0.9737 - val_loss: 0.1243 - val_accuracy: 0.9526\n",
      "Epoch 74/600\n",
      "18/18 [==============================] - 4s 234ms/step - loss: 0.0751 - accuracy: 0.9773 - val_loss: 0.1243 - val_accuracy: 0.9526\n",
      "Epoch 75/600\n",
      "18/18 [==============================] - 4s 236ms/step - loss: 0.0752 - accuracy: 0.9710 - val_loss: 0.1243 - val_accuracy: 0.9526\n",
      "Epoch 76/600\n",
      "18/18 [==============================] - 5s 266ms/step - loss: 0.0868 - accuracy: 0.9664 - val_loss: 0.1243 - val_accuracy: 0.9526\n",
      "Epoch 77/600\n",
      "18/18 [==============================] - 4s 242ms/step - loss: 0.0827 - accuracy: 0.9673 - val_loss: 0.1243 - val_accuracy: 0.9526\n",
      "Epoch 78/600\n",
      "18/18 [==============================] - 4s 234ms/step - loss: 0.0869 - accuracy: 0.9655 - val_loss: 0.1243 - val_accuracy: 0.9526\n"
     ]
    },
    {
     "data": {
      "text/plain": [
       "<tensorflow.python.keras.callbacks.History at 0x29a4971d610>"
      ]
     },
     "execution_count": 9,
     "metadata": {},
     "output_type": "execute_result"
    }
   ],
   "source": [
    "classifier.fit(train_generator,\n",
    "                         epochs = 600,\n",
    "                         callbacks = [tensorboard_callback,es,mc,reduceLR],\n",
    "                         validation_data = validation_generator\n",
    "                         )"
   ]
  },
  {
   "cell_type": "code",
   "execution_count": null,
   "metadata": {},
   "outputs": [],
   "source": [
    "#Overfitting -> Your training accuracy will be higher than the accuracy on the validation/test set\n",
    "\n",
    "#Overfitting indicates that your model is too complex for the problem that it is solving,\n",
    "#filters in the case of Convolutional Neural Networks, and layers in the case of overall Deep Learning Models\n",
    "\n",
    "#How do you know if your model is underfitting? Your model is underfitting if the accuracy on the validation set \n",
    "#is higher than the accuracy on the training set. Additionally, \n",
    "#if the whole model performs bad this is also called underfitting."
   ]
  },
  {
   "cell_type": "code",
   "execution_count": 10,
   "metadata": {},
   "outputs": [
    {
     "data": {
      "text/plain": [
       "Reusing TensorBoard on port 6006 (pid 11704), started 22:45:26 ago. (Use '!kill 11704' to kill it.)"
      ]
     },
     "metadata": {},
     "output_type": "display_data"
    },
    {
     "data": {
      "text/html": [
       "\n",
       "      <iframe id=\"tensorboard-frame-4e2f69c4c1df9a19\" width=\"100%\" height=\"800\" frameborder=\"0\">\n",
       "      </iframe>\n",
       "      <script>\n",
       "        (function() {\n",
       "          const frame = document.getElementById(\"tensorboard-frame-4e2f69c4c1df9a19\");\n",
       "          const url = new URL(\"/\", window.location);\n",
       "          const port = 6006;\n",
       "          if (port) {\n",
       "            url.port = port;\n",
       "          }\n",
       "          frame.src = url;\n",
       "        })();\n",
       "      </script>\n",
       "    "
      ],
      "text/plain": [
       "<IPython.core.display.HTML object>"
      ]
     },
     "metadata": {},
     "output_type": "display_data"
    }
   ],
   "source": [
    "%tensorboard --logdir logs"
   ]
  },
  {
   "cell_type": "markdown",
   "metadata": {},
   "source": [
    "# Part 3 test the CNN"
   ]
  },
  {
   "cell_type": "code",
   "execution_count": 11,
   "metadata": {},
   "outputs": [],
   "source": [
    "# Load Model\n",
    "classifier.load_weights('best_model2.h5')"
   ]
  },
  {
   "cell_type": "code",
   "execution_count": 12,
   "metadata": {},
   "outputs": [
    {
     "name": "stdout",
     "output_type": "stream",
     "text": [
      "Model: \"sequential\"\n",
      "_________________________________________________________________\n",
      "Layer (type)                 Output Shape              Param #   \n",
      "=================================================================\n",
      "conv2d (Conv2D)              (None, 150, 150, 32)      896       \n",
      "_________________________________________________________________\n",
      "max_pooling2d (MaxPooling2D) (None, 75, 75, 32)        0         \n",
      "_________________________________________________________________\n",
      "dropout (Dropout)            (None, 75, 75, 32)        0         \n",
      "_________________________________________________________________\n",
      "conv2d_1 (Conv2D)            (None, 75, 75, 64)        18496     \n",
      "_________________________________________________________________\n",
      "max_pooling2d_1 (MaxPooling2 (None, 37, 37, 64)        0         \n",
      "_________________________________________________________________\n",
      "dropout_1 (Dropout)          (None, 37, 37, 64)        0         \n",
      "_________________________________________________________________\n",
      "conv2d_2 (Conv2D)            (None, 37, 37, 64)        36928     \n",
      "_________________________________________________________________\n",
      "max_pooling2d_2 (MaxPooling2 (None, 18, 18, 64)        0         \n",
      "_________________________________________________________________\n",
      "dropout_2 (Dropout)          (None, 18, 18, 64)        0         \n",
      "_________________________________________________________________\n",
      "flatten (Flatten)            (None, 20736)             0         \n",
      "_________________________________________________________________\n",
      "dense (Dense)                (None, 128)               2654336   \n",
      "_________________________________________________________________\n",
      "dropout_3 (Dropout)          (None, 128)               0         \n",
      "_________________________________________________________________\n",
      "dense_1 (Dense)              (None, 1)                 129       \n",
      "=================================================================\n",
      "Total params: 2,710,785\n",
      "Trainable params: 2,710,785\n",
      "Non-trainable params: 0\n",
      "_________________________________________________________________\n"
     ]
    }
   ],
   "source": [
    "classifier.summary()"
   ]
  },
  {
   "cell_type": "code",
   "execution_count": 13,
   "metadata": {},
   "outputs": [
    {
     "name": "stdout",
     "output_type": "stream",
     "text": [
      "Test Loss 0.20216502249240875\n",
      "Test accuracy 0.9331395626068115\n"
     ]
    }
   ],
   "source": [
    "score = classifier.evaluate(test_set, verbose=0)\n",
    "\n",
    "print('Test Loss', score[0])\n",
    "print('Test accuracy', score[1])"
   ]
  }
 ],
 "metadata": {
  "kernelspec": {
   "display_name": "Python 3 (ipykernel)",
   "language": "python",
   "name": "python3"
  },
  "language_info": {
   "codemirror_mode": {
    "name": "ipython",
    "version": 3
   },
   "file_extension": ".py",
   "mimetype": "text/x-python",
   "name": "python",
   "nbconvert_exporter": "python",
   "pygments_lexer": "ipython3",
   "version": "3.8.0"
  }
 },
 "nbformat": 4,
 "nbformat_minor": 4
}
