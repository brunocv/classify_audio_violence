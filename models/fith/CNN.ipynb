{
 "cells": [
  {
   "cell_type": "markdown",
   "metadata": {},
   "source": [
    "# Convolutional Neural Network\n",
    "\n",
    "### Part 1 - Building the CNN\n",
    "\n",
    "#### Importing the Tensorflow libraries and packages"
   ]
  },
  {
   "cell_type": "code",
   "execution_count": 1,
   "metadata": {},
   "outputs": [
    {
     "name": "stdout",
     "output_type": "stream",
     "text": [
      "Tensor Flow Version: 2.6.0\n",
      "Keras Version: 2.6.0\n",
      "\n",
      "Python 3.8.13 | packaged by conda-forge | (default, Mar 25 2022, 05:59:45) [MSC v.1929 64 bit (AMD64)]\n",
      "Pandas 1.4.3\n",
      "Scikit-Learn 1.1.1\n",
      "GPU is available\n"
     ]
    }
   ],
   "source": [
    "import sys\n",
    "\n",
    "import tensorflow.keras\n",
    "import pandas as pd\n",
    "import sklearn as sk\n",
    "import tensorflow as tf\n",
    "\n",
    "print(f\"Tensor Flow Version: {tf.__version__}\")\n",
    "print(f\"Keras Version: {tensorflow.keras.__version__}\")\n",
    "print()\n",
    "print(f\"Python {sys.version}\")\n",
    "print(f\"Pandas {pd.__version__}\")\n",
    "print(f\"Scikit-Learn {sk.__version__}\")\n",
    "gpu = len(tf.config.list_physical_devices('GPU'))>0\n",
    "print(\"GPU is\", \"available\" if gpu else \"NOT AVAILABLE\")"
   ]
  },
  {
   "cell_type": "code",
   "execution_count": 2,
   "metadata": {},
   "outputs": [],
   "source": [
    "# Load the TensorBoard notebook extension\n",
    "%load_ext tensorboard\n",
    "from tensorflow.keras.models import Sequential\n",
    "from tensorflow.keras.layers import Conv2D, MaxPooling2D, Flatten, Dense, Dropout, GlobalAveragePooling2D\n",
    "from tensorflow.keras.callbacks import ReduceLROnPlateau\n",
    "from sklearn.metrics import classification_report\n",
    "from sklearn.metrics import confusion_matrix\n",
    "\n",
    "import os"
   ]
  },
  {
   "cell_type": "code",
   "execution_count": 3,
   "metadata": {},
   "outputs": [],
   "source": [
    "classifier = Sequential()\n",
    "\n",
    "#classes = 2\n",
    "\n",
    "#Kernels usually 1x1 | 3x3 | 5x5\n",
    "\n",
    "#Adding a convolutional layer\n",
    "classifier.add(Conv2D(8, (3, 3), input_shape = (150, 150, 3), padding='same', activation = 'relu'))\n",
    "classifier.add(MaxPooling2D(pool_size = (2, 2)))\n",
    "\n",
    "#Adding a second convolutional layer\n",
    "classifier.add(Conv2D(16, (3, 3), padding='same', activation = 'relu'))\n",
    "classifier.add(MaxPooling2D(pool_size = (2, 2)))\n",
    "classifier.add(Dropout(0.30))\n",
    "classifier.add(Conv2D(16, (3, 3), padding='same', activation = 'relu'))\n",
    "classifier.add(MaxPooling2D(pool_size = (2, 2)))\n",
    "#Flattening\n",
    "classifier.add(Flatten())\n",
    "\n",
    "#Full connection\n",
    "classifier.add(Dense(units = 32, activation = 'relu'))\n",
    "classifier.add(Dropout(0.30))\n",
    "classifier.add(Dense(units = 1, activation= 'sigmoid'))"
   ]
  },
  {
   "cell_type": "markdown",
   "metadata": {},
   "source": [
    "Let's double check the model description:"
   ]
  },
  {
   "cell_type": "code",
   "execution_count": 4,
   "metadata": {},
   "outputs": [
    {
     "name": "stdout",
     "output_type": "stream",
     "text": [
      "Model: \"sequential\"\n",
      "_________________________________________________________________\n",
      "Layer (type)                 Output Shape              Param #   \n",
      "=================================================================\n",
      "conv2d (Conv2D)              (None, 150, 150, 8)       224       \n",
      "_________________________________________________________________\n",
      "max_pooling2d (MaxPooling2D) (None, 75, 75, 8)         0         \n",
      "_________________________________________________________________\n",
      "conv2d_1 (Conv2D)            (None, 75, 75, 16)        1168      \n",
      "_________________________________________________________________\n",
      "max_pooling2d_1 (MaxPooling2 (None, 37, 37, 16)        0         \n",
      "_________________________________________________________________\n",
      "dropout (Dropout)            (None, 37, 37, 16)        0         \n",
      "_________________________________________________________________\n",
      "conv2d_2 (Conv2D)            (None, 37, 37, 16)        2320      \n",
      "_________________________________________________________________\n",
      "max_pooling2d_2 (MaxPooling2 (None, 18, 18, 16)        0         \n",
      "_________________________________________________________________\n",
      "flatten (Flatten)            (None, 5184)              0         \n",
      "_________________________________________________________________\n",
      "dense (Dense)                (None, 32)                165920    \n",
      "_________________________________________________________________\n",
      "dropout_1 (Dropout)          (None, 32)                0         \n",
      "_________________________________________________________________\n",
      "dense_1 (Dense)              (None, 1)                 33        \n",
      "=================================================================\n",
      "Total params: 169,665\n",
      "Trainable params: 169,665\n",
      "Non-trainable params: 0\n",
      "_________________________________________________________________\n"
     ]
    }
   ],
   "source": [
    "classifier.summary()"
   ]
  },
  {
   "cell_type": "code",
   "execution_count": 5,
   "metadata": {},
   "outputs": [],
   "source": [
    "from tensorflow.keras.optimizers import Adamax\n",
    "opt = Adamax(learning_rate=0.001)\n",
    "classifier.compile(optimizer = opt, loss = 'binary_crossentropy', metrics = ['accuracy'])"
   ]
  },
  {
   "cell_type": "markdown",
   "metadata": {},
   "source": [
    "### Part 2 - Fitting the CNN to the images\n"
   ]
  },
  {
   "cell_type": "code",
   "execution_count": 6,
   "metadata": {},
   "outputs": [
    {
     "name": "stdout",
     "output_type": "stream",
     "text": [
      "Found 2202 images belonging to 2 classes.\n",
      "Found 550 images belonging to 2 classes.\n"
     ]
    }
   ],
   "source": [
    "from tensorflow.keras.preprocessing.image import ImageDataGenerator\n",
    "\n",
    "path_dir = '../../dataset/train'\n",
    "parth_dir_test = '../../dataset/test'\n",
    "\n",
    "datagen = ImageDataGenerator(\n",
    "                    rescale=1./255,\n",
    "                    validation_split = 0.2)\n",
    "\n",
    "train_generator = datagen.flow_from_directory(\n",
    "    path_dir,\n",
    "    target_size=(150,150),\n",
    "    shuffle=True,\n",
    "    subset='training',\n",
    "    batch_size = 64,\n",
    "    seed = 11,\n",
    "    class_mode = 'binary'\n",
    ")\n",
    "validation_generator = datagen.flow_from_directory(\n",
    "    path_dir,\n",
    "    target_size=(150,150),\n",
    "    subset='validation',\n",
    "    batch_size = 64,\n",
    "    seed = 11,\n",
    "    class_mode = 'binary'\n",
    ")\n"
   ]
  },
  {
   "cell_type": "code",
   "execution_count": 7,
   "metadata": {},
   "outputs": [
    {
     "data": {
      "text/plain": [
       "{'nonviolence': 0, 'violence': 1}"
      ]
     },
     "execution_count": 7,
     "metadata": {},
     "output_type": "execute_result"
    }
   ],
   "source": [
    "train_generator.class_indices"
   ]
  },
  {
   "cell_type": "code",
   "execution_count": 8,
   "metadata": {},
   "outputs": [],
   "source": [
    "from tensorflow.keras.callbacks import EarlyStopping, ModelCheckpoint, TensorBoard\n",
    "import datetime\n",
    "\n",
    "#rm -rf /logs/\n",
    "\n",
    "es = EarlyStopping(monitor='val_loss', patience=25)\n",
    "mc = ModelCheckpoint('best_cnn.h5', monitor='val_loss', mode='min', save_best_only=True)\n",
    "reduceLR = ReduceLROnPlateau(monitor='val_loss', factor=0.1, patience=10)\n",
    "\n",
    "# Create a TensorBoard callback\n",
    "log_dir = \"logs\\\\fit\\\\\" + datetime.datetime.now().strftime(\"%Y%m%d-%H%M%S\")\n",
    "tensorboard_callback = TensorBoard(log_dir=log_dir, histogram_freq=1)"
   ]
  },
  {
   "cell_type": "code",
   "execution_count": 9,
   "metadata": {
    "scrolled": true
   },
   "outputs": [
    {
     "name": "stdout",
     "output_type": "stream",
     "text": [
      "Epoch 1/200\n",
      "35/35 [==============================] - 11s 237ms/step - loss: 0.7004 - accuracy: 0.5064 - val_loss: 0.6912 - val_accuracy: 0.5000\n",
      "Epoch 2/200\n",
      "35/35 [==============================] - 8s 233ms/step - loss: 0.6863 - accuracy: 0.5468 - val_loss: 0.6765 - val_accuracy: 0.5127\n",
      "Epoch 3/200\n",
      "35/35 [==============================] - 9s 245ms/step - loss: 0.6614 - accuracy: 0.6303 - val_loss: 0.6341 - val_accuracy: 0.7455\n",
      "Epoch 4/200\n",
      "35/35 [==============================] - 8s 228ms/step - loss: 0.6152 - accuracy: 0.6807 - val_loss: 0.5658 - val_accuracy: 0.7927\n",
      "Epoch 5/200\n",
      "35/35 [==============================] - 9s 248ms/step - loss: 0.5881 - accuracy: 0.6921 - val_loss: 0.5578 - val_accuracy: 0.7491\n",
      "Epoch 6/200\n",
      "35/35 [==============================] - 8s 225ms/step - loss: 0.5737 - accuracy: 0.7148 - val_loss: 0.5682 - val_accuracy: 0.7018\n",
      "Epoch 7/200\n",
      "35/35 [==============================] - 9s 248ms/step - loss: 0.5556 - accuracy: 0.7284 - val_loss: 0.5129 - val_accuracy: 0.7891\n",
      "Epoch 8/200\n",
      "35/35 [==============================] - 8s 240ms/step - loss: 0.5288 - accuracy: 0.7530 - val_loss: 0.4968 - val_accuracy: 0.8018\n",
      "Epoch 9/200\n",
      "35/35 [==============================] - 8s 226ms/step - loss: 0.5245 - accuracy: 0.7579 - val_loss: 0.4721 - val_accuracy: 0.7982\n",
      "Epoch 10/200\n",
      "35/35 [==============================] - 8s 223ms/step - loss: 0.5046 - accuracy: 0.7707 - val_loss: 0.4590 - val_accuracy: 0.8127\n",
      "Epoch 11/200\n",
      "35/35 [==============================] - 8s 220ms/step - loss: 0.4796 - accuracy: 0.7729 - val_loss: 0.4279 - val_accuracy: 0.8255\n",
      "Epoch 12/200\n",
      "35/35 [==============================] - 8s 223ms/step - loss: 0.4634 - accuracy: 0.8011 - val_loss: 0.4077 - val_accuracy: 0.8455\n",
      "Epoch 13/200\n",
      "35/35 [==============================] - 8s 231ms/step - loss: 0.4569 - accuracy: 0.8025 - val_loss: 0.4079 - val_accuracy: 0.8491\n",
      "Epoch 14/200\n",
      "35/35 [==============================] - 9s 254ms/step - loss: 0.4354 - accuracy: 0.8134 - val_loss: 0.3740 - val_accuracy: 0.8545\n",
      "Epoch 15/200\n",
      "35/35 [==============================] - 9s 264ms/step - loss: 0.4319 - accuracy: 0.8143 - val_loss: 0.3741 - val_accuracy: 0.8691\n",
      "Epoch 16/200\n",
      "35/35 [==============================] - 8s 227ms/step - loss: 0.4357 - accuracy: 0.8211 - val_loss: 0.3484 - val_accuracy: 0.8655\n",
      "Epoch 17/200\n",
      "35/35 [==============================] - 8s 232ms/step - loss: 0.4070 - accuracy: 0.8211 - val_loss: 0.3836 - val_accuracy: 0.8273\n",
      "Epoch 18/200\n",
      "35/35 [==============================] - 8s 222ms/step - loss: 0.4077 - accuracy: 0.8315 - val_loss: 0.3515 - val_accuracy: 0.8818\n",
      "Epoch 19/200\n",
      "35/35 [==============================] - 8s 230ms/step - loss: 0.3972 - accuracy: 0.8302 - val_loss: 0.3426 - val_accuracy: 0.8873\n",
      "Epoch 20/200\n",
      "35/35 [==============================] - 8s 230ms/step - loss: 0.3983 - accuracy: 0.8333 - val_loss: 0.3194 - val_accuracy: 0.8709\n",
      "Epoch 21/200\n",
      "35/35 [==============================] - 8s 227ms/step - loss: 0.3932 - accuracy: 0.8338 - val_loss: 0.3282 - val_accuracy: 0.8818\n",
      "Epoch 22/200\n",
      "35/35 [==============================] - 8s 237ms/step - loss: 0.3969 - accuracy: 0.8356 - val_loss: 0.3337 - val_accuracy: 0.8891\n",
      "Epoch 23/200\n",
      "35/35 [==============================] - 8s 221ms/step - loss: 0.3812 - accuracy: 0.8420 - val_loss: 0.3295 - val_accuracy: 0.8618\n",
      "Epoch 24/200\n",
      "35/35 [==============================] - 8s 224ms/step - loss: 0.3785 - accuracy: 0.8474 - val_loss: 0.3145 - val_accuracy: 0.8927\n",
      "Epoch 25/200\n",
      "35/35 [==============================] - 8s 239ms/step - loss: 0.3716 - accuracy: 0.8529 - val_loss: 0.3301 - val_accuracy: 0.8636\n",
      "Epoch 26/200\n",
      "35/35 [==============================] - 9s 261ms/step - loss: 0.3672 - accuracy: 0.8415 - val_loss: 0.3211 - val_accuracy: 0.8891\n",
      "Epoch 27/200\n",
      "35/35 [==============================] - 8s 235ms/step - loss: 0.3626 - accuracy: 0.8510 - val_loss: 0.3023 - val_accuracy: 0.8782\n",
      "Epoch 28/200\n",
      "35/35 [==============================] - 8s 240ms/step - loss: 0.3634 - accuracy: 0.8560 - val_loss: 0.3124 - val_accuracy: 0.8618\n",
      "Epoch 29/200\n",
      "35/35 [==============================] - 8s 240ms/step - loss: 0.3580 - accuracy: 0.8533 - val_loss: 0.3301 - val_accuracy: 0.8600\n",
      "Epoch 30/200\n",
      "35/35 [==============================] - 8s 232ms/step - loss: 0.3622 - accuracy: 0.8610 - val_loss: 0.3010 - val_accuracy: 0.8745\n",
      "Epoch 31/200\n",
      "35/35 [==============================] - 8s 236ms/step - loss: 0.3459 - accuracy: 0.8615 - val_loss: 0.3368 - val_accuracy: 0.8509\n",
      "Epoch 32/200\n",
      "35/35 [==============================] - 8s 233ms/step - loss: 0.3544 - accuracy: 0.8592 - val_loss: 0.3099 - val_accuracy: 0.8727\n",
      "Epoch 33/200\n",
      "35/35 [==============================] - 9s 245ms/step - loss: 0.3385 - accuracy: 0.8724 - val_loss: 0.3072 - val_accuracy: 0.8764\n",
      "Epoch 34/200\n",
      "35/35 [==============================] - 8s 239ms/step - loss: 0.3371 - accuracy: 0.8665 - val_loss: 0.2860 - val_accuracy: 0.8891\n",
      "Epoch 35/200\n",
      "35/35 [==============================] - 9s 254ms/step - loss: 0.3348 - accuracy: 0.8701 - val_loss: 0.3023 - val_accuracy: 0.8709\n",
      "Epoch 36/200\n",
      "35/35 [==============================] - 9s 244ms/step - loss: 0.3319 - accuracy: 0.8747 - val_loss: 0.3058 - val_accuracy: 0.8673\n",
      "Epoch 37/200\n",
      "35/35 [==============================] - 8s 241ms/step - loss: 0.3365 - accuracy: 0.8706 - val_loss: 0.2932 - val_accuracy: 0.8745\n",
      "Epoch 38/200\n",
      "35/35 [==============================] - 9s 246ms/step - loss: 0.3394 - accuracy: 0.8633 - val_loss: 0.2981 - val_accuracy: 0.8727\n",
      "Epoch 39/200\n",
      "35/35 [==============================] - 8s 233ms/step - loss: 0.3343 - accuracy: 0.8728 - val_loss: 0.2874 - val_accuracy: 0.8855\n",
      "Epoch 40/200\n",
      "35/35 [==============================] - 8s 227ms/step - loss: 0.3197 - accuracy: 0.8751 - val_loss: 0.2992 - val_accuracy: 0.8727\n",
      "Epoch 41/200\n",
      "35/35 [==============================] - 8s 217ms/step - loss: 0.3236 - accuracy: 0.8778 - val_loss: 0.2978 - val_accuracy: 0.8691\n",
      "Epoch 42/200\n",
      "35/35 [==============================] - 8s 217ms/step - loss: 0.3236 - accuracy: 0.8792 - val_loss: 0.3066 - val_accuracy: 0.8655\n",
      "Epoch 43/200\n",
      "35/35 [==============================] - 7s 217ms/step - loss: 0.3188 - accuracy: 0.8769 - val_loss: 0.3069 - val_accuracy: 0.8655\n",
      "Epoch 44/200\n",
      "35/35 [==============================] - 8s 215ms/step - loss: 0.3229 - accuracy: 0.8738 - val_loss: 0.2774 - val_accuracy: 0.8745\n",
      "Epoch 45/200\n",
      "35/35 [==============================] - 7s 214ms/step - loss: 0.3203 - accuracy: 0.8747 - val_loss: 0.2920 - val_accuracy: 0.8655\n",
      "Epoch 46/200\n",
      "35/35 [==============================] - 8s 217ms/step - loss: 0.3056 - accuracy: 0.8810 - val_loss: 0.2921 - val_accuracy: 0.8636\n",
      "Epoch 47/200\n",
      "35/35 [==============================] - 8s 225ms/step - loss: 0.3119 - accuracy: 0.8792 - val_loss: 0.2794 - val_accuracy: 0.8964\n",
      "Epoch 48/200\n",
      "35/35 [==============================] - 8s 215ms/step - loss: 0.3094 - accuracy: 0.8810 - val_loss: 0.2811 - val_accuracy: 0.8745\n",
      "Epoch 49/200\n",
      "35/35 [==============================] - 8s 231ms/step - loss: 0.3120 - accuracy: 0.8787 - val_loss: 0.2665 - val_accuracy: 0.9036\n",
      "Epoch 50/200\n",
      "35/35 [==============================] - 8s 222ms/step - loss: 0.3060 - accuracy: 0.8797 - val_loss: 0.3673 - val_accuracy: 0.8418\n",
      "Epoch 51/200\n",
      "35/35 [==============================] - 8s 228ms/step - loss: 0.3102 - accuracy: 0.8837 - val_loss: 0.2745 - val_accuracy: 0.8655\n",
      "Epoch 52/200\n",
      "35/35 [==============================] - 8s 217ms/step - loss: 0.3036 - accuracy: 0.8842 - val_loss: 0.2885 - val_accuracy: 0.8709\n",
      "Epoch 53/200\n",
      "35/35 [==============================] - 8s 217ms/step - loss: 0.2901 - accuracy: 0.8892 - val_loss: 0.3183 - val_accuracy: 0.8509\n",
      "Epoch 54/200\n",
      "35/35 [==============================] - 9s 247ms/step - loss: 0.2937 - accuracy: 0.8851 - val_loss: 0.2860 - val_accuracy: 0.8618\n",
      "Epoch 55/200\n",
      "35/35 [==============================] - 8s 242ms/step - loss: 0.2888 - accuracy: 0.8887 - val_loss: 0.2802 - val_accuracy: 0.8727\n",
      "Epoch 56/200\n",
      "35/35 [==============================] - 8s 228ms/step - loss: 0.2889 - accuracy: 0.8946 - val_loss: 0.2698 - val_accuracy: 0.8764\n",
      "Epoch 57/200\n",
      "35/35 [==============================] - 8s 232ms/step - loss: 0.2827 - accuracy: 0.8928 - val_loss: 0.2579 - val_accuracy: 0.9000\n"
     ]
    },
    {
     "name": "stdout",
     "output_type": "stream",
     "text": [
      "Epoch 58/200\n",
      "35/35 [==============================] - 8s 228ms/step - loss: 0.2922 - accuracy: 0.8833 - val_loss: 0.2787 - val_accuracy: 0.8818\n",
      "Epoch 59/200\n",
      "35/35 [==============================] - 8s 221ms/step - loss: 0.2817 - accuracy: 0.8833 - val_loss: 0.2899 - val_accuracy: 0.8709\n",
      "Epoch 60/200\n",
      "35/35 [==============================] - 8s 221ms/step - loss: 0.2755 - accuracy: 0.8901 - val_loss: 0.3193 - val_accuracy: 0.8545\n",
      "Epoch 61/200\n",
      "35/35 [==============================] - 8s 222ms/step - loss: 0.2871 - accuracy: 0.8896 - val_loss: 0.2626 - val_accuracy: 0.8855\n",
      "Epoch 62/200\n",
      "35/35 [==============================] - 8s 219ms/step - loss: 0.2715 - accuracy: 0.8996 - val_loss: 0.2660 - val_accuracy: 0.8909\n",
      "Epoch 63/200\n",
      "35/35 [==============================] - 8s 223ms/step - loss: 0.2687 - accuracy: 0.8919 - val_loss: 0.3058 - val_accuracy: 0.8564\n",
      "Epoch 64/200\n",
      "35/35 [==============================] - 8s 217ms/step - loss: 0.2712 - accuracy: 0.8978 - val_loss: 0.3198 - val_accuracy: 0.8491\n",
      "Epoch 65/200\n",
      "35/35 [==============================] - 8s 225ms/step - loss: 0.2673 - accuracy: 0.8978 - val_loss: 0.2889 - val_accuracy: 0.8655\n",
      "Epoch 66/200\n",
      "35/35 [==============================] - 8s 223ms/step - loss: 0.2789 - accuracy: 0.8901 - val_loss: 0.2687 - val_accuracy: 0.8800\n",
      "Epoch 67/200\n",
      "35/35 [==============================] - 9s 249ms/step - loss: 0.2733 - accuracy: 0.8919 - val_loss: 0.2955 - val_accuracy: 0.8600\n",
      "Epoch 68/200\n",
      "35/35 [==============================] - 8s 220ms/step - loss: 0.2474 - accuracy: 0.9110 - val_loss: 0.2832 - val_accuracy: 0.8655\n",
      "Epoch 69/200\n",
      "35/35 [==============================] - 8s 220ms/step - loss: 0.2469 - accuracy: 0.9078 - val_loss: 0.2819 - val_accuracy: 0.8636\n",
      "Epoch 70/200\n",
      "35/35 [==============================] - 8s 235ms/step - loss: 0.2462 - accuracy: 0.9005 - val_loss: 0.2831 - val_accuracy: 0.8636\n",
      "Epoch 71/200\n",
      "35/35 [==============================] - 8s 226ms/step - loss: 0.2465 - accuracy: 0.9051 - val_loss: 0.2795 - val_accuracy: 0.8655\n",
      "Epoch 72/200\n",
      "35/35 [==============================] - 8s 241ms/step - loss: 0.2477 - accuracy: 0.9001 - val_loss: 0.2928 - val_accuracy: 0.8673\n",
      "Epoch 73/200\n",
      "35/35 [==============================] - 9s 245ms/step - loss: 0.2530 - accuracy: 0.9005 - val_loss: 0.2821 - val_accuracy: 0.8655\n",
      "Epoch 74/200\n",
      "35/35 [==============================] - 8s 240ms/step - loss: 0.2565 - accuracy: 0.9028 - val_loss: 0.2846 - val_accuracy: 0.8655\n",
      "Epoch 75/200\n",
      "35/35 [==============================] - 8s 239ms/step - loss: 0.2439 - accuracy: 0.9137 - val_loss: 0.2781 - val_accuracy: 0.8636\n",
      "Epoch 76/200\n",
      "35/35 [==============================] - 9s 250ms/step - loss: 0.2441 - accuracy: 0.9064 - val_loss: 0.2862 - val_accuracy: 0.8655\n",
      "Epoch 77/200\n",
      "35/35 [==============================] - 9s 246ms/step - loss: 0.2559 - accuracy: 0.8992 - val_loss: 0.2809 - val_accuracy: 0.8655\n",
      "Epoch 78/200\n",
      "35/35 [==============================] - 8s 242ms/step - loss: 0.2558 - accuracy: 0.9024 - val_loss: 0.2841 - val_accuracy: 0.8636\n",
      "Epoch 79/200\n",
      "35/35 [==============================] - 9s 261ms/step - loss: 0.2484 - accuracy: 0.9055 - val_loss: 0.2850 - val_accuracy: 0.8636\n",
      "Epoch 80/200\n",
      "35/35 [==============================] - 8s 239ms/step - loss: 0.2560 - accuracy: 0.9033 - val_loss: 0.2862 - val_accuracy: 0.8636\n",
      "Epoch 81/200\n",
      "35/35 [==============================] - 8s 229ms/step - loss: 0.2539 - accuracy: 0.9046 - val_loss: 0.2864 - val_accuracy: 0.8655\n",
      "Epoch 82/200\n",
      "35/35 [==============================] - 8s 223ms/step - loss: 0.2440 - accuracy: 0.9101 - val_loss: 0.2855 - val_accuracy: 0.8636\n"
     ]
    },
    {
     "data": {
      "text/plain": [
       "<tensorflow.python.keras.callbacks.History at 0x1995ce81b50>"
      ]
     },
     "execution_count": 9,
     "metadata": {},
     "output_type": "execute_result"
    }
   ],
   "source": [
    "classifier.fit(train_generator,\n",
    "                         epochs = 200,\n",
    "                         callbacks = [tensorboard_callback,es,mc,reduceLR],\n",
    "                         validation_data = validation_generator\n",
    "                         )"
   ]
  },
  {
   "cell_type": "code",
   "execution_count": 10,
   "metadata": {},
   "outputs": [],
   "source": [
    "#Overfitting -> Your training accuracy will be higher than the accuracy on the validation/test set\n",
    "\n",
    "#Overfitting indicates that your model is too complex for the problem that it is solving,\n",
    "#filters in the case of Convolutional Neural Networks, and layers in the case of overall Deep Learning Models\n",
    "\n",
    "#How do you know if your model is underfitting? Your model is underfitting if the accuracy on the validation set \n",
    "#is higher than the accuracy on the training set. Additionally, \n",
    "#if the whole model performs bad this is also called underfitting.\n",
    "\n",
    "#https://towardsdatascience.com/deep-learning-3-more-on-cnns-handling-overfitting-2bd5d99abe5d"
   ]
  },
  {
   "cell_type": "code",
   "execution_count": 11,
   "metadata": {},
   "outputs": [
    {
     "data": {
      "text/html": [
       "\n",
       "      <iframe id=\"tensorboard-frame-babe5cf39b3ce066\" width=\"100%\" height=\"800\" frameborder=\"0\">\n",
       "      </iframe>\n",
       "      <script>\n",
       "        (function() {\n",
       "          const frame = document.getElementById(\"tensorboard-frame-babe5cf39b3ce066\");\n",
       "          const url = new URL(\"/\", window.location);\n",
       "          const port = 6006;\n",
       "          if (port) {\n",
       "            url.port = port;\n",
       "          }\n",
       "          frame.src = url;\n",
       "        })();\n",
       "      </script>\n",
       "    "
      ],
      "text/plain": [
       "<IPython.core.display.HTML object>"
      ]
     },
     "metadata": {},
     "output_type": "display_data"
    }
   ],
   "source": [
    "%tensorboard --logdir logs/fit"
   ]
  },
  {
   "cell_type": "markdown",
   "metadata": {},
   "source": [
    "# Part 3 test the CNN"
   ]
  },
  {
   "cell_type": "code",
   "execution_count": 12,
   "metadata": {},
   "outputs": [],
   "source": [
    "# Load Model\n",
    "classifier.load_weights('best_cnn.h5')"
   ]
  },
  {
   "cell_type": "code",
   "execution_count": 13,
   "metadata": {},
   "outputs": [
    {
     "name": "stdout",
     "output_type": "stream",
     "text": [
      "Model: \"sequential\"\n",
      "_________________________________________________________________\n",
      "Layer (type)                 Output Shape              Param #   \n",
      "=================================================================\n",
      "conv2d (Conv2D)              (None, 150, 150, 8)       224       \n",
      "_________________________________________________________________\n",
      "max_pooling2d (MaxPooling2D) (None, 75, 75, 8)         0         \n",
      "_________________________________________________________________\n",
      "conv2d_1 (Conv2D)            (None, 75, 75, 16)        1168      \n",
      "_________________________________________________________________\n",
      "max_pooling2d_1 (MaxPooling2 (None, 37, 37, 16)        0         \n",
      "_________________________________________________________________\n",
      "dropout (Dropout)            (None, 37, 37, 16)        0         \n",
      "_________________________________________________________________\n",
      "conv2d_2 (Conv2D)            (None, 37, 37, 16)        2320      \n",
      "_________________________________________________________________\n",
      "max_pooling2d_2 (MaxPooling2 (None, 18, 18, 16)        0         \n",
      "_________________________________________________________________\n",
      "flatten (Flatten)            (None, 5184)              0         \n",
      "_________________________________________________________________\n",
      "dense (Dense)                (None, 32)                165920    \n",
      "_________________________________________________________________\n",
      "dropout_1 (Dropout)          (None, 32)                0         \n",
      "_________________________________________________________________\n",
      "dense_1 (Dense)              (None, 1)                 33        \n",
      "=================================================================\n",
      "Total params: 169,665\n",
      "Trainable params: 169,665\n",
      "Non-trainable params: 0\n",
      "_________________________________________________________________\n"
     ]
    }
   ],
   "source": [
    "classifier.summary()"
   ]
  },
  {
   "cell_type": "code",
   "execution_count": 14,
   "metadata": {},
   "outputs": [
    {
     "name": "stdout",
     "output_type": "stream",
     "text": [
      "Found 688 images belonging to 2 classes.\n",
      "Test Loss 0.2876919209957123\n",
      "Test accuracy 0.895348846912384\n"
     ]
    }
   ],
   "source": [
    "test_set = datagen.flow_from_directory(parth_dir_test,\n",
    "                                        target_size= (150,150),\n",
    "                                        batch_size = 64,\n",
    "                                        seed = 11,\n",
    "                                        class_mode = 'binary',\n",
    "                                        shuffle=False)\n",
    "\n",
    "score = classifier.evaluate(test_set, verbose=0)\n",
    "\n",
    "print('Test Loss', score[0])\n",
    "print('Test accuracy', score[1])"
   ]
  },
  {
   "cell_type": "code",
   "execution_count": 15,
   "metadata": {},
   "outputs": [
    {
     "data": {
      "text/plain": [
       "array([0, 0, 0, 0, 0, 0, 0, 0, 0, 0, 0, 0, 0, 0, 0, 0, 0, 0, 0, 0, 0, 0,\n",
       "       0, 0, 0, 0, 0, 0, 0, 0, 0, 0, 0, 0, 0, 0, 0, 0, 0, 0, 0, 0, 0, 0,\n",
       "       0, 0, 0, 0, 0, 0, 0, 0, 0, 0, 0, 0, 0, 0, 0, 0, 0, 0, 0, 0, 0, 0,\n",
       "       0, 0, 0, 0, 0, 0, 0, 0, 0, 0, 0, 0, 0, 0, 0, 0, 0, 0, 0, 0, 0, 0,\n",
       "       0, 0, 0, 0, 0, 0, 0, 0, 0, 0, 0, 0, 0, 0, 0, 0, 0, 0, 0, 0, 0, 0,\n",
       "       0, 0, 0, 0, 0, 0, 0, 0, 0, 0, 0, 0, 0, 0, 0, 0, 0, 0, 0, 0, 0, 0,\n",
       "       0, 0, 0, 0, 0, 0, 0, 0, 0, 0, 0, 0, 0, 0, 0, 0, 0, 0, 0, 0, 0, 0,\n",
       "       0, 0, 0, 0, 0, 0, 0, 0, 0, 0, 0, 0, 0, 0, 0, 0, 0, 0, 0, 0, 0, 0,\n",
       "       0, 0, 0, 0, 0, 0, 0, 0, 0, 0, 0, 0, 0, 0, 0, 0, 0, 0, 0, 0, 0, 0,\n",
       "       0, 0, 0, 0, 0, 0, 0, 0, 0, 0, 0, 0, 0, 0, 0, 0, 0, 0, 0, 0, 0, 0,\n",
       "       0, 0, 0, 0, 0, 0, 0, 0, 0, 0, 0, 0, 0, 0, 0, 0, 0, 0, 0, 0, 0, 0,\n",
       "       0, 0, 0, 0, 0, 0, 0, 0, 0, 0, 0, 0, 0, 0, 0, 0, 0, 0, 0, 0, 0, 0,\n",
       "       0, 0, 0, 0, 0, 0, 0, 0, 0, 0, 0, 0, 0, 0, 0, 0, 0, 0, 0, 0, 0, 0,\n",
       "       0, 0, 0, 0, 0, 0, 0, 0, 0, 0, 0, 0, 0, 0, 0, 0, 0, 0, 0, 0, 0, 0,\n",
       "       0, 0, 0, 0, 0, 0, 0, 0, 0, 0, 0, 0, 0, 0, 0, 0, 0, 0, 0, 0, 0, 0,\n",
       "       0, 0, 0, 0, 0, 0, 0, 0, 0, 0, 0, 0, 0, 0, 1, 1, 1, 1, 1, 1, 1, 1,\n",
       "       1, 1, 1, 1, 1, 1, 1, 1, 1, 1, 1, 1, 1, 1, 1, 1, 1, 1, 1, 1, 1, 1,\n",
       "       1, 1, 1, 1, 1, 1, 1, 1, 1, 1, 1, 1, 1, 1, 1, 1, 1, 1, 1, 1, 1, 1,\n",
       "       1, 1, 1, 1, 1, 1, 1, 1, 1, 1, 1, 1, 1, 1, 1, 1, 1, 1, 1, 1, 1, 1,\n",
       "       1, 1, 1, 1, 1, 1, 1, 1, 1, 1, 1, 1, 1, 1, 1, 1, 1, 1, 1, 1, 1, 1,\n",
       "       1, 1, 1, 1, 1, 1, 1, 1, 1, 1, 1, 1, 1, 1, 1, 1, 1, 1, 1, 1, 1, 1,\n",
       "       1, 1, 1, 1, 1, 1, 1, 1, 1, 1, 1, 1, 1, 1, 1, 1, 1, 1, 1, 1, 1, 1,\n",
       "       1, 1, 1, 1, 1, 1, 1, 1, 1, 1, 1, 1, 1, 1, 1, 1, 1, 1, 1, 1, 1, 1,\n",
       "       1, 1, 1, 1, 1, 1, 1, 1, 1, 1, 1, 1, 1, 1, 1, 1, 1, 1, 1, 1, 1, 1,\n",
       "       1, 1, 1, 1, 1, 1, 1, 1, 1, 1, 1, 1, 1, 1, 1, 1, 1, 1, 1, 1, 1, 1,\n",
       "       1, 1, 1, 1, 1, 1, 1, 1, 1, 1, 1, 1, 1, 1, 1, 1, 1, 1, 1, 1, 1, 1,\n",
       "       1, 1, 1, 1, 1, 1, 1, 1, 1, 1, 1, 1, 1, 1, 1, 1, 1, 1, 1, 1, 1, 1,\n",
       "       1, 1, 1, 1, 1, 1, 1, 1, 1, 1, 1, 1, 1, 1, 1, 1, 1, 1, 1, 1, 1, 1,\n",
       "       1, 1, 1, 1, 1, 1, 1, 1, 1, 1, 1, 1, 1, 1, 1, 1, 1, 1, 1, 1, 1, 1,\n",
       "       1, 1, 1, 1, 1, 1, 1, 1, 1, 1, 1, 1, 1, 1, 1, 1, 1, 1, 1, 1, 1, 1,\n",
       "       1, 1, 1, 1, 1, 1, 1, 1, 1, 1, 1, 1, 1, 1, 1, 1, 1, 1, 1, 1, 1, 1,\n",
       "       1, 1, 1, 1, 1, 1])"
      ]
     },
     "execution_count": 15,
     "metadata": {},
     "output_type": "execute_result"
    }
   ],
   "source": [
    "test_set.classes"
   ]
  },
  {
   "cell_type": "code",
   "execution_count": 16,
   "metadata": {},
   "outputs": [
    {
     "name": "stderr",
     "output_type": "stream",
     "text": [
      "C:\\Users\\bruno\\anaconda3\\envs\\gpu\\lib\\site-packages\\tensorflow\\python\\keras\\engine\\sequential.py:455: UserWarning: `model.predict_classes()` is deprecated and will be removed after 2021-01-01. Please use instead:* `np.argmax(model.predict(x), axis=-1)`,   if your model does multi-class classification   (e.g. if it uses a `softmax` last-layer activation).* `(model.predict(x) > 0.5).astype(\"int32\")`,   if your model does binary classification   (e.g. if it uses a `sigmoid` last-layer activation).\n",
      "  warnings.warn('`model.predict_classes()` is deprecated and '\n"
     ]
    },
    {
     "name": "stdout",
     "output_type": "stream",
     "text": [
      "              precision    recall  f1-score   support\n",
      "\n",
      "           0       0.89      0.90      0.90       344\n",
      "           1       0.90      0.89      0.89       344\n",
      "\n",
      "    accuracy                           0.90       688\n",
      "   macro avg       0.90      0.90      0.90       688\n",
      "weighted avg       0.90      0.90      0.90       688\n",
      "\n"
     ]
    }
   ],
   "source": [
    "import numpy as np\n",
    "from sklearn.metrics import classification_report, confusion_matrix\n",
    "from sklearn.metrics import accuracy_score\n",
    "\n",
    "yhat_classes = classifier.predict_classes(test_set, verbose=0)\n",
    "yhat_classes = yhat_classes[:, 0]\n",
    "\n",
    "print(classification_report(test_set.classes,yhat_classes))"
   ]
  }
 ],
 "metadata": {
  "kernelspec": {
   "display_name": "Python 3 (ipykernel)",
   "language": "python",
   "name": "python3"
  },
  "language_info": {
   "codemirror_mode": {
    "name": "ipython",
    "version": 3
   },
   "file_extension": ".py",
   "mimetype": "text/x-python",
   "name": "python",
   "nbconvert_exporter": "python",
   "pygments_lexer": "ipython3",
   "version": "3.8.13"
  }
 },
 "nbformat": 4,
 "nbformat_minor": 4
}
