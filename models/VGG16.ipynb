{
 "cells": [
  {
   "cell_type": "markdown",
   "metadata": {},
   "source": [
    "# Convolutional Neural Network\n",
    "\n",
    "### Part 1 - Building the CNN\n",
    "\n",
    "#### Importing the Tensorflow libraries and packages"
   ]
  },
  {
   "cell_type": "code",
   "execution_count": 1,
   "metadata": {},
   "outputs": [
    {
     "name": "stdout",
     "output_type": "stream",
     "text": [
      "Tensor Flow Version: 2.6.0\n",
      "Keras Version: 2.6.0\n",
      "\n",
      "Python 3.8.0 (default, Nov  6 2019, 16:00:02) [MSC v.1916 64 bit (AMD64)]\n",
      "Pandas 1.2.5\n",
      "Scikit-Learn 1.0.2\n",
      "GPU is available\n"
     ]
    }
   ],
   "source": [
    "import sys\n",
    "\n",
    "import tensorflow.keras\n",
    "import pandas as pd\n",
    "import sklearn as sk\n",
    "import tensorflow as tf\n",
    "\n",
    "print(f\"Tensor Flow Version: {tf.__version__}\")\n",
    "print(f\"Keras Version: {tensorflow.keras.__version__}\")\n",
    "print()\n",
    "print(f\"Python {sys.version}\")\n",
    "print(f\"Pandas {pd.__version__}\")\n",
    "print(f\"Scikit-Learn {sk.__version__}\")\n",
    "gpu = len(tf.config.list_physical_devices('GPU'))>0\n",
    "print(\"GPU is\", \"available\" if gpu else \"NOT AVAILABLE\")"
   ]
  },
  {
   "cell_type": "code",
   "execution_count": 2,
   "metadata": {},
   "outputs": [],
   "source": [
    "# Load the TensorBoard notebook extension\n",
    "%load_ext tensorboard\n",
    "from tensorflow.keras.models import Sequential\n",
    "from tensorflow.keras.layers import Conv2D, MaxPooling2D, Flatten, Dense, Dropout\n",
    "\n",
    "import os"
   ]
  },
  {
   "cell_type": "markdown",
   "metadata": {},
   "source": [
    "##  VGG16"
   ]
  },
  {
   "cell_type": "code",
   "execution_count": 3,
   "metadata": {},
   "outputs": [
    {
     "name": "stdout",
     "output_type": "stream",
     "text": [
      "Model: \"vgg16\"\n",
      "_________________________________________________________________\n",
      "Layer (type)                 Output Shape              Param #   \n",
      "=================================================================\n",
      "input_1 (InputLayer)         [(None, None, None, 3)]   0         \n",
      "_________________________________________________________________\n",
      "block1_conv1 (Conv2D)        (None, None, None, 64)    1792      \n",
      "_________________________________________________________________\n",
      "block1_conv2 (Conv2D)        (None, None, None, 64)    36928     \n",
      "_________________________________________________________________\n",
      "block1_pool (MaxPooling2D)   (None, None, None, 64)    0         \n",
      "_________________________________________________________________\n",
      "block2_conv1 (Conv2D)        (None, None, None, 128)   73856     \n",
      "_________________________________________________________________\n",
      "block2_conv2 (Conv2D)        (None, None, None, 128)   147584    \n",
      "_________________________________________________________________\n",
      "block2_pool (MaxPooling2D)   (None, None, None, 128)   0         \n",
      "_________________________________________________________________\n",
      "block3_conv1 (Conv2D)        (None, None, None, 256)   295168    \n",
      "_________________________________________________________________\n",
      "block3_conv2 (Conv2D)        (None, None, None, 256)   590080    \n",
      "_________________________________________________________________\n",
      "block3_conv3 (Conv2D)        (None, None, None, 256)   590080    \n",
      "_________________________________________________________________\n",
      "block3_pool (MaxPooling2D)   (None, None, None, 256)   0         \n",
      "_________________________________________________________________\n",
      "block4_conv1 (Conv2D)        (None, None, None, 512)   1180160   \n",
      "_________________________________________________________________\n",
      "block4_conv2 (Conv2D)        (None, None, None, 512)   2359808   \n",
      "_________________________________________________________________\n",
      "block4_conv3 (Conv2D)        (None, None, None, 512)   2359808   \n",
      "_________________________________________________________________\n",
      "block4_pool (MaxPooling2D)   (None, None, None, 512)   0         \n",
      "_________________________________________________________________\n",
      "block5_conv1 (Conv2D)        (None, None, None, 512)   2359808   \n",
      "_________________________________________________________________\n",
      "block5_conv2 (Conv2D)        (None, None, None, 512)   2359808   \n",
      "_________________________________________________________________\n",
      "block5_conv3 (Conv2D)        (None, None, None, 512)   2359808   \n",
      "_________________________________________________________________\n",
      "block5_pool (MaxPooling2D)   (None, None, None, 512)   0         \n",
      "=================================================================\n",
      "Total params: 14,714,688\n",
      "Trainable params: 14,714,688\n",
      "Non-trainable params: 0\n",
      "_________________________________________________________________\n"
     ]
    }
   ],
   "source": [
    "import tensorflow.keras as keras\n",
    "\n",
    "vgg16 = keras.applications.vgg16\n",
    "conv_model = vgg16.VGG16(weights='imagenet', include_top=False)\n",
    "conv_model.summary()"
   ]
  },
  {
   "cell_type": "code",
   "execution_count": 4,
   "metadata": {},
   "outputs": [],
   "source": [
    "import matplotlib.pyplot as plt\n",
    "def plot_history(history, yrange):\n",
    "    '''Plot loss and accuracy as a function of the epoch,\n",
    "    for the training and validation datasets.\n",
    "    '''\n",
    "    acc = history.history['acc']\n",
    "    val_acc = history.history['val_acc']\n",
    "    loss = history.history['loss']\n",
    "    val_loss = history.history['val_loss']\n",
    "\n",
    "    # Get number of epochs\n",
    "    epochs = range(len(acc))\n",
    "\n",
    "    # Plot training and validation accuracy per epoch\n",
    "    plt.plot(epochs, acc)\n",
    "    plt.plot(epochs, val_acc)\n",
    "    plt.title('Training and validation accuracy')\n",
    "    plt.ylim(yrange)\n",
    "    \n",
    "    # Plot training and validation loss per epoch\n",
    "    plt.figure()\n",
    "\n",
    "    plt.plot(epochs, loss)\n",
    "    plt.plot(epochs, val_loss)\n",
    "    plt.title('Training and validation loss')\n",
    "    \n",
    "    plt.show()"
   ]
  },
  {
   "cell_type": "code",
   "execution_count": 5,
   "metadata": {},
   "outputs": [],
   "source": [
    "from tensorflow.keras.preprocessing.image import ImageDataGenerator\n",
    "\n",
    "batch_size = 32\n",
    "\n",
    "def generators(shape, preprocessing): \n",
    "    '''Create the training and validation datasets for \n",
    "    a given image shape.\n",
    "    '''\n",
    "    path_dir = '../dataset_mel_final/train'\n",
    "    parth_dir_test = '../dataset_mel_final/test'\n",
    "\n",
    "    datagen = ImageDataGenerator(\n",
    "                    rescale=1./255,\n",
    "                    validation_split = 0.2)\n",
    "\n",
    "    train_dataset = datagen.flow_from_directory(\n",
    "        path_dir,\n",
    "        target_size=(224,224),\n",
    "        shuffle=True,\n",
    "        subset='training',\n",
    "        batch_size = 64,\n",
    "        class_mode = 'binary'\n",
    "    )\n",
    "    \n",
    "    val_dataset = datagen.flow_from_directory(\n",
    "        path_dir,\n",
    "        target_size=(224,224),\n",
    "        subset='validation',\n",
    "        batch_size = 64,\n",
    "        class_mode = 'binary'\n",
    "    )\n",
    "\n",
    "    test_dataset = datagen.flow_from_directory(parth_dir_test,\n",
    "                                        target_size=(224,224),\n",
    "                                        batch_size =64,\n",
    "                                        class_mode = 'binary')\n",
    "    return train_dataset, val_dataset, test_dataset"
   ]
  },
  {
   "cell_type": "code",
   "execution_count": 6,
   "metadata": {},
   "outputs": [
    {
     "name": "stdout",
     "output_type": "stream",
     "text": [
      "Found 1102 images belonging to 2 classes.\n",
      "Found 274 images belonging to 2 classes.\n",
      "Found 344 images belonging to 2 classes.\n"
     ]
    }
   ],
   "source": [
    "train_dataset, val_dataset, test_dataset = generators((224,224), preprocessing=vgg16.preprocess_input)"
   ]
  },
  {
   "cell_type": "code",
   "execution_count": 7,
   "metadata": {},
   "outputs": [],
   "source": [
    "conv_model = vgg16.VGG16(weights='imagenet', include_top=False, input_shape=(224,224,3))"
   ]
  },
  {
   "cell_type": "code",
   "execution_count": 8,
   "metadata": {},
   "outputs": [
    {
     "name": "stdout",
     "output_type": "stream",
     "text": [
      "Model: \"model\"\n",
      "_________________________________________________________________\n",
      "Layer (type)                 Output Shape              Param #   \n",
      "=================================================================\n",
      "input_2 (InputLayer)         [(None, 224, 224, 3)]     0         \n",
      "_________________________________________________________________\n",
      "block1_conv1 (Conv2D)        (None, 224, 224, 64)      1792      \n",
      "_________________________________________________________________\n",
      "block1_conv2 (Conv2D)        (None, 224, 224, 64)      36928     \n",
      "_________________________________________________________________\n",
      "block1_pool (MaxPooling2D)   (None, 112, 112, 64)      0         \n",
      "_________________________________________________________________\n",
      "block2_conv1 (Conv2D)        (None, 112, 112, 128)     73856     \n",
      "_________________________________________________________________\n",
      "block2_conv2 (Conv2D)        (None, 112, 112, 128)     147584    \n",
      "_________________________________________________________________\n",
      "block2_pool (MaxPooling2D)   (None, 56, 56, 128)       0         \n",
      "_________________________________________________________________\n",
      "block3_conv1 (Conv2D)        (None, 56, 56, 256)       295168    \n",
      "_________________________________________________________________\n",
      "block3_conv2 (Conv2D)        (None, 56, 56, 256)       590080    \n",
      "_________________________________________________________________\n",
      "block3_conv3 (Conv2D)        (None, 56, 56, 256)       590080    \n",
      "_________________________________________________________________\n",
      "block3_pool (MaxPooling2D)   (None, 28, 28, 256)       0         \n",
      "_________________________________________________________________\n",
      "block4_conv1 (Conv2D)        (None, 28, 28, 512)       1180160   \n",
      "_________________________________________________________________\n",
      "block4_conv2 (Conv2D)        (None, 28, 28, 512)       2359808   \n",
      "_________________________________________________________________\n",
      "block4_conv3 (Conv2D)        (None, 28, 28, 512)       2359808   \n",
      "_________________________________________________________________\n",
      "block4_pool (MaxPooling2D)   (None, 14, 14, 512)       0         \n",
      "_________________________________________________________________\n",
      "block5_conv1 (Conv2D)        (None, 14, 14, 512)       2359808   \n",
      "_________________________________________________________________\n",
      "block5_conv2 (Conv2D)        (None, 14, 14, 512)       2359808   \n",
      "_________________________________________________________________\n",
      "block5_conv3 (Conv2D)        (None, 14, 14, 512)       2359808   \n",
      "_________________________________________________________________\n",
      "block5_pool (MaxPooling2D)   (None, 7, 7, 512)         0         \n",
      "_________________________________________________________________\n",
      "flatten (Flatten)            (None, 25088)             0         \n",
      "_________________________________________________________________\n",
      "dense (Dense)                (None, 16)                401424    \n",
      "_________________________________________________________________\n",
      "dense_1 (Dense)              (None, 32)                544       \n",
      "_________________________________________________________________\n",
      "dense_2 (Dense)              (None, 1)                 33        \n",
      "=================================================================\n",
      "Total params: 15,116,689\n",
      "Trainable params: 15,116,689\n",
      "Non-trainable params: 0\n",
      "_________________________________________________________________\n"
     ]
    }
   ],
   "source": [
    "# flatten the output of the convolutional part: \n",
    "x = keras.layers.Flatten()(conv_model.output)\n",
    "# three hidden layers\n",
    "x = keras.layers.Dense(16, activation='relu')(x)\n",
    "x = keras.layers.Dense(32, activation='relu')(x)\n",
    "\n",
    "# final softmax layer with 250 categories\n",
    "predictions = keras.layers.Dense(1, activation='sigmoid')(x)\n",
    "\n",
    "# creating the full model:\n",
    "full_model = keras.models.Model(inputs=conv_model.input, outputs=predictions)\n",
    "full_model.summary()"
   ]
  },
  {
   "cell_type": "code",
   "execution_count": 9,
   "metadata": {},
   "outputs": [],
   "source": [
    "for layer in conv_model.layers:\n",
    "    layer.trainable = False"
   ]
  },
  {
   "cell_type": "code",
   "execution_count": 10,
   "metadata": {},
   "outputs": [
    {
     "name": "stdout",
     "output_type": "stream",
     "text": [
      "Model: \"model\"\n",
      "_________________________________________________________________\n",
      "Layer (type)                 Output Shape              Param #   \n",
      "=================================================================\n",
      "input_2 (InputLayer)         [(None, 224, 224, 3)]     0         \n",
      "_________________________________________________________________\n",
      "block1_conv1 (Conv2D)        (None, 224, 224, 64)      1792      \n",
      "_________________________________________________________________\n",
      "block1_conv2 (Conv2D)        (None, 224, 224, 64)      36928     \n",
      "_________________________________________________________________\n",
      "block1_pool (MaxPooling2D)   (None, 112, 112, 64)      0         \n",
      "_________________________________________________________________\n",
      "block2_conv1 (Conv2D)        (None, 112, 112, 128)     73856     \n",
      "_________________________________________________________________\n",
      "block2_conv2 (Conv2D)        (None, 112, 112, 128)     147584    \n",
      "_________________________________________________________________\n",
      "block2_pool (MaxPooling2D)   (None, 56, 56, 128)       0         \n",
      "_________________________________________________________________\n",
      "block3_conv1 (Conv2D)        (None, 56, 56, 256)       295168    \n",
      "_________________________________________________________________\n",
      "block3_conv2 (Conv2D)        (None, 56, 56, 256)       590080    \n",
      "_________________________________________________________________\n",
      "block3_conv3 (Conv2D)        (None, 56, 56, 256)       590080    \n",
      "_________________________________________________________________\n",
      "block3_pool (MaxPooling2D)   (None, 28, 28, 256)       0         \n",
      "_________________________________________________________________\n",
      "block4_conv1 (Conv2D)        (None, 28, 28, 512)       1180160   \n",
      "_________________________________________________________________\n",
      "block4_conv2 (Conv2D)        (None, 28, 28, 512)       2359808   \n",
      "_________________________________________________________________\n",
      "block4_conv3 (Conv2D)        (None, 28, 28, 512)       2359808   \n",
      "_________________________________________________________________\n",
      "block4_pool (MaxPooling2D)   (None, 14, 14, 512)       0         \n",
      "_________________________________________________________________\n",
      "block5_conv1 (Conv2D)        (None, 14, 14, 512)       2359808   \n",
      "_________________________________________________________________\n",
      "block5_conv2 (Conv2D)        (None, 14, 14, 512)       2359808   \n",
      "_________________________________________________________________\n",
      "block5_conv3 (Conv2D)        (None, 14, 14, 512)       2359808   \n",
      "_________________________________________________________________\n",
      "block5_pool (MaxPooling2D)   (None, 7, 7, 512)         0         \n",
      "_________________________________________________________________\n",
      "flatten (Flatten)            (None, 25088)             0         \n",
      "_________________________________________________________________\n",
      "dense (Dense)                (None, 16)                401424    \n",
      "_________________________________________________________________\n",
      "dense_1 (Dense)              (None, 32)                544       \n",
      "_________________________________________________________________\n",
      "dense_2 (Dense)              (None, 1)                 33        \n",
      "=================================================================\n",
      "Total params: 15,116,689\n",
      "Trainable params: 402,001\n",
      "Non-trainable params: 14,714,688\n",
      "_________________________________________________________________\n"
     ]
    }
   ],
   "source": [
    "full_model.summary()"
   ]
  },
  {
   "cell_type": "code",
   "execution_count": 11,
   "metadata": {},
   "outputs": [
    {
     "name": "stderr",
     "output_type": "stream",
     "text": [
      "C:\\Users\\bruno\\anaconda3\\envs\\gpu\\lib\\site-packages\\tensorflow\\python\\keras\\optimizer_v2\\optimizer_v2.py:374: UserWarning: The `lr` argument is deprecated, use `learning_rate` instead.\n",
      "  warnings.warn(\n"
     ]
    }
   ],
   "source": [
    "full_model.compile(loss='binary_crossentropy',\n",
    "                  optimizer=keras.optimizers.Adamax(lr=0.001),\n",
    "                  metrics=['acc'])"
   ]
  },
  {
   "cell_type": "code",
   "execution_count": 13,
   "metadata": {},
   "outputs": [
    {
     "name": "stdout",
     "output_type": "stream",
     "text": [
      "Epoch 1/50\n",
      "18/18 [==============================] - 7s 414ms/step - loss: 0.4382 - acc: 0.8539 - val_loss: 0.3047 - val_acc: 0.9453\n",
      "Epoch 2/50\n",
      "18/18 [==============================] - 5s 277ms/step - loss: 0.2815 - acc: 0.9138 - val_loss: 0.2239 - val_acc: 0.9343\n",
      "Epoch 3/50\n",
      "18/18 [==============================] - 6s 341ms/step - loss: 0.2252 - acc: 0.9220 - val_loss: 0.1853 - val_acc: 0.9453\n",
      "Epoch 4/50\n",
      "18/18 [==============================] - 6s 304ms/step - loss: 0.1971 - acc: 0.9310 - val_loss: 0.1704 - val_acc: 0.9489\n",
      "Epoch 5/50\n",
      "18/18 [==============================] - 5s 294ms/step - loss: 0.1882 - acc: 0.9328 - val_loss: 0.1709 - val_acc: 0.9526\n",
      "Epoch 6/50\n",
      "18/18 [==============================] - 5s 290ms/step - loss: 0.1817 - acc: 0.9356 - val_loss: 0.1598 - val_acc: 0.9453\n",
      "Epoch 7/50\n",
      "18/18 [==============================] - 5s 294ms/step - loss: 0.1784 - acc: 0.9301 - val_loss: 0.1542 - val_acc: 0.9526\n",
      "Epoch 8/50\n",
      "18/18 [==============================] - 5s 284ms/step - loss: 0.1649 - acc: 0.9283 - val_loss: 0.1630 - val_acc: 0.9380\n",
      "Epoch 9/50\n",
      "18/18 [==============================] - 5s 311ms/step - loss: 0.1632 - acc: 0.9347 - val_loss: 0.1496 - val_acc: 0.9453\n",
      "Epoch 10/50\n",
      "18/18 [==============================] - 6s 310ms/step - loss: 0.1526 - acc: 0.9456 - val_loss: 0.1435 - val_acc: 0.9489\n",
      "Epoch 11/50\n",
      "18/18 [==============================] - 6s 298ms/step - loss: 0.1400 - acc: 0.9501 - val_loss: 0.1386 - val_acc: 0.9489\n",
      "Epoch 12/50\n",
      "18/18 [==============================] - 5s 294ms/step - loss: 0.1446 - acc: 0.9465 - val_loss: 0.1796 - val_acc: 0.9234\n",
      "Epoch 13/50\n",
      "18/18 [==============================] - 5s 299ms/step - loss: 0.1396 - acc: 0.9474 - val_loss: 0.1492 - val_acc: 0.9453\n",
      "Epoch 14/50\n",
      "18/18 [==============================] - 6s 307ms/step - loss: 0.1314 - acc: 0.9501 - val_loss: 0.1339 - val_acc: 0.9489\n",
      "Epoch 15/50\n",
      "18/18 [==============================] - 6s 319ms/step - loss: 0.1210 - acc: 0.9574 - val_loss: 0.1555 - val_acc: 0.9416\n",
      "Epoch 16/50\n",
      "18/18 [==============================] - 5s 290ms/step - loss: 0.1241 - acc: 0.9592 - val_loss: 0.1318 - val_acc: 0.9489\n",
      "Epoch 17/50\n",
      "18/18 [==============================] - 5s 290ms/step - loss: 0.1190 - acc: 0.9610 - val_loss: 0.1305 - val_acc: 0.9489\n",
      "Epoch 18/50\n",
      "18/18 [==============================] - 5s 290ms/step - loss: 0.1142 - acc: 0.9574 - val_loss: 0.1326 - val_acc: 0.9489\n",
      "Epoch 19/50\n",
      "18/18 [==============================] - 5s 287ms/step - loss: 0.1074 - acc: 0.9691 - val_loss: 0.1293 - val_acc: 0.9453\n",
      "Epoch 20/50\n",
      "18/18 [==============================] - 6s 306ms/step - loss: 0.1036 - acc: 0.9719 - val_loss: 0.1295 - val_acc: 0.9453\n",
      "Epoch 21/50\n",
      "18/18 [==============================] - 6s 304ms/step - loss: 0.1054 - acc: 0.9646 - val_loss: 0.1358 - val_acc: 0.9562\n",
      "Epoch 22/50\n",
      "18/18 [==============================] - 5s 293ms/step - loss: 0.1006 - acc: 0.9628 - val_loss: 0.1629 - val_acc: 0.9307\n",
      "Epoch 23/50\n",
      "18/18 [==============================] - 5s 290ms/step - loss: 0.1034 - acc: 0.9610 - val_loss: 0.1310 - val_acc: 0.9489\n",
      "Epoch 24/50\n",
      "18/18 [==============================] - 5s 285ms/step - loss: 0.0975 - acc: 0.9710 - val_loss: 0.1248 - val_acc: 0.9453\n",
      "Epoch 25/50\n",
      "18/18 [==============================] - 5s 290ms/step - loss: 0.0922 - acc: 0.9773 - val_loss: 0.1253 - val_acc: 0.9453\n",
      "Epoch 26/50\n",
      "18/18 [==============================] - 6s 338ms/step - loss: 0.0983 - acc: 0.9673 - val_loss: 0.1230 - val_acc: 0.9489\n",
      "Epoch 27/50\n",
      "18/18 [==============================] - 5s 288ms/step - loss: 0.0869 - acc: 0.9710 - val_loss: 0.1252 - val_acc: 0.9453\n",
      "Epoch 28/50\n",
      "18/18 [==============================] - 5s 288ms/step - loss: 0.0881 - acc: 0.9719 - val_loss: 0.1237 - val_acc: 0.9453\n",
      "Epoch 29/50\n",
      "18/18 [==============================] - 5s 293ms/step - loss: 0.0802 - acc: 0.9782 - val_loss: 0.1254 - val_acc: 0.9453\n",
      "Epoch 30/50\n",
      "18/18 [==============================] - 5s 288ms/step - loss: 0.0905 - acc: 0.9691 - val_loss: 0.1672 - val_acc: 0.9234\n",
      "Epoch 31/50\n",
      "18/18 [==============================] - 6s 304ms/step - loss: 0.0851 - acc: 0.9710 - val_loss: 0.1195 - val_acc: 0.9489\n",
      "Epoch 32/50\n",
      "18/18 [==============================] - 6s 319ms/step - loss: 0.0791 - acc: 0.9800 - val_loss: 0.1201 - val_acc: 0.9489\n",
      "Epoch 33/50\n",
      "18/18 [==============================] - 5s 295ms/step - loss: 0.0770 - acc: 0.9755 - val_loss: 0.1205 - val_acc: 0.9526\n",
      "Epoch 34/50\n",
      "18/18 [==============================] - 6s 309ms/step - loss: 0.0728 - acc: 0.9800 - val_loss: 0.1211 - val_acc: 0.9526\n",
      "Epoch 35/50\n",
      "18/18 [==============================] - 6s 307ms/step - loss: 0.0724 - acc: 0.9809 - val_loss: 0.1659 - val_acc: 0.9234\n",
      "Epoch 36/50\n",
      "18/18 [==============================] - 5s 292ms/step - loss: 0.0802 - acc: 0.9710 - val_loss: 0.1174 - val_acc: 0.9526\n",
      "Epoch 37/50\n",
      "18/18 [==============================] - 5s 293ms/step - loss: 0.0669 - acc: 0.9819 - val_loss: 0.1549 - val_acc: 0.9307\n",
      "Epoch 38/50\n",
      "18/18 [==============================] - 6s 331ms/step - loss: 0.0751 - acc: 0.9782 - val_loss: 0.1237 - val_acc: 0.9526\n",
      "Epoch 39/50\n",
      "18/18 [==============================] - 6s 330ms/step - loss: 0.0662 - acc: 0.9828 - val_loss: 0.1238 - val_acc: 0.9526\n",
      "Epoch 40/50\n",
      "18/18 [==============================] - 5s 311ms/step - loss: 0.0665 - acc: 0.9800 - val_loss: 0.1181 - val_acc: 0.9489\n",
      "Epoch 41/50\n",
      "18/18 [==============================] - 5s 287ms/step - loss: 0.0640 - acc: 0.9791 - val_loss: 0.1367 - val_acc: 0.9416\n",
      "Epoch 42/50\n",
      "18/18 [==============================] - 5s 276ms/step - loss: 0.0597 - acc: 0.9864 - val_loss: 0.1352 - val_acc: 0.9416\n",
      "Epoch 43/50\n",
      "18/18 [==============================] - 5s 290ms/step - loss: 0.0680 - acc: 0.9764 - val_loss: 0.1163 - val_acc: 0.9562\n",
      "Epoch 44/50\n",
      "18/18 [==============================] - 5s 285ms/step - loss: 0.0680 - acc: 0.9773 - val_loss: 0.1339 - val_acc: 0.9453\n",
      "Epoch 45/50\n",
      "18/18 [==============================] - 5s 296ms/step - loss: 0.0647 - acc: 0.9791 - val_loss: 0.1125 - val_acc: 0.9526\n",
      "Epoch 46/50\n",
      "18/18 [==============================] - 5s 287ms/step - loss: 0.0563 - acc: 0.9819 - val_loss: 0.1442 - val_acc: 0.9343\n",
      "Epoch 47/50\n",
      "18/18 [==============================] - 5s 285ms/step - loss: 0.0561 - acc: 0.9846 - val_loss: 0.1358 - val_acc: 0.9416\n",
      "Epoch 48/50\n",
      "18/18 [==============================] - 5s 287ms/step - loss: 0.0507 - acc: 0.9918 - val_loss: 0.1167 - val_acc: 0.9562\n",
      "Epoch 49/50\n",
      "18/18 [==============================] - 5s 286ms/step - loss: 0.0518 - acc: 0.9873 - val_loss: 0.1126 - val_acc: 0.9526\n",
      "Epoch 50/50\n",
      "18/18 [==============================] - 5s 288ms/step - loss: 0.0470 - acc: 0.9909 - val_loss: 0.1117 - val_acc: 0.9526\n"
     ]
    }
   ],
   "source": [
    "history = full_model.fit_generator(\n",
    "    train_dataset, \n",
    "    validation_data = val_dataset,\n",
    "    epochs=50\n",
    ")"
   ]
  },
  {
   "cell_type": "code",
   "execution_count": 14,
   "metadata": {},
   "outputs": [
    {
     "data": {
      "image/png": "[encoded data removed]",
      "text/plain": [
       "<Figure size 432x288 with 1 Axes>"
      ]
     },
     "metadata": {
      "needs_background": "light"
     },
     "output_type": "display_data"
    },
    {
     "data": {
      "image/png": "[encoded data removed]",
      "text/plain": [
       "<Figure size 432x288 with 1 Axes>"
      ]
     },
     "metadata": {
      "needs_background": "light"
     },
     "output_type": "display_data"
    }
   ],
   "source": [
    "plot_history(history, yrange=(0,1))"
   ]
  },
  {
   "cell_type": "code",
   "execution_count": 15,
   "metadata": {},
   "outputs": [
    {
     "name": "stdout",
     "output_type": "stream",
     "text": [
      "Test Loss 0.20634379982948303\n",
      "Test accuracy 0.9215116500854492\n"
     ]
    }
   ],
   "source": [
    "score = full_model.evaluate(test_dataset, verbose=0)\n",
    "\n",
    "print('Test Loss', score[0])\n",
    "print('Test accuracy', score[1])"
   ]
  }
 ],
 "metadata": {
  "kernelspec": {
   "display_name": "Python 3 (ipykernel)",
   "language": "python",
   "name": "python3"
  },
  "language_info": {
   "codemirror_mode": {
    "name": "ipython",
    "version": 3
   },
   "file_extension": ".py",
   "mimetype": "text/x-python",
   "name": "python",
   "nbconvert_exporter": "python",
   "pygments_lexer": "ipython3",
   "version": "3.8.0"
  }
 },
 "nbformat": 4,
 "nbformat_minor": 4
}
