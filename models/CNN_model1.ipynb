{
 "cells": [
  {
   "cell_type": "markdown",
   "metadata": {},
   "source": [
    "# Convolutional Neural Network\n",
    "\n",
    "### Part 1 - Building the CNN\n",
    "\n",
    "#### Importing the Tensorflow libraries and packages"
   ]
  },
  {
   "cell_type": "code",
   "execution_count": 4,
   "metadata": {},
   "outputs": [
    {
     "name": "stdout",
     "output_type": "stream",
     "text": [
      "Tensor Flow Version: 2.6.0\n",
      "Keras Version: 2.6.0\n",
      "\n",
      "Python 3.8.0 (default, Nov  6 2019, 16:00:02) [MSC v.1916 64 bit (AMD64)]\n",
      "Pandas 1.2.5\n",
      "Scikit-Learn 1.0.2\n",
      "GPU is available\n"
     ]
    }
   ],
   "source": [
    "import sys\n",
    "\n",
    "import tensorflow.keras\n",
    "import pandas as pd\n",
    "import sklearn as sk\n",
    "import tensorflow as tf\n",
    "\n",
    "print(f\"Tensor Flow Version: {tf.__version__}\")\n",
    "print(f\"Keras Version: {tensorflow.keras.__version__}\")\n",
    "print()\n",
    "print(f\"Python {sys.version}\")\n",
    "print(f\"Pandas {pd.__version__}\")\n",
    "print(f\"Scikit-Learn {sk.__version__}\")\n",
    "gpu = len(tf.config.list_physical_devices('GPU'))>0\n",
    "print(\"GPU is\", \"available\" if gpu else \"NOT AVAILABLE\")"
   ]
  },
  {
   "cell_type": "code",
   "execution_count": 5,
   "metadata": {},
   "outputs": [
    {
     "name": "stdout",
     "output_type": "stream",
     "text": [
      "The tensorboard extension is already loaded. To reload it, use:\n",
      "  %reload_ext tensorboard\n"
     ]
    }
   ],
   "source": [
    "# Load the TensorBoard notebook extension\n",
    "%load_ext tensorboard\n",
    "from tensorflow.keras.models import Sequential\n",
    "from tensorflow.keras.layers import Conv2D, MaxPooling2D, Flatten, Dense, Dropout\n",
    "from tensorflow.keras.callbacks import ReduceLROnPlateau\n",
    "\n",
    "import os"
   ]
  },
  {
   "cell_type": "code",
   "execution_count": 3,
   "metadata": {},
   "outputs": [],
   "source": [
    "classifier = Sequential()\n",
    "\n",
    "#classes = 2\n",
    "\n",
    "#Kernels usually 1x1 | 3x3 | 5x5\n",
    "\n",
    "#Adding a convolutional layer\n",
    "classifier.add(Conv2D(32, (3, 3), input_shape = (150, 150, 3), padding='same', activation = 'relu'))\n",
    "classifier.add(MaxPooling2D(pool_size = (2, 2)))\n",
    "\n",
    "#Adding a second convolutional layer\n",
    "classifier.add(Conv2D(64, (3, 3), padding='same', activation = 'relu'))\n",
    "classifier.add(MaxPooling2D(pool_size = (2, 2)))\n",
    "classifier.add(Dropout(0.20))\n",
    "\n",
    "#Adding a third convolutional layer\n",
    "classifier.add(Conv2D(128, (3, 3), padding='same', activation = 'relu'))\n",
    "classifier.add(MaxPooling2D(pool_size = (2, 2)))\n",
    "classifier.add(Dropout(0.20))\n",
    "\n",
    "#Adding a fourth convolutional layer\n",
    "classifier.add(Conv2D(128, (3, 3), padding='same', activation = 'relu'))\n",
    "classifier.add(MaxPooling2D(pool_size = (2, 2)))\n",
    "\n",
    "#Flattening\n",
    "classifier.add(Flatten())\n",
    "\n",
    "\n",
    "#Full connection\n",
    "classifier.add(Dense(units = 512, activation = 'relu'))\n",
    "classifier.add(Dropout(0.40))\n",
    "classifier.add(Dense(units = 1, activation= 'sigmoid'))"
   ]
  },
  {
   "cell_type": "markdown",
   "metadata": {},
   "source": [
    "Let's double check the model description:"
   ]
  },
  {
   "cell_type": "code",
   "execution_count": 4,
   "metadata": {},
   "outputs": [
    {
     "name": "stdout",
     "output_type": "stream",
     "text": [
      "Model: \"sequential\"\n",
      "_________________________________________________________________\n",
      "Layer (type)                 Output Shape              Param #   \n",
      "=================================================================\n",
      "conv2d (Conv2D)              (None, 150, 150, 32)      896       \n",
      "_________________________________________________________________\n",
      "max_pooling2d (MaxPooling2D) (None, 75, 75, 32)        0         \n",
      "_________________________________________________________________\n",
      "conv2d_1 (Conv2D)            (None, 75, 75, 64)        18496     \n",
      "_________________________________________________________________\n",
      "max_pooling2d_1 (MaxPooling2 (None, 37, 37, 64)        0         \n",
      "_________________________________________________________________\n",
      "dropout (Dropout)            (None, 37, 37, 64)        0         \n",
      "_________________________________________________________________\n",
      "conv2d_2 (Conv2D)            (None, 37, 37, 128)       73856     \n",
      "_________________________________________________________________\n",
      "max_pooling2d_2 (MaxPooling2 (None, 18, 18, 128)       0         \n",
      "_________________________________________________________________\n",
      "dropout_1 (Dropout)          (None, 18, 18, 128)       0         \n",
      "_________________________________________________________________\n",
      "conv2d_3 (Conv2D)            (None, 18, 18, 128)       147584    \n",
      "_________________________________________________________________\n",
      "max_pooling2d_3 (MaxPooling2 (None, 9, 9, 128)         0         \n",
      "_________________________________________________________________\n",
      "flatten (Flatten)            (None, 10368)             0         \n",
      "_________________________________________________________________\n",
      "dense (Dense)                (None, 512)               5308928   \n",
      "_________________________________________________________________\n",
      "dropout_2 (Dropout)          (None, 512)               0         \n",
      "_________________________________________________________________\n",
      "dense_1 (Dense)              (None, 1)                 513       \n",
      "=================================================================\n",
      "Total params: 5,550,273\n",
      "Trainable params: 5,550,273\n",
      "Non-trainable params: 0\n",
      "_________________________________________________________________\n"
     ]
    }
   ],
   "source": [
    "classifier.summary()"
   ]
  },
  {
   "cell_type": "code",
   "execution_count": 5,
   "metadata": {},
   "outputs": [],
   "source": [
    "classifier.compile(optimizer = 'adam', loss = 'binary_crossentropy', metrics = ['accuracy'])"
   ]
  },
  {
   "cell_type": "markdown",
   "metadata": {},
   "source": [
    "### Part 2 - Fitting the CNN to the images\n"
   ]
  },
  {
   "cell_type": "code",
   "execution_count": 6,
   "metadata": {},
   "outputs": [
    {
     "name": "stdout",
     "output_type": "stream",
     "text": [
      "Found 1102 images belonging to 2 classes.\n",
      "Found 274 images belonging to 2 classes.\n",
      "Found 344 images belonging to 2 classes.\n"
     ]
    }
   ],
   "source": [
    "from tensorflow.keras.preprocessing.image import ImageDataGenerator\n",
    "\n",
    "path_dir = '../dataset_mel_final/train'\n",
    "parth_dir_test = '../dataset_mel_final/test'\n",
    "\n",
    "datagen = ImageDataGenerator(\n",
    "                    rescale=1./255,\n",
    "                    validation_split = 0.2)\n",
    "\n",
    "train_generator = datagen.flow_from_directory(\n",
    "    path_dir,\n",
    "    target_size=(150,150),\n",
    "    shuffle=True,\n",
    "    subset='training',\n",
    "    batch_size = 64,\n",
    "    class_mode = 'binary'\n",
    ")\n",
    "validation_generator = datagen.flow_from_directory(\n",
    "    path_dir,\n",
    "    target_size=(150,150),\n",
    "    subset='validation',\n",
    "    batch_size = 64,\n",
    "    class_mode = 'binary'\n",
    ")\n",
    "\n",
    "test_set = datagen.flow_from_directory(parth_dir_test,\n",
    "                                        target_size=(150,150),\n",
    "                                        batch_size =64,\n",
    "                                        class_mode = 'binary')\n"
   ]
  },
  {
   "cell_type": "code",
   "execution_count": 7,
   "metadata": {},
   "outputs": [
    {
     "data": {
      "text/plain": [
       "{'nonviolence': 0, 'violence': 1}"
      ]
     },
     "execution_count": 7,
     "metadata": {},
     "output_type": "execute_result"
    }
   ],
   "source": [
    "train_generator.class_indices"
   ]
  },
  {
   "cell_type": "code",
   "execution_count": 8,
   "metadata": {},
   "outputs": [],
   "source": [
    "from tensorflow.keras.callbacks import EarlyStopping, ModelCheckpoint, TensorBoard\n",
    "import datetime\n",
    "\n",
    "#rm -rf /logs/\n",
    "\n",
    "es = EarlyStopping(monitor='val_loss', patience=50)\n",
    "mc = ModelCheckpoint('best_model1.h5', monitor='val_loss', mode='min', save_best_only=True)\n",
    "reduceLR = ReduceLROnPlateau(monitor='val_loss', factor=0.1, patience=10)\n",
    "\n",
    "# Create a TensorBoard callback\n",
    "log_dir = \"logs\\\\\" + datetime.datetime.now().strftime(\"%Y%m%d-%H%M%S\")\n",
    "tensorboard_callback = TensorBoard(log_dir=log_dir, histogram_freq=1)"
   ]
  },
  {
   "cell_type": "code",
   "execution_count": 9,
   "metadata": {},
   "outputs": [
    {
     "name": "stdout",
     "output_type": "stream",
     "text": [
      "Epoch 1/600\n",
      "18/18 [==============================] - 12s 319ms/step - loss: 0.7378 - accuracy: 0.4909 - val_loss: 0.6923 - val_accuracy: 0.5474\n",
      "Epoch 2/600\n",
      "18/18 [==============================] - 4s 208ms/step - loss: 0.6863 - accuracy: 0.5563 - val_loss: 0.6623 - val_accuracy: 0.5876\n",
      "Epoch 3/600\n",
      "18/18 [==============================] - 4s 209ms/step - loss: 0.5686 - accuracy: 0.7250 - val_loss: 0.4999 - val_accuracy: 0.7664\n",
      "Epoch 4/600\n",
      "18/18 [==============================] - 4s 209ms/step - loss: 0.4585 - accuracy: 0.7958 - val_loss: 0.4600 - val_accuracy: 0.7555\n",
      "Epoch 5/600\n",
      "18/18 [==============================] - 4s 216ms/step - loss: 0.3791 - accuracy: 0.8385 - val_loss: 0.2156 - val_accuracy: 0.9270\n",
      "Epoch 6/600\n",
      "18/18 [==============================] - 4s 212ms/step - loss: 0.3195 - accuracy: 0.8811 - val_loss: 0.2045 - val_accuracy: 0.9416\n",
      "Epoch 7/600\n",
      "18/18 [==============================] - 4s 208ms/step - loss: 0.3106 - accuracy: 0.8721 - val_loss: 0.1738 - val_accuracy: 0.9526\n",
      "Epoch 8/600\n",
      "18/18 [==============================] - 4s 207ms/step - loss: 0.2694 - accuracy: 0.8938 - val_loss: 0.2872 - val_accuracy: 0.8905\n",
      "Epoch 9/600\n",
      "18/18 [==============================] - 4s 207ms/step - loss: 0.2701 - accuracy: 0.8966 - val_loss: 0.1917 - val_accuracy: 0.9526\n",
      "Epoch 10/600\n",
      "18/18 [==============================] - 4s 209ms/step - loss: 0.2210 - accuracy: 0.9192 - val_loss: 0.1748 - val_accuracy: 0.9453\n",
      "Epoch 11/600\n",
      "18/18 [==============================] - 4s 207ms/step - loss: 0.2041 - accuracy: 0.9274 - val_loss: 0.1439 - val_accuracy: 0.9635\n",
      "Epoch 12/600\n",
      "18/18 [==============================] - 4s 210ms/step - loss: 0.1976 - accuracy: 0.9283 - val_loss: 0.1352 - val_accuracy: 0.9526\n",
      "Epoch 13/600\n",
      "18/18 [==============================] - 4s 225ms/step - loss: 0.1666 - accuracy: 0.9465 - val_loss: 0.1377 - val_accuracy: 0.9562\n",
      "Epoch 14/600\n",
      "18/18 [==============================] - 4s 215ms/step - loss: 0.1609 - accuracy: 0.9456 - val_loss: 0.1402 - val_accuracy: 0.9380\n",
      "Epoch 15/600\n",
      "18/18 [==============================] - 4s 219ms/step - loss: 0.1679 - accuracy: 0.9419 - val_loss: 0.1610 - val_accuracy: 0.9489\n",
      "Epoch 16/600\n",
      "18/18 [==============================] - 4s 217ms/step - loss: 0.1503 - accuracy: 0.9383 - val_loss: 0.1421 - val_accuracy: 0.9343\n",
      "Epoch 17/600\n",
      "18/18 [==============================] - 4s 211ms/step - loss: 0.1412 - accuracy: 0.9501 - val_loss: 0.1524 - val_accuracy: 0.9416\n",
      "Epoch 18/600\n",
      "18/18 [==============================] - 4s 209ms/step - loss: 0.1367 - accuracy: 0.9519 - val_loss: 0.1565 - val_accuracy: 0.9489\n",
      "Epoch 19/600\n",
      "18/18 [==============================] - 4s 208ms/step - loss: 0.1389 - accuracy: 0.9555 - val_loss: 0.1262 - val_accuracy: 0.9526\n",
      "Epoch 20/600\n",
      "18/18 [==============================] - 4s 216ms/step - loss: 0.1146 - accuracy: 0.9592 - val_loss: 0.1289 - val_accuracy: 0.9526\n",
      "Epoch 21/600\n",
      "18/18 [==============================] - 4s 212ms/step - loss: 0.0986 - accuracy: 0.9637 - val_loss: 0.1124 - val_accuracy: 0.9526\n",
      "Epoch 22/600\n",
      "18/18 [==============================] - 4s 223ms/step - loss: 0.0985 - accuracy: 0.9682 - val_loss: 0.1357 - val_accuracy: 0.9489\n",
      "Epoch 23/600\n",
      "18/18 [==============================] - 4s 212ms/step - loss: 0.0923 - accuracy: 0.9682 - val_loss: 0.2527 - val_accuracy: 0.9124\n",
      "Epoch 24/600\n",
      "18/18 [==============================] - 4s 213ms/step - loss: 0.1134 - accuracy: 0.9601 - val_loss: 0.1257 - val_accuracy: 0.9489\n",
      "Epoch 25/600\n",
      "18/18 [==============================] - 4s 215ms/step - loss: 0.0863 - accuracy: 0.9728 - val_loss: 0.1391 - val_accuracy: 0.9453\n",
      "Epoch 26/600\n",
      "18/18 [==============================] - 4s 210ms/step - loss: 0.0782 - accuracy: 0.9728 - val_loss: 0.1082 - val_accuracy: 0.9489\n",
      "Epoch 27/600\n",
      "18/18 [==============================] - 4s 221ms/step - loss: 0.0597 - accuracy: 0.9828 - val_loss: 0.2207 - val_accuracy: 0.9307\n",
      "Epoch 28/600\n",
      "18/18 [==============================] - 4s 214ms/step - loss: 0.0708 - accuracy: 0.9764 - val_loss: 0.1135 - val_accuracy: 0.9489\n",
      "Epoch 29/600\n",
      "18/18 [==============================] - 4s 209ms/step - loss: 0.0695 - accuracy: 0.9791 - val_loss: 0.1576 - val_accuracy: 0.9416\n",
      "Epoch 30/600\n",
      "18/18 [==============================] - 4s 216ms/step - loss: 0.0625 - accuracy: 0.9791 - val_loss: 0.1707 - val_accuracy: 0.9380\n",
      "Epoch 31/600\n",
      "18/18 [==============================] - 4s 212ms/step - loss: 0.0458 - accuracy: 0.9846 - val_loss: 0.1600 - val_accuracy: 0.9416\n",
      "Epoch 32/600\n",
      "18/18 [==============================] - 4s 216ms/step - loss: 0.0601 - accuracy: 0.9791 - val_loss: 0.1672 - val_accuracy: 0.9489\n",
      "Epoch 33/600\n",
      "18/18 [==============================] - 4s 221ms/step - loss: 0.0596 - accuracy: 0.9800 - val_loss: 0.1294 - val_accuracy: 0.9526\n",
      "Epoch 34/600\n",
      "18/18 [==============================] - 4s 228ms/step - loss: 0.0450 - accuracy: 0.9864 - val_loss: 0.1490 - val_accuracy: 0.9489\n",
      "Epoch 35/600\n",
      "18/18 [==============================] - 4s 230ms/step - loss: 0.0390 - accuracy: 0.9891 - val_loss: 0.1582 - val_accuracy: 0.9453\n",
      "Epoch 36/600\n",
      "18/18 [==============================] - 4s 219ms/step - loss: 0.0499 - accuracy: 0.9773 - val_loss: 0.1756 - val_accuracy: 0.9453\n",
      "Epoch 37/600\n",
      "18/18 [==============================] - 4s 216ms/step - loss: 0.0296 - accuracy: 0.9909 - val_loss: 0.1644 - val_accuracy: 0.9416\n",
      "Epoch 38/600\n",
      "18/18 [==============================] - 4s 216ms/step - loss: 0.0241 - accuracy: 0.9909 - val_loss: 0.1568 - val_accuracy: 0.9453\n",
      "Epoch 39/600\n",
      "18/18 [==============================] - 4s 214ms/step - loss: 0.0212 - accuracy: 0.9964 - val_loss: 0.1460 - val_accuracy: 0.9416\n",
      "Epoch 40/600\n",
      "18/18 [==============================] - 4s 220ms/step - loss: 0.0261 - accuracy: 0.9927 - val_loss: 0.1449 - val_accuracy: 0.9416\n",
      "Epoch 41/600\n",
      "18/18 [==============================] - 4s 222ms/step - loss: 0.0196 - accuracy: 0.9964 - val_loss: 0.1451 - val_accuracy: 0.9380\n",
      "Epoch 42/600\n",
      "18/18 [==============================] - 4s 217ms/step - loss: 0.0208 - accuracy: 0.9955 - val_loss: 0.1433 - val_accuracy: 0.9380\n",
      "Epoch 43/600\n",
      "18/18 [==============================] - 4s 214ms/step - loss: 0.0223 - accuracy: 0.9955 - val_loss: 0.1441 - val_accuracy: 0.9380\n",
      "Epoch 44/600\n",
      "18/18 [==============================] - 4s 228ms/step - loss: 0.0203 - accuracy: 0.9955 - val_loss: 0.1510 - val_accuracy: 0.9416\n",
      "Epoch 45/600\n",
      "18/18 [==============================] - 4s 221ms/step - loss: 0.0159 - accuracy: 0.9973 - val_loss: 0.1484 - val_accuracy: 0.9416\n",
      "Epoch 46/600\n",
      "18/18 [==============================] - 4s 223ms/step - loss: 0.0164 - accuracy: 0.9964 - val_loss: 0.1487 - val_accuracy: 0.9416\n",
      "Epoch 47/600\n",
      "18/18 [==============================] - 4s 228ms/step - loss: 0.0124 - accuracy: 0.9973 - val_loss: 0.1492 - val_accuracy: 0.9416\n",
      "Epoch 48/600\n",
      "18/18 [==============================] - 4s 217ms/step - loss: 0.0185 - accuracy: 0.9964 - val_loss: 0.1494 - val_accuracy: 0.9380\n",
      "Epoch 49/600\n",
      "18/18 [==============================] - 4s 217ms/step - loss: 0.0154 - accuracy: 0.9982 - val_loss: 0.1496 - val_accuracy: 0.9380\n",
      "Epoch 50/600\n",
      "18/18 [==============================] - 4s 219ms/step - loss: 0.0190 - accuracy: 0.9982 - val_loss: 0.1495 - val_accuracy: 0.9380\n",
      "Epoch 51/600\n",
      "18/18 [==============================] - 4s 214ms/step - loss: 0.0193 - accuracy: 0.9964 - val_loss: 0.1492 - val_accuracy: 0.9380\n",
      "Epoch 52/600\n",
      "18/18 [==============================] - 4s 214ms/step - loss: 0.0169 - accuracy: 0.9991 - val_loss: 0.1500 - val_accuracy: 0.9380\n",
      "Epoch 53/600\n",
      "18/18 [==============================] - 4s 213ms/step - loss: 0.0151 - accuracy: 0.9955 - val_loss: 0.1501 - val_accuracy: 0.9380\n",
      "Epoch 54/600\n",
      "18/18 [==============================] - 4s 214ms/step - loss: 0.0152 - accuracy: 0.9973 - val_loss: 0.1505 - val_accuracy: 0.9380\n",
      "Epoch 55/600\n",
      "18/18 [==============================] - 4s 217ms/step - loss: 0.0134 - accuracy: 0.9991 - val_loss: 0.1506 - val_accuracy: 0.9380\n",
      "Epoch 56/600\n",
      "18/18 [==============================] - 4s 217ms/step - loss: 0.0151 - accuracy: 0.9973 - val_loss: 0.1508 - val_accuracy: 0.9380\n",
      "Epoch 57/600\n",
      "18/18 [==============================] - 4s 215ms/step - loss: 0.0147 - accuracy: 0.9982 - val_loss: 0.1508 - val_accuracy: 0.9380\n"
     ]
    },
    {
     "name": "stdout",
     "output_type": "stream",
     "text": [
      "Epoch 58/600\n",
      "18/18 [==============================] - 4s 215ms/step - loss: 0.0146 - accuracy: 0.9973 - val_loss: 0.1508 - val_accuracy: 0.9380\n",
      "Epoch 59/600\n",
      "18/18 [==============================] - 4s 214ms/step - loss: 0.0175 - accuracy: 0.9964 - val_loss: 0.1509 - val_accuracy: 0.9380\n",
      "Epoch 60/600\n",
      "18/18 [==============================] - 4s 214ms/step - loss: 0.0151 - accuracy: 0.9982 - val_loss: 0.1509 - val_accuracy: 0.9380\n",
      "Epoch 61/600\n",
      "18/18 [==============================] - 4s 217ms/step - loss: 0.0199 - accuracy: 0.9936 - val_loss: 0.1509 - val_accuracy: 0.9380\n",
      "Epoch 62/600\n",
      "18/18 [==============================] - 4s 218ms/step - loss: 0.0128 - accuracy: 0.9982 - val_loss: 0.1508 - val_accuracy: 0.9380\n",
      "Epoch 63/600\n",
      "18/18 [==============================] - 4s 218ms/step - loss: 0.0133 - accuracy: 0.9991 - val_loss: 0.1509 - val_accuracy: 0.9380\n",
      "Epoch 64/600\n",
      "18/18 [==============================] - 4s 217ms/step - loss: 0.0144 - accuracy: 0.9964 - val_loss: 0.1510 - val_accuracy: 0.9380\n",
      "Epoch 65/600\n",
      "18/18 [==============================] - 4s 215ms/step - loss: 0.0160 - accuracy: 0.9982 - val_loss: 0.1511 - val_accuracy: 0.9380\n",
      "Epoch 66/600\n",
      "18/18 [==============================] - 4s 217ms/step - loss: 0.0166 - accuracy: 0.9964 - val_loss: 0.1511 - val_accuracy: 0.9380\n",
      "Epoch 67/600\n",
      "18/18 [==============================] - 4s 217ms/step - loss: 0.0132 - accuracy: 0.9982 - val_loss: 0.1511 - val_accuracy: 0.9380\n",
      "Epoch 68/600\n",
      "18/18 [==============================] - 4s 216ms/step - loss: 0.0161 - accuracy: 0.9946 - val_loss: 0.1511 - val_accuracy: 0.9380\n",
      "Epoch 69/600\n",
      "18/18 [==============================] - 4s 215ms/step - loss: 0.0146 - accuracy: 0.9982 - val_loss: 0.1511 - val_accuracy: 0.9380\n",
      "Epoch 70/600\n",
      "18/18 [==============================] - 4s 214ms/step - loss: 0.0162 - accuracy: 0.9973 - val_loss: 0.1511 - val_accuracy: 0.9380\n",
      "Epoch 71/600\n",
      "18/18 [==============================] - 4s 217ms/step - loss: 0.0123 - accuracy: 0.9991 - val_loss: 0.1511 - val_accuracy: 0.9380\n",
      "Epoch 72/600\n",
      "18/18 [==============================] - 4s 219ms/step - loss: 0.0153 - accuracy: 0.9973 - val_loss: 0.1511 - val_accuracy: 0.9380\n",
      "Epoch 73/600\n",
      "18/18 [==============================] - 4s 214ms/step - loss: 0.0160 - accuracy: 0.9973 - val_loss: 0.1511 - val_accuracy: 0.9380\n",
      "Epoch 74/600\n",
      "18/18 [==============================] - 4s 211ms/step - loss: 0.0181 - accuracy: 0.9964 - val_loss: 0.1511 - val_accuracy: 0.9380\n",
      "Epoch 75/600\n",
      "18/18 [==============================] - 4s 219ms/step - loss: 0.0164 - accuracy: 0.9973 - val_loss: 0.1511 - val_accuracy: 0.9380\n",
      "Epoch 76/600\n",
      "18/18 [==============================] - 4s 221ms/step - loss: 0.0150 - accuracy: 0.9991 - val_loss: 0.1511 - val_accuracy: 0.9380\n"
     ]
    },
    {
     "data": {
      "text/plain": [
       "<tensorflow.python.keras.callbacks.History at 0x1b3189fda90>"
      ]
     },
     "execution_count": 9,
     "metadata": {},
     "output_type": "execute_result"
    }
   ],
   "source": [
    "classifier.fit(train_generator,\n",
    "                         epochs = 600,\n",
    "                         callbacks = [tensorboard_callback,es,mc,reduceLR],\n",
    "                         validation_data = validation_generator\n",
    "                         )"
   ]
  },
  {
   "cell_type": "code",
   "execution_count": 10,
   "metadata": {},
   "outputs": [],
   "source": [
    "#In terms of ‘loss’, overfitting reveals itself when your model has a low error\n",
    "#in the training set and a higher error in the testing set.\n",
    "\n",
    "#Overfitting indicates that your model is too complex for the problem that it is solving,\n",
    "#filters in the case of Convolutional Neural Networks, and layers in the case of overall Deep Learning Models"
   ]
  },
  {
   "cell_type": "code",
   "execution_count": 6,
   "metadata": {},
   "outputs": [
    {
     "data": {
      "text/plain": [
       "Reusing TensorBoard on port 6006 (pid 11704), started 1 day, 21:53:12 ago. (Use '!kill 11704' to kill it.)"
      ]
     },
     "metadata": {},
     "output_type": "display_data"
    },
    {
     "data": {
      "text/html": [
       "\n",
       "      <iframe id=\"tensorboard-frame-be38a14acd36bcd1\" width=\"100%\" height=\"800\" frameborder=\"0\">\n",
       "      </iframe>\n",
       "      <script>\n",
       "        (function() {\n",
       "          const frame = document.getElementById(\"tensorboard-frame-be38a14acd36bcd1\");\n",
       "          const url = new URL(\"/\", window.location);\n",
       "          const port = 6006;\n",
       "          if (port) {\n",
       "            url.port = port;\n",
       "          }\n",
       "          frame.src = url;\n",
       "        })();\n",
       "      </script>\n",
       "    "
      ],
      "text/plain": [
       "<IPython.core.display.HTML object>"
      ]
     },
     "metadata": {},
     "output_type": "display_data"
    }
   ],
   "source": [
    "%tensorboard --logdir logs"
   ]
  },
  {
   "cell_type": "markdown",
   "metadata": {},
   "source": [
    "# Part 3 test the CNN"
   ]
  },
  {
   "cell_type": "code",
   "execution_count": 15,
   "metadata": {},
   "outputs": [],
   "source": [
    "# Load Model\n",
    "classifier.load_weights('best_model1.h5')"
   ]
  },
  {
   "cell_type": "code",
   "execution_count": 16,
   "metadata": {},
   "outputs": [
    {
     "name": "stdout",
     "output_type": "stream",
     "text": [
      "Model: \"sequential\"\n",
      "_________________________________________________________________\n",
      "Layer (type)                 Output Shape              Param #   \n",
      "=================================================================\n",
      "conv2d (Conv2D)              (None, 150, 150, 32)      896       \n",
      "_________________________________________________________________\n",
      "max_pooling2d (MaxPooling2D) (None, 75, 75, 32)        0         \n",
      "_________________________________________________________________\n",
      "conv2d_1 (Conv2D)            (None, 75, 75, 64)        18496     \n",
      "_________________________________________________________________\n",
      "max_pooling2d_1 (MaxPooling2 (None, 37, 37, 64)        0         \n",
      "_________________________________________________________________\n",
      "dropout (Dropout)            (None, 37, 37, 64)        0         \n",
      "_________________________________________________________________\n",
      "conv2d_2 (Conv2D)            (None, 37, 37, 128)       73856     \n",
      "_________________________________________________________________\n",
      "max_pooling2d_2 (MaxPooling2 (None, 18, 18, 128)       0         \n",
      "_________________________________________________________________\n",
      "dropout_1 (Dropout)          (None, 18, 18, 128)       0         \n",
      "_________________________________________________________________\n",
      "conv2d_3 (Conv2D)            (None, 18, 18, 128)       147584    \n",
      "_________________________________________________________________\n",
      "max_pooling2d_3 (MaxPooling2 (None, 9, 9, 128)         0         \n",
      "_________________________________________________________________\n",
      "flatten (Flatten)            (None, 10368)             0         \n",
      "_________________________________________________________________\n",
      "dense (Dense)                (None, 512)               5308928   \n",
      "_________________________________________________________________\n",
      "dropout_2 (Dropout)          (None, 512)               0         \n",
      "_________________________________________________________________\n",
      "dense_1 (Dense)              (None, 1)                 513       \n",
      "=================================================================\n",
      "Total params: 5,550,273\n",
      "Trainable params: 5,550,273\n",
      "Non-trainable params: 0\n",
      "_________________________________________________________________\n"
     ]
    }
   ],
   "source": [
    "classifier.summary()"
   ]
  },
  {
   "cell_type": "code",
   "execution_count": 17,
   "metadata": {},
   "outputs": [
    {
     "name": "stdout",
     "output_type": "stream",
     "text": [
      "Test Loss 0.21472389996051788\n",
      "Test accuracy 0.9244186282157898\n"
     ]
    }
   ],
   "source": [
    "score = classifier.evaluate(test_set, verbose=0)\n",
    "\n",
    "print('Test Loss', score[0])\n",
    "print('Test accuracy', score[1])"
   ]
  }
 ],
 "metadata": {
  "kernelspec": {
   "display_name": "Python 3 (ipykernel)",
   "language": "python",
   "name": "python3"
  },
  "language_info": {
   "codemirror_mode": {
    "name": "ipython",
    "version": 3
   },
   "file_extension": ".py",
   "mimetype": "text/x-python",
   "name": "python",
   "nbconvert_exporter": "python",
   "pygments_lexer": "ipython3",
   "version": "3.8.0"
  }
 },
 "nbformat": 4,
 "nbformat_minor": 4
}
