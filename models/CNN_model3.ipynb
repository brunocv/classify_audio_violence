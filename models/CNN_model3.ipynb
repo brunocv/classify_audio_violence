{
 "cells": [
  {
   "cell_type": "markdown",
   "metadata": {},
   "source": [
    "# Convolutional Neural Network\n",
    "\n",
    "### Part 1 - Building the CNN\n",
    "\n",
    "#### Importing the Tensorflow libraries and packages"
   ]
  },
  {
   "cell_type": "code",
   "execution_count": 1,
   "metadata": {},
   "outputs": [
    {
     "name": "stdout",
     "output_type": "stream",
     "text": [
      "Tensor Flow Version: 2.6.0\n",
      "Keras Version: 2.6.0\n",
      "\n",
      "Python 3.8.0 (default, Nov  6 2019, 16:00:02) [MSC v.1916 64 bit (AMD64)]\n",
      "Pandas 1.2.5\n",
      "Scikit-Learn 1.0.2\n",
      "GPU is available\n"
     ]
    }
   ],
   "source": [
    "import sys\n",
    "\n",
    "import tensorflow.keras\n",
    "import pandas as pd\n",
    "import sklearn as sk\n",
    "import tensorflow as tf\n",
    "\n",
    "print(f\"Tensor Flow Version: {tf.__version__}\")\n",
    "print(f\"Keras Version: {tensorflow.keras.__version__}\")\n",
    "print()\n",
    "print(f\"Python {sys.version}\")\n",
    "print(f\"Pandas {pd.__version__}\")\n",
    "print(f\"Scikit-Learn {sk.__version__}\")\n",
    "gpu = len(tf.config.list_physical_devices('GPU'))>0\n",
    "print(\"GPU is\", \"available\" if gpu else \"NOT AVAILABLE\")"
   ]
  },
  {
   "cell_type": "code",
   "execution_count": 2,
   "metadata": {},
   "outputs": [],
   "source": [
    "# Load the TensorBoard notebook extension\n",
    "%load_ext tensorboard\n",
    "from tensorflow.keras.models import Sequential\n",
    "from tensorflow.keras.layers import Conv2D, MaxPooling2D, Flatten, Dense, Dropout\n",
    "from tensorflow.keras.callbacks import ReduceLROnPlateau\n",
    "\n",
    "import os"
   ]
  },
  {
   "cell_type": "code",
   "execution_count": 15,
   "metadata": {},
   "outputs": [],
   "source": [
    "classifier = Sequential()\n",
    "\n",
    "#classes = 2\n",
    "\n",
    "#Kernels usually 1x1 | 3x3 | 5x5\n",
    "\n",
    "#Adding a convolutional layer\n",
    "classifier.add(Conv2D(16, (3, 3), input_shape = (150, 150, 3), padding='same', activation = 'relu'))\n",
    "classifier.add(MaxPooling2D(pool_size = (2, 2)))\n",
    "\n",
    "#Adding a second convolutional layer\n",
    "classifier.add(Conv2D(32, (3, 3), padding='same', activation = 'relu'))\n",
    "classifier.add(MaxPooling2D(pool_size = (2, 2)))\n",
    "\n",
    "#Flattening\n",
    "classifier.add(Flatten())\n",
    "\n",
    "\n",
    "#Full connection\n",
    "classifier.add(Dense(units = 32, activation = 'relu'))\n",
    "classifier.add(Dropout(0.10))\n",
    "classifier.add(Dense(units = 1, activation= 'sigmoid'))"
   ]
  },
  {
   "cell_type": "markdown",
   "metadata": {},
   "source": [
    "Let's double check the model description:"
   ]
  },
  {
   "cell_type": "code",
   "execution_count": 16,
   "metadata": {},
   "outputs": [
    {
     "name": "stdout",
     "output_type": "stream",
     "text": [
      "Model: \"sequential_2\"\n",
      "_________________________________________________________________\n",
      "Layer (type)                 Output Shape              Param #   \n",
      "=================================================================\n",
      "conv2d_4 (Conv2D)            (None, 150, 150, 16)      448       \n",
      "_________________________________________________________________\n",
      "max_pooling2d_4 (MaxPooling2 (None, 75, 75, 16)        0         \n",
      "_________________________________________________________________\n",
      "conv2d_5 (Conv2D)            (None, 75, 75, 32)        4640      \n",
      "_________________________________________________________________\n",
      "max_pooling2d_5 (MaxPooling2 (None, 37, 37, 32)        0         \n",
      "_________________________________________________________________\n",
      "flatten_2 (Flatten)          (None, 43808)             0         \n",
      "_________________________________________________________________\n",
      "dense_4 (Dense)              (None, 32)                1401888   \n",
      "_________________________________________________________________\n",
      "dropout_4 (Dropout)          (None, 32)                0         \n",
      "_________________________________________________________________\n",
      "dense_5 (Dense)              (None, 1)                 33        \n",
      "=================================================================\n",
      "Total params: 1,407,009\n",
      "Trainable params: 1,407,009\n",
      "Non-trainable params: 0\n",
      "_________________________________________________________________\n"
     ]
    }
   ],
   "source": [
    "classifier.summary()"
   ]
  },
  {
   "cell_type": "code",
   "execution_count": 17,
   "metadata": {},
   "outputs": [],
   "source": [
    "classifier.compile(optimizer = 'adam', loss = 'binary_crossentropy', metrics = ['accuracy'])"
   ]
  },
  {
   "cell_type": "markdown",
   "metadata": {},
   "source": [
    "### Part 2 - Fitting the CNN to the images\n"
   ]
  },
  {
   "cell_type": "code",
   "execution_count": 18,
   "metadata": {},
   "outputs": [
    {
     "name": "stdout",
     "output_type": "stream",
     "text": [
      "Found 1102 images belonging to 2 classes.\n",
      "Found 274 images belonging to 2 classes.\n",
      "Found 344 images belonging to 2 classes.\n"
     ]
    }
   ],
   "source": [
    "from tensorflow.keras.preprocessing.image import ImageDataGenerator\n",
    "\n",
    "path_dir = '../dataset_mel_final/train'\n",
    "parth_dir_test = '../dataset_mel_final/test'\n",
    "\n",
    "datagen = ImageDataGenerator(\n",
    "                    rescale=1./255,\n",
    "                    validation_split = 0.2)\n",
    "\n",
    "train_generator = datagen.flow_from_directory(\n",
    "    path_dir,\n",
    "    target_size=(150,150),\n",
    "    shuffle=True,\n",
    "    subset='training',\n",
    "    batch_size = 64,\n",
    "    class_mode = 'binary'\n",
    ")\n",
    "validation_generator = datagen.flow_from_directory(\n",
    "    path_dir,\n",
    "    target_size=(150,150),\n",
    "    subset='validation',\n",
    "    batch_size = 64,\n",
    "    class_mode = 'binary'\n",
    ")\n",
    "\n",
    "test_set = datagen.flow_from_directory(parth_dir_test,\n",
    "                                        target_size=(150,150),\n",
    "                                        batch_size =64,\n",
    "                                        class_mode = 'binary')\n"
   ]
  },
  {
   "cell_type": "code",
   "execution_count": 19,
   "metadata": {},
   "outputs": [
    {
     "data": {
      "text/plain": [
       "{'nonviolence': 0, 'violence': 1}"
      ]
     },
     "execution_count": 19,
     "metadata": {},
     "output_type": "execute_result"
    }
   ],
   "source": [
    "train_generator.class_indices"
   ]
  },
  {
   "cell_type": "code",
   "execution_count": 20,
   "metadata": {},
   "outputs": [],
   "source": [
    "from tensorflow.keras.callbacks import EarlyStopping, ModelCheckpoint, TensorBoard\n",
    "import datetime\n",
    "\n",
    "#rm -rf /logs/\n",
    "\n",
    "es = EarlyStopping(monitor='val_loss', patience=50)\n",
    "mc = ModelCheckpoint('best_model3.h5', monitor='val_loss', mode='min', save_best_only=True)\n",
    "reduceLR = ReduceLROnPlateau(monitor='val_loss', factor=0.1, patience=10)\n",
    "\n",
    "# Create a TensorBoard callback\n",
    "log_dir = \"logs\\\\fit\\\\\" + datetime.datetime.now().strftime(\"%Y%m%d-%H%M%S\")\n",
    "tensorboard_callback = TensorBoard(log_dir=log_dir, histogram_freq=1)"
   ]
  },
  {
   "cell_type": "code",
   "execution_count": 21,
   "metadata": {},
   "outputs": [
    {
     "name": "stdout",
     "output_type": "stream",
     "text": [
      "Epoch 1/600\n",
      "18/18 [==============================] - 6s 284ms/step - loss: 0.9059 - accuracy: 0.5082 - val_loss: 0.6932 - val_accuracy: 0.5000\n",
      "Epoch 2/600\n",
      "18/18 [==============================] - 4s 217ms/step - loss: 0.6937 - accuracy: 0.5082 - val_loss: 0.6923 - val_accuracy: 0.5000\n",
      "Epoch 3/600\n",
      "18/18 [==============================] - 4s 209ms/step - loss: 0.6790 - accuracy: 0.5608 - val_loss: 0.6652 - val_accuracy: 0.5000\n",
      "Epoch 4/600\n",
      "18/18 [==============================] - 4s 213ms/step - loss: 0.6487 - accuracy: 0.6343 - val_loss: 0.6062 - val_accuracy: 0.5912\n",
      "Epoch 5/600\n",
      "18/18 [==============================] - 4s 226ms/step - loss: 0.6112 - accuracy: 0.6978 - val_loss: 0.5699 - val_accuracy: 0.8869\n",
      "Epoch 6/600\n",
      "18/18 [==============================] - 4s 221ms/step - loss: 0.5635 - accuracy: 0.7613 - val_loss: 0.5058 - val_accuracy: 0.8248\n",
      "Epoch 7/600\n",
      "18/18 [==============================] - 4s 225ms/step - loss: 0.5177 - accuracy: 0.8049 - val_loss: 0.4803 - val_accuracy: 0.9234\n",
      "Epoch 8/600\n",
      "18/18 [==============================] - 4s 224ms/step - loss: 0.4920 - accuracy: 0.8358 - val_loss: 0.4293 - val_accuracy: 0.9270\n",
      "Epoch 9/600\n",
      "18/18 [==============================] - 4s 214ms/step - loss: 0.4751 - accuracy: 0.8475 - val_loss: 0.4488 - val_accuracy: 0.9453\n",
      "Epoch 10/600\n",
      "18/18 [==============================] - 4s 212ms/step - loss: 0.4215 - accuracy: 0.8530 - val_loss: 0.2352 - val_accuracy: 0.9197\n",
      "Epoch 11/600\n",
      "18/18 [==============================] - 4s 213ms/step - loss: 0.3335 - accuracy: 0.8721 - val_loss: 0.1920 - val_accuracy: 0.9453\n",
      "Epoch 12/600\n",
      "18/18 [==============================] - 4s 224ms/step - loss: 0.3010 - accuracy: 0.8711 - val_loss: 0.2124 - val_accuracy: 0.9562\n",
      "Epoch 13/600\n",
      "18/18 [==============================] - 4s 223ms/step - loss: 0.2662 - accuracy: 0.8793 - val_loss: 0.1598 - val_accuracy: 0.9599\n",
      "Epoch 14/600\n",
      "18/18 [==============================] - 4s 218ms/step - loss: 0.2568 - accuracy: 0.8848 - val_loss: 0.2136 - val_accuracy: 0.9270\n",
      "Epoch 15/600\n",
      "18/18 [==============================] - 4s 231ms/step - loss: 0.2311 - accuracy: 0.8938 - val_loss: 0.1515 - val_accuracy: 0.9489\n",
      "Epoch 16/600\n",
      "18/18 [==============================] - 4s 237ms/step - loss: 0.2210 - accuracy: 0.9038 - val_loss: 0.1490 - val_accuracy: 0.9526\n",
      "Epoch 17/600\n",
      "18/18 [==============================] - 4s 221ms/step - loss: 0.1679 - accuracy: 0.9247 - val_loss: 0.1287 - val_accuracy: 0.9526\n",
      "Epoch 18/600\n",
      "18/18 [==============================] - 4s 227ms/step - loss: 0.1789 - accuracy: 0.9201 - val_loss: 0.1412 - val_accuracy: 0.9562\n",
      "Epoch 19/600\n",
      "18/18 [==============================] - 4s 218ms/step - loss: 0.1729 - accuracy: 0.9093 - val_loss: 0.1418 - val_accuracy: 0.9526\n",
      "Epoch 20/600\n",
      "18/18 [==============================] - 4s 216ms/step - loss: 0.1578 - accuracy: 0.9283 - val_loss: 0.1278 - val_accuracy: 0.9489\n",
      "Epoch 21/600\n",
      "18/18 [==============================] - 4s 218ms/step - loss: 0.1647 - accuracy: 0.9138 - val_loss: 0.1283 - val_accuracy: 0.9489\n",
      "Epoch 22/600\n",
      "18/18 [==============================] - 4s 218ms/step - loss: 0.1451 - accuracy: 0.9274 - val_loss: 0.1250 - val_accuracy: 0.9526\n",
      "Epoch 23/600\n",
      "18/18 [==============================] - 4s 219ms/step - loss: 0.1351 - accuracy: 0.9292 - val_loss: 0.1410 - val_accuracy: 0.9453\n",
      "Epoch 24/600\n",
      "18/18 [==============================] - 4s 220ms/step - loss: 0.1511 - accuracy: 0.9247 - val_loss: 0.1422 - val_accuracy: 0.9526\n",
      "Epoch 25/600\n",
      "18/18 [==============================] - 4s 225ms/step - loss: 0.1313 - accuracy: 0.9383 - val_loss: 0.1274 - val_accuracy: 0.9526\n",
      "Epoch 26/600\n",
      "18/18 [==============================] - 4s 213ms/step - loss: 0.1273 - accuracy: 0.9374 - val_loss: 0.1452 - val_accuracy: 0.9489\n",
      "Epoch 27/600\n",
      "18/18 [==============================] - 4s 228ms/step - loss: 0.1120 - accuracy: 0.9338 - val_loss: 0.1298 - val_accuracy: 0.9416\n",
      "Epoch 28/600\n",
      "18/18 [==============================] - 4s 246ms/step - loss: 0.1150 - accuracy: 0.9383 - val_loss: 0.1516 - val_accuracy: 0.9416\n",
      "Epoch 29/600\n",
      "18/18 [==============================] - 4s 235ms/step - loss: 0.1013 - accuracy: 0.9410 - val_loss: 0.1645 - val_accuracy: 0.9416\n",
      "Epoch 30/600\n",
      "18/18 [==============================] - 5s 296ms/step - loss: 0.1327 - accuracy: 0.9265 - val_loss: 0.1520 - val_accuracy: 0.9416\n",
      "Epoch 31/600\n",
      "18/18 [==============================] - 4s 230ms/step - loss: 0.1019 - accuracy: 0.9419 - val_loss: 0.1463 - val_accuracy: 0.9416\n",
      "Epoch 32/600\n",
      "18/18 [==============================] - 4s 225ms/step - loss: 0.0915 - accuracy: 0.9465 - val_loss: 0.1531 - val_accuracy: 0.9526\n",
      "Epoch 33/600\n",
      "18/18 [==============================] - 4s 223ms/step - loss: 0.0962 - accuracy: 0.9465 - val_loss: 0.1545 - val_accuracy: 0.9489\n",
      "Epoch 34/600\n",
      "18/18 [==============================] - 4s 212ms/step - loss: 0.0919 - accuracy: 0.9437 - val_loss: 0.1485 - val_accuracy: 0.9416\n",
      "Epoch 35/600\n",
      "18/18 [==============================] - 4s 213ms/step - loss: 0.0995 - accuracy: 0.9319 - val_loss: 0.1529 - val_accuracy: 0.9416\n",
      "Epoch 36/600\n",
      "18/18 [==============================] - 4s 213ms/step - loss: 0.0975 - accuracy: 0.9374 - val_loss: 0.1506 - val_accuracy: 0.9416\n",
      "Epoch 37/600\n",
      "18/18 [==============================] - 4s 214ms/step - loss: 0.0959 - accuracy: 0.9437 - val_loss: 0.1581 - val_accuracy: 0.9489\n",
      "Epoch 38/600\n",
      "18/18 [==============================] - 4s 221ms/step - loss: 0.1008 - accuracy: 0.9365 - val_loss: 0.1527 - val_accuracy: 0.9416\n",
      "Epoch 39/600\n",
      "18/18 [==============================] - 5s 255ms/step - loss: 0.0851 - accuracy: 0.9492 - val_loss: 0.1581 - val_accuracy: 0.9453\n",
      "Epoch 40/600\n",
      "18/18 [==============================] - 4s 219ms/step - loss: 0.0846 - accuracy: 0.9501 - val_loss: 0.1592 - val_accuracy: 0.9453\n",
      "Epoch 41/600\n",
      "18/18 [==============================] - 4s 208ms/step - loss: 0.0881 - accuracy: 0.9474 - val_loss: 0.1650 - val_accuracy: 0.9453\n",
      "Epoch 42/600\n",
      "18/18 [==============================] - 4s 205ms/step - loss: 0.0924 - accuracy: 0.9392 - val_loss: 0.1602 - val_accuracy: 0.9489\n",
      "Epoch 43/600\n",
      "18/18 [==============================] - 4s 214ms/step - loss: 0.0934 - accuracy: 0.9392 - val_loss: 0.1604 - val_accuracy: 0.9453\n",
      "Epoch 44/600\n",
      "18/18 [==============================] - 4s 206ms/step - loss: 0.1009 - accuracy: 0.9347 - val_loss: 0.1616 - val_accuracy: 0.9489\n",
      "Epoch 45/600\n",
      "18/18 [==============================] - 4s 206ms/step - loss: 0.0940 - accuracy: 0.9446 - val_loss: 0.1620 - val_accuracy: 0.9489\n",
      "Epoch 46/600\n",
      "18/18 [==============================] - 4s 204ms/step - loss: 0.0879 - accuracy: 0.9365 - val_loss: 0.1618 - val_accuracy: 0.9489\n",
      "Epoch 47/600\n",
      "18/18 [==============================] - 4s 206ms/step - loss: 0.0835 - accuracy: 0.9483 - val_loss: 0.1613 - val_accuracy: 0.9489\n",
      "Epoch 48/600\n",
      "18/18 [==============================] - 4s 204ms/step - loss: 0.0860 - accuracy: 0.9465 - val_loss: 0.1607 - val_accuracy: 0.9453\n",
      "Epoch 49/600\n",
      "18/18 [==============================] - 4s 203ms/step - loss: 0.0900 - accuracy: 0.9419 - val_loss: 0.1607 - val_accuracy: 0.9453\n",
      "Epoch 50/600\n",
      "18/18 [==============================] - 4s 205ms/step - loss: 0.0980 - accuracy: 0.9328 - val_loss: 0.1603 - val_accuracy: 0.9453\n",
      "Epoch 51/600\n",
      "18/18 [==============================] - 4s 204ms/step - loss: 0.1073 - accuracy: 0.9292 - val_loss: 0.1617 - val_accuracy: 0.9489\n",
      "Epoch 52/600\n",
      "18/18 [==============================] - 4s 206ms/step - loss: 0.0975 - accuracy: 0.9383 - val_loss: 0.1616 - val_accuracy: 0.9489\n",
      "Epoch 53/600\n",
      "18/18 [==============================] - 4s 205ms/step - loss: 0.0911 - accuracy: 0.9428 - val_loss: 0.1616 - val_accuracy: 0.9489\n",
      "Epoch 54/600\n",
      "18/18 [==============================] - 4s 203ms/step - loss: 0.0957 - accuracy: 0.9292 - val_loss: 0.1616 - val_accuracy: 0.9489\n",
      "Epoch 55/600\n",
      "18/18 [==============================] - 4s 203ms/step - loss: 0.0962 - accuracy: 0.9401 - val_loss: 0.1616 - val_accuracy: 0.9489\n",
      "Epoch 56/600\n",
      "18/18 [==============================] - 4s 206ms/step - loss: 0.1001 - accuracy: 0.9383 - val_loss: 0.1614 - val_accuracy: 0.9489\n",
      "Epoch 57/600\n",
      "18/18 [==============================] - 4s 204ms/step - loss: 0.0954 - accuracy: 0.9356 - val_loss: 0.1614 - val_accuracy: 0.9489\n"
     ]
    },
    {
     "name": "stdout",
     "output_type": "stream",
     "text": [
      "Epoch 58/600\n",
      "18/18 [==============================] - 4s 208ms/step - loss: 0.0771 - accuracy: 0.9574 - val_loss: 0.1614 - val_accuracy: 0.9489\n",
      "Epoch 59/600\n",
      "18/18 [==============================] - 4s 205ms/step - loss: 0.0872 - accuracy: 0.9501 - val_loss: 0.1614 - val_accuracy: 0.9489\n",
      "Epoch 60/600\n",
      "18/18 [==============================] - 4s 206ms/step - loss: 0.0818 - accuracy: 0.9501 - val_loss: 0.1614 - val_accuracy: 0.9489\n",
      "Epoch 61/600\n",
      "18/18 [==============================] - 4s 207ms/step - loss: 0.0940 - accuracy: 0.9410 - val_loss: 0.1615 - val_accuracy: 0.9489\n",
      "Epoch 62/600\n",
      "18/18 [==============================] - 4s 208ms/step - loss: 0.0944 - accuracy: 0.9328 - val_loss: 0.1615 - val_accuracy: 0.9453\n",
      "Epoch 63/600\n",
      "18/18 [==============================] - 4s 204ms/step - loss: 0.0989 - accuracy: 0.9419 - val_loss: 0.1615 - val_accuracy: 0.9453\n",
      "Epoch 64/600\n",
      "18/18 [==============================] - 4s 206ms/step - loss: 0.0922 - accuracy: 0.9356 - val_loss: 0.1615 - val_accuracy: 0.9453\n",
      "Epoch 65/600\n",
      "18/18 [==============================] - 4s 206ms/step - loss: 0.1026 - accuracy: 0.9374 - val_loss: 0.1615 - val_accuracy: 0.9453\n",
      "Epoch 66/600\n",
      "18/18 [==============================] - 4s 207ms/step - loss: 0.0816 - accuracy: 0.9510 - val_loss: 0.1615 - val_accuracy: 0.9489\n",
      "Epoch 67/600\n",
      "18/18 [==============================] - 4s 205ms/step - loss: 0.1041 - accuracy: 0.9347 - val_loss: 0.1615 - val_accuracy: 0.9489\n",
      "Epoch 68/600\n",
      "18/18 [==============================] - 4s 203ms/step - loss: 0.0890 - accuracy: 0.9474 - val_loss: 0.1615 - val_accuracy: 0.9489\n",
      "Epoch 69/600\n",
      "18/18 [==============================] - 4s 203ms/step - loss: 0.0991 - accuracy: 0.9465 - val_loss: 0.1615 - val_accuracy: 0.9489\n",
      "Epoch 70/600\n",
      "18/18 [==============================] - 4s 208ms/step - loss: 0.0792 - accuracy: 0.9465 - val_loss: 0.1615 - val_accuracy: 0.9489\n",
      "Epoch 71/600\n",
      "18/18 [==============================] - 4s 203ms/step - loss: 0.0963 - accuracy: 0.9328 - val_loss: 0.1615 - val_accuracy: 0.9489\n",
      "Epoch 72/600\n",
      "18/18 [==============================] - 4s 208ms/step - loss: 0.0882 - accuracy: 0.9428 - val_loss: 0.1615 - val_accuracy: 0.9489\n"
     ]
    },
    {
     "data": {
      "text/plain": [
       "<tensorflow.python.keras.callbacks.History at 0x1e1c1f24c70>"
      ]
     },
     "execution_count": 21,
     "metadata": {},
     "output_type": "execute_result"
    }
   ],
   "source": [
    "classifier.fit(train_generator,\n",
    "                         epochs = 600,\n",
    "                         callbacks = [tensorboard_callback,es,mc,reduceLR],\n",
    "                         validation_data = validation_generator\n",
    "                         )"
   ]
  },
  {
   "cell_type": "code",
   "execution_count": 10,
   "metadata": {},
   "outputs": [],
   "source": [
    "#Overfitting -> Your training accuracy will be higher than the accuracy on the validation/test set\n",
    "\n",
    "#Overfitting indicates that your model is too complex for the problem that it is solving,\n",
    "#filters in the case of Convolutional Neural Networks, and layers in the case of overall Deep Learning Models\n",
    "\n",
    "#How do you know if your model is underfitting? Your model is underfitting if the accuracy on the validation set \n",
    "#is higher than the accuracy on the training set. Additionally, \n",
    "#if the whole model performs bad this is also called underfitting.\n",
    "\n",
    "#https://towardsdatascience.com/deep-learning-3-more-on-cnns-handling-overfitting-2bd5d99abe5d"
   ]
  },
  {
   "cell_type": "code",
   "execution_count": 3,
   "metadata": {},
   "outputs": [
    {
     "data": {
      "text/plain": [
       "Reusing TensorBoard on port 6006 (pid 6560), started 1 day, 0:03:10 ago. (Use '!kill 6560' to kill it.)"
      ]
     },
     "metadata": {},
     "output_type": "display_data"
    },
    {
     "data": {
      "text/html": [
       "\n",
       "      <iframe id=\"tensorboard-frame-d4aa5c2a28b81b5e\" width=\"100%\" height=\"800\" frameborder=\"0\">\n",
       "      </iframe>\n",
       "      <script>\n",
       "        (function() {\n",
       "          const frame = document.getElementById(\"tensorboard-frame-d4aa5c2a28b81b5e\");\n",
       "          const url = new URL(\"/\", window.location);\n",
       "          const port = 6006;\n",
       "          if (port) {\n",
       "            url.port = port;\n",
       "          }\n",
       "          frame.src = url;\n",
       "        })();\n",
       "      </script>\n",
       "    "
      ],
      "text/plain": [
       "<IPython.core.display.HTML object>"
      ]
     },
     "metadata": {},
     "output_type": "display_data"
    }
   ],
   "source": [
    "%tensorboard --logdir logs/fit"
   ]
  },
  {
   "cell_type": "markdown",
   "metadata": {},
   "source": [
    "# Part 3 test the CNN"
   ]
  },
  {
   "cell_type": "code",
   "execution_count": 4,
   "metadata": {},
   "outputs": [
    {
     "ename": "NameError",
     "evalue": "name 'classifier' is not defined",
     "output_type": "error",
     "traceback": [
      "\u001b[1;31m---------------------------------------------------------------------------\u001b[0m",
      "\u001b[1;31mNameError\u001b[0m                                 Traceback (most recent call last)",
      "\u001b[1;32m~\\AppData\\Local\\Temp/ipykernel_7436/1594908937.py\u001b[0m in \u001b[0;36m<module>\u001b[1;34m\u001b[0m\n\u001b[0;32m      1\u001b[0m \u001b[1;31m# Load Model\u001b[0m\u001b[1;33m\u001b[0m\u001b[1;33m\u001b[0m\u001b[1;33m\u001b[0m\u001b[0m\n\u001b[1;32m----> 2\u001b[1;33m \u001b[0mclassifier\u001b[0m\u001b[1;33m.\u001b[0m\u001b[0mload_weights\u001b[0m\u001b[1;33m(\u001b[0m\u001b[1;34m'best_model3.h5'\u001b[0m\u001b[1;33m)\u001b[0m\u001b[1;33m\u001b[0m\u001b[1;33m\u001b[0m\u001b[0m\n\u001b[0m",
      "\u001b[1;31mNameError\u001b[0m: name 'classifier' is not defined"
     ]
    }
   ],
   "source": [
    "# Load Model\n",
    "classifier.load_weights('best_model3.h5')"
   ]
  },
  {
   "cell_type": "code",
   "execution_count": 24,
   "metadata": {},
   "outputs": [
    {
     "name": "stdout",
     "output_type": "stream",
     "text": [
      "Model: \"sequential_2\"\n",
      "_________________________________________________________________\n",
      "Layer (type)                 Output Shape              Param #   \n",
      "=================================================================\n",
      "conv2d_4 (Conv2D)            (None, 150, 150, 16)      448       \n",
      "_________________________________________________________________\n",
      "max_pooling2d_4 (MaxPooling2 (None, 75, 75, 16)        0         \n",
      "_________________________________________________________________\n",
      "conv2d_5 (Conv2D)            (None, 75, 75, 32)        4640      \n",
      "_________________________________________________________________\n",
      "max_pooling2d_5 (MaxPooling2 (None, 37, 37, 32)        0         \n",
      "_________________________________________________________________\n",
      "flatten_2 (Flatten)          (None, 43808)             0         \n",
      "_________________________________________________________________\n",
      "dense_4 (Dense)              (None, 32)                1401888   \n",
      "_________________________________________________________________\n",
      "dropout_4 (Dropout)          (None, 32)                0         \n",
      "_________________________________________________________________\n",
      "dense_5 (Dense)              (None, 1)                 33        \n",
      "=================================================================\n",
      "Total params: 1,407,009\n",
      "Trainable params: 1,407,009\n",
      "Non-trainable params: 0\n",
      "_________________________________________________________________\n"
     ]
    }
   ],
   "source": [
    "classifier.summary()"
   ]
  },
  {
   "cell_type": "code",
   "execution_count": 25,
   "metadata": {},
   "outputs": [
    {
     "name": "stdout",
     "output_type": "stream",
     "text": [
      "Test Loss 0.21563583612442017\n",
      "Test accuracy 0.9156976938247681\n"
     ]
    }
   ],
   "source": [
    "score = classifier.evaluate(test_set, verbose=0)\n",
    "\n",
    "print('Test Loss', score[0])\n",
    "print('Test accuracy', score[1])"
   ]
  },
  {
   "cell_type": "code",
   "execution_count": null,
   "metadata": {},
   "outputs": [],
   "source": []
  }
 ],
 "metadata": {
  "kernelspec": {
   "display_name": "Python 3 (ipykernel)",
   "language": "python",
   "name": "python3"
  },
  "language_info": {
   "codemirror_mode": {
    "name": "ipython",
    "version": 3
   },
   "file_extension": ".py",
   "mimetype": "text/x-python",
   "name": "python",
   "nbconvert_exporter": "python",
   "pygments_lexer": "ipython3",
   "version": "3.8.0"
  }
 },
 "nbformat": 4,
 "nbformat_minor": 4
}
