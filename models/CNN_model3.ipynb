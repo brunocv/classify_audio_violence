{
 "cells": [
  {
   "cell_type": "markdown",
   "metadata": {},
   "source": [
    "# Convolutional Neural Network\n",
    "\n",
    "### Part 1 - Building the CNN\n",
    "\n",
    "#### Importing the Tensorflow libraries and packages"
   ]
  },
  {
   "cell_type": "code",
   "execution_count": 1,
   "metadata": {},
   "outputs": [
    {
     "name": "stdout",
     "output_type": "stream",
     "text": [
      "Tensor Flow Version: 2.6.0\n",
      "Keras Version: 2.6.0\n",
      "\n",
      "Python 3.8.0 (default, Nov  6 2019, 16:00:02) [MSC v.1916 64 bit (AMD64)]\n",
      "Pandas 1.2.5\n",
      "Scikit-Learn 1.0.2\n",
      "GPU is available\n"
     ]
    }
   ],
   "source": [
    "import sys\n",
    "\n",
    "import tensorflow.keras\n",
    "import pandas as pd\n",
    "import sklearn as sk\n",
    "import tensorflow as tf\n",
    "\n",
    "print(f\"Tensor Flow Version: {tf.__version__}\")\n",
    "print(f\"Keras Version: {tensorflow.keras.__version__}\")\n",
    "print()\n",
    "print(f\"Python {sys.version}\")\n",
    "print(f\"Pandas {pd.__version__}\")\n",
    "print(f\"Scikit-Learn {sk.__version__}\")\n",
    "gpu = len(tf.config.list_physical_devices('GPU'))>0\n",
    "print(\"GPU is\", \"available\" if gpu else \"NOT AVAILABLE\")"
   ]
  },
  {
   "cell_type": "code",
   "execution_count": 2,
   "metadata": {},
   "outputs": [],
   "source": [
    "# Load the TensorBoard notebook extension\n",
    "%load_ext tensorboard\n",
    "from tensorflow.keras.models import Sequential\n",
    "from tensorflow.keras.layers import Conv2D, MaxPooling2D, Flatten, Dense, Dropout\n",
    "from tensorflow.keras.callbacks import ReduceLROnPlateau\n",
    "\n",
    "import os"
   ]
  },
  {
   "cell_type": "code",
   "execution_count": 3,
   "metadata": {},
   "outputs": [],
   "source": [
    "classifier = Sequential()\n",
    "\n",
    "#classes = 2\n",
    "\n",
    "#Kernels usually 1x1 | 3x3 | 5x5\n",
    "\n",
    "#Adding a convolutional layer\n",
    "classifier.add(Conv2D(64, (3, 3), input_shape = (150, 150, 3), padding='same', activation = 'relu'))\n",
    "classifier.add(MaxPooling2D(pool_size = (2, 2)))\n",
    "classifier.add(Dropout(0.40))\n",
    "\n",
    "#Adding a second convolutional layer\n",
    "classifier.add(Conv2D(128, (3, 3), padding='same', activation = 'relu'))\n",
    "classifier.add(MaxPooling2D(pool_size = (2, 2)))\n",
    "classifier.add(Dropout(0.40))\n",
    "\n",
    "\n",
    "#Flattening\n",
    "classifier.add(Flatten())\n",
    "\n",
    "\n",
    "#Full connection\n",
    "classifier.add(Dense(units = 128, activation = 'relu'))\n",
    "classifier.add(Dropout(0.50))\n",
    "classifier.add(Dense(units = 1, activation= 'sigmoid'))"
   ]
  },
  {
   "cell_type": "markdown",
   "metadata": {},
   "source": [
    "Let's double check the model description:"
   ]
  },
  {
   "cell_type": "code",
   "execution_count": 4,
   "metadata": {},
   "outputs": [
    {
     "name": "stdout",
     "output_type": "stream",
     "text": [
      "Model: \"sequential\"\n",
      "_________________________________________________________________\n",
      "Layer (type)                 Output Shape              Param #   \n",
      "=================================================================\n",
      "conv2d (Conv2D)              (None, 150, 150, 64)      1792      \n",
      "_________________________________________________________________\n",
      "max_pooling2d (MaxPooling2D) (None, 75, 75, 64)        0         \n",
      "_________________________________________________________________\n",
      "dropout (Dropout)            (None, 75, 75, 64)        0         \n",
      "_________________________________________________________________\n",
      "conv2d_1 (Conv2D)            (None, 75, 75, 128)       73856     \n",
      "_________________________________________________________________\n",
      "max_pooling2d_1 (MaxPooling2 (None, 37, 37, 128)       0         \n",
      "_________________________________________________________________\n",
      "dropout_1 (Dropout)          (None, 37, 37, 128)       0         \n",
      "_________________________________________________________________\n",
      "flatten (Flatten)            (None, 175232)            0         \n",
      "_________________________________________________________________\n",
      "dense (Dense)                (None, 128)               22429824  \n",
      "_________________________________________________________________\n",
      "dropout_2 (Dropout)          (None, 128)               0         \n",
      "_________________________________________________________________\n",
      "dense_1 (Dense)              (None, 1)                 129       \n",
      "=================================================================\n",
      "Total params: 22,505,601\n",
      "Trainable params: 22,505,601\n",
      "Non-trainable params: 0\n",
      "_________________________________________________________________\n"
     ]
    }
   ],
   "source": [
    "classifier.summary()"
   ]
  },
  {
   "cell_type": "code",
   "execution_count": 5,
   "metadata": {},
   "outputs": [],
   "source": [
    "classifier.compile(optimizer = 'adam', loss = 'binary_crossentropy', metrics = ['accuracy'])"
   ]
  },
  {
   "cell_type": "markdown",
   "metadata": {},
   "source": [
    "### Part 2 - Fitting the CNN to the images\n"
   ]
  },
  {
   "cell_type": "code",
   "execution_count": 6,
   "metadata": {},
   "outputs": [
    {
     "name": "stdout",
     "output_type": "stream",
     "text": [
      "Found 1102 images belonging to 2 classes.\n",
      "Found 274 images belonging to 2 classes.\n",
      "Found 344 images belonging to 2 classes.\n"
     ]
    }
   ],
   "source": [
    "from tensorflow.keras.preprocessing.image import ImageDataGenerator\n",
    "\n",
    "path_dir = '../dataset_mel_final/train'\n",
    "parth_dir_test = '../dataset_mel_final/test'\n",
    "\n",
    "datagen = ImageDataGenerator(\n",
    "                    rescale=1./255,\n",
    "                    validation_split = 0.2)\n",
    "\n",
    "train_generator = datagen.flow_from_directory(\n",
    "    path_dir,\n",
    "    target_size=(150,150),\n",
    "    shuffle=True,\n",
    "    subset='training',\n",
    "    batch_size = 64,\n",
    "    class_mode = 'binary'\n",
    ")\n",
    "validation_generator = datagen.flow_from_directory(\n",
    "    path_dir,\n",
    "    target_size=(150,150),\n",
    "    subset='validation',\n",
    "    batch_size = 64,\n",
    "    class_mode = 'binary'\n",
    ")\n",
    "\n",
    "test_set = datagen.flow_from_directory(parth_dir_test,\n",
    "                                        target_size=(150,150),\n",
    "                                        batch_size =64,\n",
    "                                        class_mode = 'binary')\n"
   ]
  },
  {
   "cell_type": "code",
   "execution_count": 7,
   "metadata": {},
   "outputs": [
    {
     "data": {
      "text/plain": [
       "{'nonviolence': 0, 'violence': 1}"
      ]
     },
     "execution_count": 7,
     "metadata": {},
     "output_type": "execute_result"
    }
   ],
   "source": [
    "train_generator.class_indices"
   ]
  },
  {
   "cell_type": "code",
   "execution_count": 8,
   "metadata": {},
   "outputs": [],
   "source": [
    "from tensorflow.keras.callbacks import EarlyStopping, ModelCheckpoint, TensorBoard\n",
    "import datetime\n",
    "\n",
    "#rm -rf /logs/\n",
    "\n",
    "es = EarlyStopping(monitor='val_loss', patience=50)\n",
    "mc = ModelCheckpoint('best_model3.h5', monitor='val_loss', mode='min', save_best_only=True)\n",
    "reduceLR = ReduceLROnPlateau(monitor='val_loss', factor=0.1, patience=10)\n",
    "\n",
    "# Create a TensorBoard callback\n",
    "log_dir = \"logs\\\\fit\\\\\" + datetime.datetime.now().strftime(\"%Y%m%d-%H%M%S\")\n",
    "tensorboard_callback = TensorBoard(log_dir=log_dir, histogram_freq=1)"
   ]
  },
  {
   "cell_type": "code",
   "execution_count": 9,
   "metadata": {},
   "outputs": [
    {
     "name": "stdout",
     "output_type": "stream",
     "text": [
      "Epoch 1/600\n",
      "18/18 [==============================] - 9s 293ms/step - loss: 3.4532 - accuracy: 0.5073 - val_loss: 0.6931 - val_accuracy: 0.5000\n",
      "Epoch 2/600\n",
      "18/18 [==============================] - 4s 224ms/step - loss: 0.6922 - accuracy: 0.5354 - val_loss: 0.6900 - val_accuracy: 0.5000\n",
      "Epoch 3/600\n",
      "18/18 [==============================] - 4s 227ms/step - loss: 0.6529 - accuracy: 0.6216 - val_loss: 0.5910 - val_accuracy: 0.8066\n",
      "Epoch 4/600\n",
      "18/18 [==============================] - 4s 224ms/step - loss: 0.5462 - accuracy: 0.7314 - val_loss: 0.4629 - val_accuracy: 0.8431\n",
      "Epoch 5/600\n",
      "18/18 [==============================] - 4s 232ms/step - loss: 0.5006 - accuracy: 0.7595 - val_loss: 0.3847 - val_accuracy: 0.8431\n",
      "Epoch 6/600\n",
      "18/18 [==============================] - 4s 245ms/step - loss: 0.4693 - accuracy: 0.8013 - val_loss: 0.3961 - val_accuracy: 0.8431\n",
      "Epoch 7/600\n",
      "18/18 [==============================] - 4s 234ms/step - loss: 0.4066 - accuracy: 0.8312 - val_loss: 0.2933 - val_accuracy: 0.9124\n",
      "Epoch 8/600\n",
      "18/18 [==============================] - 4s 243ms/step - loss: 0.3423 - accuracy: 0.8693 - val_loss: 0.2858 - val_accuracy: 0.9161\n",
      "Epoch 9/600\n",
      "18/18 [==============================] - 4s 238ms/step - loss: 0.3221 - accuracy: 0.8739 - val_loss: 0.2200 - val_accuracy: 0.9197\n",
      "Epoch 10/600\n",
      "18/18 [==============================] - 4s 224ms/step - loss: 0.3138 - accuracy: 0.8784 - val_loss: 0.1718 - val_accuracy: 0.9453\n",
      "Epoch 11/600\n",
      "18/18 [==============================] - 4s 238ms/step - loss: 0.2977 - accuracy: 0.8784 - val_loss: 0.1596 - val_accuracy: 0.9635\n",
      "Epoch 12/600\n",
      "18/18 [==============================] - 4s 235ms/step - loss: 0.2615 - accuracy: 0.8893 - val_loss: 0.1368 - val_accuracy: 0.9635\n",
      "Epoch 13/600\n",
      "18/18 [==============================] - 4s 225ms/step - loss: 0.2557 - accuracy: 0.9083 - val_loss: 0.1345 - val_accuracy: 0.9562\n",
      "Epoch 14/600\n",
      "18/18 [==============================] - 4s 222ms/step - loss: 0.2698 - accuracy: 0.9002 - val_loss: 0.1399 - val_accuracy: 0.9599\n",
      "Epoch 15/600\n",
      "18/18 [==============================] - 4s 225ms/step - loss: 0.2526 - accuracy: 0.9056 - val_loss: 0.1147 - val_accuracy: 0.9672\n",
      "Epoch 16/600\n",
      "18/18 [==============================] - 4s 223ms/step - loss: 0.2325 - accuracy: 0.9083 - val_loss: 0.1279 - val_accuracy: 0.9672\n",
      "Epoch 17/600\n",
      "18/18 [==============================] - 5s 249ms/step - loss: 0.2482 - accuracy: 0.9065 - val_loss: 0.1062 - val_accuracy: 0.9635\n",
      "Epoch 18/600\n",
      "18/18 [==============================] - 4s 240ms/step - loss: 0.2309 - accuracy: 0.9120 - val_loss: 0.1402 - val_accuracy: 0.9526\n",
      "Epoch 19/600\n",
      "18/18 [==============================] - 4s 227ms/step - loss: 0.2169 - accuracy: 0.9138 - val_loss: 0.1148 - val_accuracy: 0.9672\n",
      "Epoch 20/600\n",
      "18/18 [==============================] - 4s 243ms/step - loss: 0.2169 - accuracy: 0.9156 - val_loss: 0.1190 - val_accuracy: 0.9562\n",
      "Epoch 21/600\n",
      "18/18 [==============================] - 4s 239ms/step - loss: 0.2095 - accuracy: 0.9238 - val_loss: 0.1008 - val_accuracy: 0.9672\n",
      "Epoch 22/600\n",
      "18/18 [==============================] - 5s 307ms/step - loss: 0.2045 - accuracy: 0.9238 - val_loss: 0.0853 - val_accuracy: 0.9708\n",
      "Epoch 23/600\n",
      "18/18 [==============================] - 5s 260ms/step - loss: 0.1992 - accuracy: 0.9283 - val_loss: 0.0887 - val_accuracy: 0.9781\n",
      "Epoch 24/600\n",
      "18/18 [==============================] - 5s 258ms/step - loss: 0.1821 - accuracy: 0.9328 - val_loss: 0.1018 - val_accuracy: 0.9745\n",
      "Epoch 25/600\n",
      "18/18 [==============================] - 4s 235ms/step - loss: 0.1740 - accuracy: 0.9374 - val_loss: 0.0817 - val_accuracy: 0.9708\n",
      "Epoch 26/600\n",
      "18/18 [==============================] - 4s 248ms/step - loss: 0.1949 - accuracy: 0.9328 - val_loss: 0.1105 - val_accuracy: 0.9708\n",
      "Epoch 27/600\n",
      "18/18 [==============================] - 5s 252ms/step - loss: 0.1597 - accuracy: 0.9401 - val_loss: 0.1141 - val_accuracy: 0.9562\n",
      "Epoch 28/600\n",
      "18/18 [==============================] - 4s 240ms/step - loss: 0.1662 - accuracy: 0.9446 - val_loss: 0.0945 - val_accuracy: 0.9672\n",
      "Epoch 29/600\n",
      "18/18 [==============================] - 5s 253ms/step - loss: 0.1543 - accuracy: 0.9437 - val_loss: 0.0946 - val_accuracy: 0.9708\n",
      "Epoch 30/600\n",
      "18/18 [==============================] - 5s 259ms/step - loss: 0.1503 - accuracy: 0.9365 - val_loss: 0.1050 - val_accuracy: 0.9672\n",
      "Epoch 31/600\n",
      "18/18 [==============================] - 5s 293ms/step - loss: 0.1474 - accuracy: 0.9456 - val_loss: 0.0907 - val_accuracy: 0.9672\n",
      "Epoch 32/600\n",
      "18/18 [==============================] - 5s 254ms/step - loss: 0.1276 - accuracy: 0.9528 - val_loss: 0.0774 - val_accuracy: 0.9745\n",
      "Epoch 33/600\n",
      "18/18 [==============================] - 4s 235ms/step - loss: 0.1389 - accuracy: 0.9492 - val_loss: 0.0950 - val_accuracy: 0.9599\n",
      "Epoch 34/600\n",
      "18/18 [==============================] - 4s 247ms/step - loss: 0.1567 - accuracy: 0.9356 - val_loss: 0.0767 - val_accuracy: 0.9781\n",
      "Epoch 35/600\n",
      "18/18 [==============================] - 4s 245ms/step - loss: 0.1170 - accuracy: 0.9564 - val_loss: 0.0700 - val_accuracy: 0.9745\n",
      "Epoch 36/600\n",
      "18/18 [==============================] - 5s 265ms/step - loss: 0.1339 - accuracy: 0.9510 - val_loss: 0.0852 - val_accuracy: 0.9672\n",
      "Epoch 37/600\n",
      "18/18 [==============================] - 5s 273ms/step - loss: 0.1348 - accuracy: 0.9492 - val_loss: 0.1046 - val_accuracy: 0.9635\n",
      "Epoch 38/600\n",
      "18/18 [==============================] - 5s 259ms/step - loss: 0.1310 - accuracy: 0.9537 - val_loss: 0.0770 - val_accuracy: 0.9745\n",
      "Epoch 39/600\n",
      "18/18 [==============================] - 5s 261ms/step - loss: 0.1164 - accuracy: 0.9564 - val_loss: 0.0971 - val_accuracy: 0.9672\n",
      "Epoch 40/600\n",
      "18/18 [==============================] - 5s 264ms/step - loss: 0.1176 - accuracy: 0.9546 - val_loss: 0.0733 - val_accuracy: 0.9672\n",
      "Epoch 41/600\n",
      "18/18 [==============================] - 5s 256ms/step - loss: 0.1008 - accuracy: 0.9655 - val_loss: 0.0765 - val_accuracy: 0.9635\n",
      "Epoch 42/600\n",
      "18/18 [==============================] - 4s 240ms/step - loss: 0.1080 - accuracy: 0.9592 - val_loss: 0.0867 - val_accuracy: 0.9745\n",
      "Epoch 43/600\n",
      "18/18 [==============================] - 5s 252ms/step - loss: 0.1066 - accuracy: 0.9628 - val_loss: 0.0886 - val_accuracy: 0.9562\n",
      "Epoch 44/600\n",
      "18/18 [==============================] - 4s 244ms/step - loss: 0.1194 - accuracy: 0.9555 - val_loss: 0.0967 - val_accuracy: 0.9599\n",
      "Epoch 45/600\n",
      "18/18 [==============================] - 4s 225ms/step - loss: 0.0912 - accuracy: 0.9601 - val_loss: 0.0849 - val_accuracy: 0.9635\n",
      "Epoch 46/600\n",
      "18/18 [==============================] - 4s 238ms/step - loss: 0.0893 - accuracy: 0.9691 - val_loss: 0.0937 - val_accuracy: 0.9635\n",
      "Epoch 47/600\n",
      "18/18 [==============================] - 4s 243ms/step - loss: 0.0947 - accuracy: 0.9682 - val_loss: 0.0815 - val_accuracy: 0.9562\n",
      "Epoch 48/600\n",
      "18/18 [==============================] - 4s 234ms/step - loss: 0.0730 - accuracy: 0.9728 - val_loss: 0.0789 - val_accuracy: 0.9526\n",
      "Epoch 49/600\n",
      "18/18 [==============================] - 4s 246ms/step - loss: 0.0837 - accuracy: 0.9728 - val_loss: 0.0764 - val_accuracy: 0.9672\n",
      "Epoch 50/600\n",
      "18/18 [==============================] - 5s 267ms/step - loss: 0.0849 - accuracy: 0.9773 - val_loss: 0.0897 - val_accuracy: 0.9526\n",
      "Epoch 51/600\n",
      "18/18 [==============================] - 5s 259ms/step - loss: 0.0724 - accuracy: 0.9710 - val_loss: 0.0813 - val_accuracy: 0.9635\n",
      "Epoch 52/600\n",
      "18/18 [==============================] - 4s 241ms/step - loss: 0.0838 - accuracy: 0.9637 - val_loss: 0.0792 - val_accuracy: 0.9672\n",
      "Epoch 53/600\n",
      "18/18 [==============================] - 5s 267ms/step - loss: 0.0800 - accuracy: 0.9737 - val_loss: 0.0788 - val_accuracy: 0.9672\n",
      "Epoch 54/600\n",
      "18/18 [==============================] - 5s 268ms/step - loss: 0.0663 - accuracy: 0.9755 - val_loss: 0.0846 - val_accuracy: 0.9599\n",
      "Epoch 55/600\n",
      "18/18 [==============================] - 5s 280ms/step - loss: 0.0784 - accuracy: 0.9737 - val_loss: 0.0785 - val_accuracy: 0.9672\n",
      "Epoch 56/600\n",
      "18/18 [==============================] - 5s 250ms/step - loss: 0.0830 - accuracy: 0.9728 - val_loss: 0.0786 - val_accuracy: 0.9672\n",
      "Epoch 57/600\n",
      "18/18 [==============================] - 5s 257ms/step - loss: 0.0914 - accuracy: 0.9701 - val_loss: 0.0791 - val_accuracy: 0.9672\n"
     ]
    },
    {
     "name": "stdout",
     "output_type": "stream",
     "text": [
      "Epoch 58/600\n",
      "18/18 [==============================] - 5s 255ms/step - loss: 0.0706 - accuracy: 0.9755 - val_loss: 0.0797 - val_accuracy: 0.9672\n",
      "Epoch 59/600\n",
      "18/18 [==============================] - 4s 246ms/step - loss: 0.0817 - accuracy: 0.9773 - val_loss: 0.0799 - val_accuracy: 0.9672\n",
      "Epoch 60/600\n",
      "18/18 [==============================] - 4s 242ms/step - loss: 0.0763 - accuracy: 0.9719 - val_loss: 0.0803 - val_accuracy: 0.9635\n",
      "Epoch 61/600\n",
      "18/18 [==============================] - 4s 251ms/step - loss: 0.0773 - accuracy: 0.9737 - val_loss: 0.0808 - val_accuracy: 0.9635\n",
      "Epoch 62/600\n",
      "18/18 [==============================] - 4s 231ms/step - loss: 0.0739 - accuracy: 0.9728 - val_loss: 0.0812 - val_accuracy: 0.9635\n",
      "Epoch 63/600\n",
      "18/18 [==============================] - 4s 218ms/step - loss: 0.0792 - accuracy: 0.9782 - val_loss: 0.0816 - val_accuracy: 0.9635\n",
      "Epoch 64/600\n",
      "18/18 [==============================] - 4s 234ms/step - loss: 0.0730 - accuracy: 0.9728 - val_loss: 0.0805 - val_accuracy: 0.9672\n",
      "Epoch 65/600\n",
      "18/18 [==============================] - 4s 233ms/step - loss: 0.0802 - accuracy: 0.9664 - val_loss: 0.0808 - val_accuracy: 0.9672\n",
      "Epoch 66/600\n",
      "18/18 [==============================] - 4s 225ms/step - loss: 0.0709 - accuracy: 0.9746 - val_loss: 0.0807 - val_accuracy: 0.9635\n",
      "Epoch 67/600\n",
      "18/18 [==============================] - 4s 222ms/step - loss: 0.0819 - accuracy: 0.9719 - val_loss: 0.0807 - val_accuracy: 0.9635\n",
      "Epoch 68/600\n",
      "18/18 [==============================] - 4s 223ms/step - loss: 0.0849 - accuracy: 0.9691 - val_loss: 0.0807 - val_accuracy: 0.9672\n",
      "Epoch 69/600\n",
      "18/18 [==============================] - 4s 224ms/step - loss: 0.0714 - accuracy: 0.9737 - val_loss: 0.0806 - val_accuracy: 0.9672\n",
      "Epoch 70/600\n",
      "18/18 [==============================] - 4s 239ms/step - loss: 0.0907 - accuracy: 0.9610 - val_loss: 0.0805 - val_accuracy: 0.9672\n",
      "Epoch 71/600\n",
      "18/18 [==============================] - 4s 224ms/step - loss: 0.0751 - accuracy: 0.9746 - val_loss: 0.0805 - val_accuracy: 0.9672\n",
      "Epoch 72/600\n",
      "18/18 [==============================] - 4s 223ms/step - loss: 0.0855 - accuracy: 0.9701 - val_loss: 0.0805 - val_accuracy: 0.9672\n",
      "Epoch 73/600\n",
      "18/18 [==============================] - 4s 228ms/step - loss: 0.0807 - accuracy: 0.9728 - val_loss: 0.0805 - val_accuracy: 0.9672\n",
      "Epoch 74/600\n",
      "18/18 [==============================] - 4s 236ms/step - loss: 0.0739 - accuracy: 0.9710 - val_loss: 0.0806 - val_accuracy: 0.9672\n",
      "Epoch 75/600\n",
      "18/18 [==============================] - 5s 253ms/step - loss: 0.0713 - accuracy: 0.9800 - val_loss: 0.0806 - val_accuracy: 0.9672\n",
      "Epoch 76/600\n",
      "18/18 [==============================] - 4s 243ms/step - loss: 0.0729 - accuracy: 0.9746 - val_loss: 0.0806 - val_accuracy: 0.9672\n",
      "Epoch 77/600\n",
      "18/18 [==============================] - 4s 239ms/step - loss: 0.0900 - accuracy: 0.9673 - val_loss: 0.0806 - val_accuracy: 0.9672\n",
      "Epoch 78/600\n",
      "18/18 [==============================] - 4s 232ms/step - loss: 0.0675 - accuracy: 0.9773 - val_loss: 0.0806 - val_accuracy: 0.9672\n",
      "Epoch 79/600\n",
      "18/18 [==============================] - 4s 223ms/step - loss: 0.0765 - accuracy: 0.9691 - val_loss: 0.0806 - val_accuracy: 0.9672\n",
      "Epoch 80/600\n",
      "18/18 [==============================] - 4s 233ms/step - loss: 0.0814 - accuracy: 0.9655 - val_loss: 0.0806 - val_accuracy: 0.9672\n",
      "Epoch 81/600\n",
      "18/18 [==============================] - 4s 230ms/step - loss: 0.0744 - accuracy: 0.9728 - val_loss: 0.0806 - val_accuracy: 0.9672\n",
      "Epoch 82/600\n",
      "18/18 [==============================] - 4s 231ms/step - loss: 0.0768 - accuracy: 0.9728 - val_loss: 0.0806 - val_accuracy: 0.9672\n",
      "Epoch 83/600\n",
      "18/18 [==============================] - 4s 228ms/step - loss: 0.0806 - accuracy: 0.9646 - val_loss: 0.0806 - val_accuracy: 0.9672\n",
      "Epoch 84/600\n",
      "18/18 [==============================] - 4s 232ms/step - loss: 0.0838 - accuracy: 0.9691 - val_loss: 0.0806 - val_accuracy: 0.9672\n",
      "Epoch 85/600\n",
      "18/18 [==============================] - 5s 255ms/step - loss: 0.0708 - accuracy: 0.9755 - val_loss: 0.0806 - val_accuracy: 0.9672\n"
     ]
    },
    {
     "data": {
      "text/plain": [
       "<tensorflow.python.keras.callbacks.History at 0x284249569d0>"
      ]
     },
     "execution_count": 9,
     "metadata": {},
     "output_type": "execute_result"
    }
   ],
   "source": [
    "classifier.fit(train_generator,\n",
    "                         epochs = 600,\n",
    "                         callbacks = [tensorboard_callback,es,mc,reduceLR],\n",
    "                         validation_data = validation_generator\n",
    "                         )"
   ]
  },
  {
   "cell_type": "code",
   "execution_count": 10,
   "metadata": {},
   "outputs": [],
   "source": [
    "#Overfitting -> Your training accuracy will be higher than the accuracy on the validation/test set\n",
    "\n",
    "#Overfitting indicates that your model is too complex for the problem that it is solving,\n",
    "#filters in the case of Convolutional Neural Networks, and layers in the case of overall Deep Learning Models\n",
    "\n",
    "#How do you know if your model is underfitting? Your model is underfitting if the accuracy on the validation set \n",
    "#is higher than the accuracy on the training set. Additionally, \n",
    "#if the whole model performs bad this is also called underfitting.\n",
    "\n",
    "#https://towardsdatascience.com/deep-learning-3-more-on-cnns-handling-overfitting-2bd5d99abe5d"
   ]
  },
  {
   "cell_type": "code",
   "execution_count": 12,
   "metadata": {},
   "outputs": [
    {
     "data": {
      "text/plain": [
       "Reusing TensorBoard on port 6006 (pid 11704), started 1 day, 0:15:18 ago. (Use '!kill 11704' to kill it.)"
      ]
     },
     "metadata": {},
     "output_type": "display_data"
    },
    {
     "data": {
      "text/html": [
       "\n",
       "      <iframe id=\"tensorboard-frame-8fac4e6ee34ddad1\" width=\"100%\" height=\"800\" frameborder=\"0\">\n",
       "      </iframe>\n",
       "      <script>\n",
       "        (function() {\n",
       "          const frame = document.getElementById(\"tensorboard-frame-8fac4e6ee34ddad1\");\n",
       "          const url = new URL(\"/\", window.location);\n",
       "          const port = 6006;\n",
       "          if (port) {\n",
       "            url.port = port;\n",
       "          }\n",
       "          frame.src = url;\n",
       "        })();\n",
       "      </script>\n",
       "    "
      ],
      "text/plain": [
       "<IPython.core.display.HTML object>"
      ]
     },
     "metadata": {},
     "output_type": "display_data"
    }
   ],
   "source": [
    "%tensorboard --logdir logs"
   ]
  },
  {
   "cell_type": "markdown",
   "metadata": {},
   "source": [
    "# Part 3 test the CNN"
   ]
  },
  {
   "cell_type": "code",
   "execution_count": 11,
   "metadata": {},
   "outputs": [],
   "source": [
    "# Load Model\n",
    "classifier.load_weights('best_model3.h5')"
   ]
  },
  {
   "cell_type": "code",
   "execution_count": 13,
   "metadata": {},
   "outputs": [
    {
     "name": "stdout",
     "output_type": "stream",
     "text": [
      "Model: \"sequential\"\n",
      "_________________________________________________________________\n",
      "Layer (type)                 Output Shape              Param #   \n",
      "=================================================================\n",
      "conv2d (Conv2D)              (None, 150, 150, 64)      1792      \n",
      "_________________________________________________________________\n",
      "max_pooling2d (MaxPooling2D) (None, 75, 75, 64)        0         \n",
      "_________________________________________________________________\n",
      "dropout (Dropout)            (None, 75, 75, 64)        0         \n",
      "_________________________________________________________________\n",
      "conv2d_1 (Conv2D)            (None, 75, 75, 128)       73856     \n",
      "_________________________________________________________________\n",
      "max_pooling2d_1 (MaxPooling2 (None, 37, 37, 128)       0         \n",
      "_________________________________________________________________\n",
      "dropout_1 (Dropout)          (None, 37, 37, 128)       0         \n",
      "_________________________________________________________________\n",
      "flatten (Flatten)            (None, 175232)            0         \n",
      "_________________________________________________________________\n",
      "dense (Dense)                (None, 128)               22429824  \n",
      "_________________________________________________________________\n",
      "dropout_2 (Dropout)          (None, 128)               0         \n",
      "_________________________________________________________________\n",
      "dense_1 (Dense)              (None, 1)                 129       \n",
      "=================================================================\n",
      "Total params: 22,505,601\n",
      "Trainable params: 22,505,601\n",
      "Non-trainable params: 0\n",
      "_________________________________________________________________\n"
     ]
    }
   ],
   "source": [
    "classifier.summary()"
   ]
  },
  {
   "cell_type": "code",
   "execution_count": 14,
   "metadata": {},
   "outputs": [
    {
     "name": "stdout",
     "output_type": "stream",
     "text": [
      "Test Loss 0.22910866141319275\n",
      "Test accuracy 0.9186046719551086\n"
     ]
    }
   ],
   "source": [
    "score = classifier.evaluate(test_set, verbose=0)\n",
    "\n",
    "print('Test Loss', score[0])\n",
    "print('Test accuracy', score[1])"
   ]
  }
 ],
 "metadata": {
  "kernelspec": {
   "display_name": "Python 3 (ipykernel)",
   "language": "python",
   "name": "python3"
  },
  "language_info": {
   "codemirror_mode": {
    "name": "ipython",
    "version": 3
   },
   "file_extension": ".py",
   "mimetype": "text/x-python",
   "name": "python",
   "nbconvert_exporter": "python",
   "pygments_lexer": "ipython3",
   "version": "3.8.0"
  }
 },
 "nbformat": 4,
 "nbformat_minor": 4
}
