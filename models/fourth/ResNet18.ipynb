{
 "cells": [
  {
   "cell_type": "code",
   "execution_count": 1,
   "id": "1d12d6a4",
   "metadata": {},
   "outputs": [
    {
     "name": "stderr",
     "output_type": "stream",
     "text": [
      "C:\\Users\\bruno\\anaconda3\\envs\\gpu\\lib\\site-packages\\tqdm\\auto.py:22: TqdmWarning: IProgress not found. Please update jupyter and ipywidgets. See https://ipywidgets.readthedocs.io/en/stable/user_install.html\n",
      "  from .autonotebook import tqdm as notebook_tqdm\n"
     ]
    }
   ],
   "source": [
    "import torch\n",
    "import torch.nn as nn\n",
    "import torchvision \n",
    "import torchvision.transforms as transforms\n",
    "from torch.autograd import Variable\n",
    "import torch.nn.functional as F\n",
    "import tqdm as notebook_tqdm\n",
    "import numpy as np\n",
    "import matplotlib.pyplot as plt"
   ]
  },
  {
   "cell_type": "code",
   "execution_count": 2,
   "id": "fccbd655",
   "metadata": {},
   "outputs": [
    {
     "data": {
      "text/plain": [
       "device(type='cuda', index=0)"
      ]
     },
     "execution_count": 2,
     "metadata": {},
     "output_type": "execute_result"
    }
   ],
   "source": [
    "device = torch.device('cuda:0' if torch.cuda.is_available() else 'cpu')\n",
    "device"
   ]
  },
  {
   "cell_type": "code",
   "execution_count": 3,
   "id": "89f9f8f7",
   "metadata": {},
   "outputs": [
    {
     "name": "stdout",
     "output_type": "stream",
     "text": [
      "No of Classes: train  2\n",
      "No of Classes: test  2\n"
     ]
    }
   ],
   "source": [
    "transform = transforms.Compose([transforms.ToTensor(),\n",
    "                                transforms.Resize((150,150))\n",
    "                               ])\n",
    "\n",
    "train = torchvision.datasets.ImageFolder(root = '../../dataset/train',\n",
    "                                           transform = transform)\n",
    "\n",
    "test = torchvision.datasets.ImageFolder(root = '../../dataset/test',\n",
    "                                           transform = transform)\n",
    "\n",
    "print(\"No of Classes: train \", len(train.classes))\n",
    "print(\"No of Classes: test \", len(test.classes))"
   ]
  },
  {
   "cell_type": "code",
   "execution_count": 4,
   "id": "7f5ad098",
   "metadata": {},
   "outputs": [
    {
     "name": "stdout",
     "output_type": "stream",
     "text": [
      "Train data set: 2202\n",
      "Test data set: 550\n"
     ]
    }
   ],
   "source": [
    "torch.manual_seed(torch.initial_seed())\n",
    "import torch\n",
    "torch.manual_seed(11)\n",
    "\n",
    "train_set_size = int(len(train) * 0.8) + 1\n",
    "valid_set_size = len(train) - train_set_size \n",
    "\n",
    "train_set, val_set = torch.utils.data.random_split(train, [train_set_size, valid_set_size])\n",
    "\n",
    "print('Train data set:', len(train_set))\n",
    "print('Test data set:', len(val_set))"
   ]
  },
  {
   "cell_type": "code",
   "execution_count": 5,
   "id": "7ba3e09e",
   "metadata": {},
   "outputs": [],
   "source": [
    "train_loader = torch.utils.data.DataLoader(dataset = train_set,\n",
    "                                           batch_size = 32, \n",
    "                                           shuffle = True)\n",
    "\n",
    "val_loader = torch.utils.data.DataLoader(dataset = val_set,\n",
    "                                         batch_size = 32, \n",
    "                                         shuffle = False)\n",
    "\n",
    "test_loader = torch.utils.data.DataLoader(dataset = test,\n",
    "                                         batch_size = 32, \n",
    "                                         shuffle = False)"
   ]
  },
  {
   "cell_type": "code",
   "execution_count": 6,
   "id": "69f8e951",
   "metadata": {},
   "outputs": [
    {
     "name": "stderr",
     "output_type": "stream",
     "text": [
      "C:\\Users\\bruno\\anaconda3\\envs\\gpu\\lib\\site-packages\\torchvision\\models\\_utils.py:208: UserWarning: The parameter 'pretrained' is deprecated since 0.13 and will be removed in 0.15, please use 'weights' instead.\n",
      "  warnings.warn(\n",
      "C:\\Users\\bruno\\anaconda3\\envs\\gpu\\lib\\site-packages\\torchvision\\models\\_utils.py:223: UserWarning: Arguments other than a weight enum or `None` for 'weights' are deprecated since 0.13 and will be removed in 0.15. The current behavior is equivalent to passing `weights=ResNet18_Weights.IMAGENET1K_V1`. You can also use `weights=ResNet18_Weights.DEFAULT` to get the most up-to-date weights.\n",
      "  warnings.warn(msg)\n"
     ]
    },
    {
     "name": "stdout",
     "output_type": "stream",
     "text": [
      "ResNet(\n",
      "  (conv1): Conv2d(3, 64, kernel_size=(7, 7), stride=(2, 2), padding=(3, 3), bias=False)\n",
      "  (bn1): BatchNorm2d(64, eps=1e-05, momentum=0.1, affine=True, track_running_stats=True)\n",
      "  (relu): Sequential(\n",
      "    (0): ReLU(inplace=True)\n",
      "    (1): Dropout2d(p=0.05, inplace=False)\n",
      "  )\n",
      "  (maxpool): MaxPool2d(kernel_size=3, stride=2, padding=1, dilation=1, ceil_mode=False)\n",
      "  (layer1): Sequential(\n",
      "    (0): BasicBlock(\n",
      "      (conv1): Conv2d(64, 64, kernel_size=(3, 3), stride=(1, 1), padding=(1, 1), bias=False)\n",
      "      (bn1): BatchNorm2d(64, eps=1e-05, momentum=0.1, affine=True, track_running_stats=True)\n",
      "      (relu): Sequential(\n",
      "        (0): ReLU(inplace=True)\n",
      "        (1): Dropout2d(p=0.05, inplace=False)\n",
      "      )\n",
      "      (conv2): Conv2d(64, 64, kernel_size=(3, 3), stride=(1, 1), padding=(1, 1), bias=False)\n",
      "      (bn2): BatchNorm2d(64, eps=1e-05, momentum=0.1, affine=True, track_running_stats=True)\n",
      "    )\n",
      "    (1): BasicBlock(\n",
      "      (conv1): Conv2d(64, 64, kernel_size=(3, 3), stride=(1, 1), padding=(1, 1), bias=False)\n",
      "      (bn1): BatchNorm2d(64, eps=1e-05, momentum=0.1, affine=True, track_running_stats=True)\n",
      "      (relu): Sequential(\n",
      "        (0): ReLU(inplace=True)\n",
      "        (1): Dropout2d(p=0.05, inplace=False)\n",
      "      )\n",
      "      (conv2): Conv2d(64, 64, kernel_size=(3, 3), stride=(1, 1), padding=(1, 1), bias=False)\n",
      "      (bn2): BatchNorm2d(64, eps=1e-05, momentum=0.1, affine=True, track_running_stats=True)\n",
      "    )\n",
      "  )\n",
      "  (layer2): Sequential(\n",
      "    (0): BasicBlock(\n",
      "      (conv1): Conv2d(64, 128, kernel_size=(3, 3), stride=(2, 2), padding=(1, 1), bias=False)\n",
      "      (bn1): BatchNorm2d(128, eps=1e-05, momentum=0.1, affine=True, track_running_stats=True)\n",
      "      (relu): Sequential(\n",
      "        (0): ReLU(inplace=True)\n",
      "        (1): Dropout2d(p=0.05, inplace=False)\n",
      "      )\n",
      "      (conv2): Conv2d(128, 128, kernel_size=(3, 3), stride=(1, 1), padding=(1, 1), bias=False)\n",
      "      (bn2): BatchNorm2d(128, eps=1e-05, momentum=0.1, affine=True, track_running_stats=True)\n",
      "      (downsample): Sequential(\n",
      "        (0): Conv2d(64, 128, kernel_size=(1, 1), stride=(2, 2), bias=False)\n",
      "        (1): BatchNorm2d(128, eps=1e-05, momentum=0.1, affine=True, track_running_stats=True)\n",
      "      )\n",
      "    )\n",
      "    (1): BasicBlock(\n",
      "      (conv1): Conv2d(128, 128, kernel_size=(3, 3), stride=(1, 1), padding=(1, 1), bias=False)\n",
      "      (bn1): BatchNorm2d(128, eps=1e-05, momentum=0.1, affine=True, track_running_stats=True)\n",
      "      (relu): Sequential(\n",
      "        (0): ReLU(inplace=True)\n",
      "        (1): Dropout2d(p=0.05, inplace=False)\n",
      "      )\n",
      "      (conv2): Conv2d(128, 128, kernel_size=(3, 3), stride=(1, 1), padding=(1, 1), bias=False)\n",
      "      (bn2): BatchNorm2d(128, eps=1e-05, momentum=0.1, affine=True, track_running_stats=True)\n",
      "    )\n",
      "  )\n",
      "  (layer3): Sequential(\n",
      "    (0): BasicBlock(\n",
      "      (conv1): Conv2d(128, 256, kernel_size=(3, 3), stride=(2, 2), padding=(1, 1), bias=False)\n",
      "      (bn1): BatchNorm2d(256, eps=1e-05, momentum=0.1, affine=True, track_running_stats=True)\n",
      "      (relu): Sequential(\n",
      "        (0): ReLU(inplace=True)\n",
      "        (1): Dropout2d(p=0.05, inplace=False)\n",
      "      )\n",
      "      (conv2): Conv2d(256, 256, kernel_size=(3, 3), stride=(1, 1), padding=(1, 1), bias=False)\n",
      "      (bn2): BatchNorm2d(256, eps=1e-05, momentum=0.1, affine=True, track_running_stats=True)\n",
      "      (downsample): Sequential(\n",
      "        (0): Conv2d(128, 256, kernel_size=(1, 1), stride=(2, 2), bias=False)\n",
      "        (1): BatchNorm2d(256, eps=1e-05, momentum=0.1, affine=True, track_running_stats=True)\n",
      "      )\n",
      "    )\n",
      "    (1): BasicBlock(\n",
      "      (conv1): Conv2d(256, 256, kernel_size=(3, 3), stride=(1, 1), padding=(1, 1), bias=False)\n",
      "      (bn1): BatchNorm2d(256, eps=1e-05, momentum=0.1, affine=True, track_running_stats=True)\n",
      "      (relu): Sequential(\n",
      "        (0): ReLU(inplace=True)\n",
      "        (1): Dropout2d(p=0.05, inplace=False)\n",
      "      )\n",
      "      (conv2): Conv2d(256, 256, kernel_size=(3, 3), stride=(1, 1), padding=(1, 1), bias=False)\n",
      "      (bn2): BatchNorm2d(256, eps=1e-05, momentum=0.1, affine=True, track_running_stats=True)\n",
      "    )\n",
      "  )\n",
      "  (layer4): Sequential(\n",
      "    (0): BasicBlock(\n",
      "      (conv1): Conv2d(256, 512, kernel_size=(3, 3), stride=(2, 2), padding=(1, 1), bias=False)\n",
      "      (bn1): BatchNorm2d(512, eps=1e-05, momentum=0.1, affine=True, track_running_stats=True)\n",
      "      (relu): Sequential(\n",
      "        (0): ReLU(inplace=True)\n",
      "        (1): Dropout2d(p=0.05, inplace=False)\n",
      "      )\n",
      "      (conv2): Conv2d(512, 512, kernel_size=(3, 3), stride=(1, 1), padding=(1, 1), bias=False)\n",
      "      (bn2): BatchNorm2d(512, eps=1e-05, momentum=0.1, affine=True, track_running_stats=True)\n",
      "      (downsample): Sequential(\n",
      "        (0): Conv2d(256, 512, kernel_size=(1, 1), stride=(2, 2), bias=False)\n",
      "        (1): BatchNorm2d(512, eps=1e-05, momentum=0.1, affine=True, track_running_stats=True)\n",
      "      )\n",
      "    )\n",
      "    (1): BasicBlock(\n",
      "      (conv1): Conv2d(512, 512, kernel_size=(3, 3), stride=(1, 1), padding=(1, 1), bias=False)\n",
      "      (bn1): BatchNorm2d(512, eps=1e-05, momentum=0.1, affine=True, track_running_stats=True)\n",
      "      (relu): Sequential(\n",
      "        (0): ReLU(inplace=True)\n",
      "        (1): Dropout2d(p=0.05, inplace=False)\n",
      "      )\n",
      "      (conv2): Conv2d(512, 512, kernel_size=(3, 3), stride=(1, 1), padding=(1, 1), bias=False)\n",
      "      (bn2): BatchNorm2d(512, eps=1e-05, momentum=0.1, affine=True, track_running_stats=True)\n",
      "    )\n",
      "  )\n",
      "  (avgpool): AdaptiveAvgPool2d(output_size=(1, 1))\n",
      "  (fc): Linear(in_features=512, out_features=1000, bias=True)\n",
      ")\n"
     ]
    }
   ],
   "source": [
    "resnet = torchvision.models.resnet18(pretrained=True)\n",
    "\n",
    "#resnet.fc.register_forward_hook(lambda m, inp, out: F.dropout(out, p=0.30, training=m.training))\n",
    "def append_dropout(model, rate=0.05):\n",
    "    for name, module in model.named_children():\n",
    "        if len(list(module.children())) > 0:\n",
    "            append_dropout(module)\n",
    "        if isinstance(module, nn.ReLU):\n",
    "            new = nn.Sequential(module, nn.Dropout2d(p=rate, inplace=False))\n",
    "            setattr(model, name, new)\n",
    "\n",
    "\n",
    "append_dropout(resnet)\n",
    "print(resnet)\n",
    "\n"
   ]
  },
  {
   "cell_type": "code",
   "execution_count": 7,
   "id": "56041e72",
   "metadata": {},
   "outputs": [
    {
     "data": {
      "text/plain": [
       "ResNet(\n",
       "  (conv1): Conv2d(3, 64, kernel_size=(7, 7), stride=(2, 2), padding=(3, 3), bias=False)\n",
       "  (bn1): BatchNorm2d(64, eps=1e-05, momentum=0.1, affine=True, track_running_stats=True)\n",
       "  (relu): Sequential(\n",
       "    (0): ReLU(inplace=True)\n",
       "    (1): Dropout2d(p=0.05, inplace=False)\n",
       "  )\n",
       "  (maxpool): MaxPool2d(kernel_size=3, stride=2, padding=1, dilation=1, ceil_mode=False)\n",
       "  (layer1): Sequential(\n",
       "    (0): BasicBlock(\n",
       "      (conv1): Conv2d(64, 64, kernel_size=(3, 3), stride=(1, 1), padding=(1, 1), bias=False)\n",
       "      (bn1): BatchNorm2d(64, eps=1e-05, momentum=0.1, affine=True, track_running_stats=True)\n",
       "      (relu): Sequential(\n",
       "        (0): ReLU(inplace=True)\n",
       "        (1): Dropout2d(p=0.05, inplace=False)\n",
       "      )\n",
       "      (conv2): Conv2d(64, 64, kernel_size=(3, 3), stride=(1, 1), padding=(1, 1), bias=False)\n",
       "      (bn2): BatchNorm2d(64, eps=1e-05, momentum=0.1, affine=True, track_running_stats=True)\n",
       "    )\n",
       "    (1): BasicBlock(\n",
       "      (conv1): Conv2d(64, 64, kernel_size=(3, 3), stride=(1, 1), padding=(1, 1), bias=False)\n",
       "      (bn1): BatchNorm2d(64, eps=1e-05, momentum=0.1, affine=True, track_running_stats=True)\n",
       "      (relu): Sequential(\n",
       "        (0): ReLU(inplace=True)\n",
       "        (1): Dropout2d(p=0.05, inplace=False)\n",
       "      )\n",
       "      (conv2): Conv2d(64, 64, kernel_size=(3, 3), stride=(1, 1), padding=(1, 1), bias=False)\n",
       "      (bn2): BatchNorm2d(64, eps=1e-05, momentum=0.1, affine=True, track_running_stats=True)\n",
       "    )\n",
       "  )\n",
       "  (layer2): Sequential(\n",
       "    (0): BasicBlock(\n",
       "      (conv1): Conv2d(64, 128, kernel_size=(3, 3), stride=(2, 2), padding=(1, 1), bias=False)\n",
       "      (bn1): BatchNorm2d(128, eps=1e-05, momentum=0.1, affine=True, track_running_stats=True)\n",
       "      (relu): Sequential(\n",
       "        (0): ReLU(inplace=True)\n",
       "        (1): Dropout2d(p=0.05, inplace=False)\n",
       "      )\n",
       "      (conv2): Conv2d(128, 128, kernel_size=(3, 3), stride=(1, 1), padding=(1, 1), bias=False)\n",
       "      (bn2): BatchNorm2d(128, eps=1e-05, momentum=0.1, affine=True, track_running_stats=True)\n",
       "      (downsample): Sequential(\n",
       "        (0): Conv2d(64, 128, kernel_size=(1, 1), stride=(2, 2), bias=False)\n",
       "        (1): BatchNorm2d(128, eps=1e-05, momentum=0.1, affine=True, track_running_stats=True)\n",
       "      )\n",
       "    )\n",
       "    (1): BasicBlock(\n",
       "      (conv1): Conv2d(128, 128, kernel_size=(3, 3), stride=(1, 1), padding=(1, 1), bias=False)\n",
       "      (bn1): BatchNorm2d(128, eps=1e-05, momentum=0.1, affine=True, track_running_stats=True)\n",
       "      (relu): Sequential(\n",
       "        (0): ReLU(inplace=True)\n",
       "        (1): Dropout2d(p=0.05, inplace=False)\n",
       "      )\n",
       "      (conv2): Conv2d(128, 128, kernel_size=(3, 3), stride=(1, 1), padding=(1, 1), bias=False)\n",
       "      (bn2): BatchNorm2d(128, eps=1e-05, momentum=0.1, affine=True, track_running_stats=True)\n",
       "    )\n",
       "  )\n",
       "  (layer3): Sequential(\n",
       "    (0): BasicBlock(\n",
       "      (conv1): Conv2d(128, 256, kernel_size=(3, 3), stride=(2, 2), padding=(1, 1), bias=False)\n",
       "      (bn1): BatchNorm2d(256, eps=1e-05, momentum=0.1, affine=True, track_running_stats=True)\n",
       "      (relu): Sequential(\n",
       "        (0): ReLU(inplace=True)\n",
       "        (1): Dropout2d(p=0.05, inplace=False)\n",
       "      )\n",
       "      (conv2): Conv2d(256, 256, kernel_size=(3, 3), stride=(1, 1), padding=(1, 1), bias=False)\n",
       "      (bn2): BatchNorm2d(256, eps=1e-05, momentum=0.1, affine=True, track_running_stats=True)\n",
       "      (downsample): Sequential(\n",
       "        (0): Conv2d(128, 256, kernel_size=(1, 1), stride=(2, 2), bias=False)\n",
       "        (1): BatchNorm2d(256, eps=1e-05, momentum=0.1, affine=True, track_running_stats=True)\n",
       "      )\n",
       "    )\n",
       "    (1): BasicBlock(\n",
       "      (conv1): Conv2d(256, 256, kernel_size=(3, 3), stride=(1, 1), padding=(1, 1), bias=False)\n",
       "      (bn1): BatchNorm2d(256, eps=1e-05, momentum=0.1, affine=True, track_running_stats=True)\n",
       "      (relu): Sequential(\n",
       "        (0): ReLU(inplace=True)\n",
       "        (1): Dropout2d(p=0.05, inplace=False)\n",
       "      )\n",
       "      (conv2): Conv2d(256, 256, kernel_size=(3, 3), stride=(1, 1), padding=(1, 1), bias=False)\n",
       "      (bn2): BatchNorm2d(256, eps=1e-05, momentum=0.1, affine=True, track_running_stats=True)\n",
       "    )\n",
       "  )\n",
       "  (layer4): Sequential(\n",
       "    (0): BasicBlock(\n",
       "      (conv1): Conv2d(256, 512, kernel_size=(3, 3), stride=(2, 2), padding=(1, 1), bias=False)\n",
       "      (bn1): BatchNorm2d(512, eps=1e-05, momentum=0.1, affine=True, track_running_stats=True)\n",
       "      (relu): Sequential(\n",
       "        (0): ReLU(inplace=True)\n",
       "        (1): Dropout2d(p=0.05, inplace=False)\n",
       "      )\n",
       "      (conv2): Conv2d(512, 512, kernel_size=(3, 3), stride=(1, 1), padding=(1, 1), bias=False)\n",
       "      (bn2): BatchNorm2d(512, eps=1e-05, momentum=0.1, affine=True, track_running_stats=True)\n",
       "      (downsample): Sequential(\n",
       "        (0): Conv2d(256, 512, kernel_size=(1, 1), stride=(2, 2), bias=False)\n",
       "        (1): BatchNorm2d(512, eps=1e-05, momentum=0.1, affine=True, track_running_stats=True)\n",
       "      )\n",
       "    )\n",
       "    (1): BasicBlock(\n",
       "      (conv1): Conv2d(512, 512, kernel_size=(3, 3), stride=(1, 1), padding=(1, 1), bias=False)\n",
       "      (bn1): BatchNorm2d(512, eps=1e-05, momentum=0.1, affine=True, track_running_stats=True)\n",
       "      (relu): Sequential(\n",
       "        (0): ReLU(inplace=True)\n",
       "        (1): Dropout2d(p=0.05, inplace=False)\n",
       "      )\n",
       "      (conv2): Conv2d(512, 512, kernel_size=(3, 3), stride=(1, 1), padding=(1, 1), bias=False)\n",
       "      (bn2): BatchNorm2d(512, eps=1e-05, momentum=0.1, affine=True, track_running_stats=True)\n",
       "    )\n",
       "  )\n",
       "  (avgpool): AdaptiveAvgPool2d(output_size=(1, 1))\n",
       "  (fc): Linear(in_features=512, out_features=1000, bias=True)\n",
       ")"
      ]
     },
     "execution_count": 7,
     "metadata": {},
     "output_type": "execute_result"
    }
   ],
   "source": [
    "resnet"
   ]
  },
  {
   "cell_type": "code",
   "execution_count": 8,
   "id": "a2455320",
   "metadata": {},
   "outputs": [],
   "source": [
    "ftr = resnet.fc.in_features\n",
    "resnet.fc = nn.Linear(ftr, 2)\n",
    "\n",
    "resnet = resnet.cuda()"
   ]
  },
  {
   "cell_type": "code",
   "execution_count": 9,
   "id": "e7b3e2e6",
   "metadata": {},
   "outputs": [],
   "source": [
    "optimizer = torch.optim.Adamax(resnet.parameters(), lr=0.001)"
   ]
  },
  {
   "cell_type": "code",
   "execution_count": 10,
   "id": "e6073c2f",
   "metadata": {},
   "outputs": [
    {
     "name": "stdout",
     "output_type": "stream",
     "text": [
      "Epoch 1 =>  loss : 0.40;   Accuracy : 78.16%;   Val_loss : 0.66;   Val_Accuracy : 87.45%\n",
      "Epoch 2 =>  loss : 0.19;   Accuracy : 86.88%;   Val_loss : 0.51;   Val_Accuracy : 90.00%\n",
      "Epoch 3 =>  loss : 0.36;   Accuracy : 87.47%;   Val_loss : 0.13;   Val_Accuracy : 91.27%\n",
      "Epoch 4 =>  loss : 0.49;   Accuracy : 88.92%;   Val_loss : 0.16;   Val_Accuracy : 89.09%\n",
      "Epoch 5 =>  loss : 0.27;   Accuracy : 90.60%;   Val_loss : 0.14;   Val_Accuracy : 93.09%\n",
      "Epoch 6 =>  loss : 0.16;   Accuracy : 91.60%;   Val_loss : 0.07;   Val_Accuracy : 93.45%\n",
      "Epoch 7 =>  loss : 0.60;   Accuracy : 93.05%;   Val_loss : 0.09;   Val_Accuracy : 89.82%\n",
      "Epoch 8 =>  loss : 0.07;   Accuracy : 92.60%;   Val_loss : 0.05;   Val_Accuracy : 93.82%\n",
      "Epoch 9 =>  loss : 0.09;   Accuracy : 94.14%;   Val_loss : 0.03;   Val_Accuracy : 91.09%\n",
      "Epoch 10 =>  loss : 0.07;   Accuracy : 95.82%;   Val_loss : 0.06;   Val_Accuracy : 95.27%\n"
     ]
    }
   ],
   "source": [
    "total_step = len(train_loader)\n",
    "Loss = []\n",
    "Acc = []\n",
    "Val_Loss = []\n",
    "Val_Acc = []\n",
    "n=10\n",
    "\n",
    "criterion = nn.CrossEntropyLoss()\n",
    "\n",
    "for epoch in range(n):\n",
    "    acc = 0\n",
    "    val_acc = 0\n",
    "    for i, (images, labels) in enumerate(train_loader):\n",
    "        resnet.train()\n",
    "        images = images.to(device)\n",
    "        labels = labels.to(device)\n",
    "    \n",
    "        # Forward pass\n",
    "        outputs = resnet(images)\n",
    "        loss = criterion(outputs, labels)\n",
    "    \n",
    "        # Backward and optimize\n",
    "        optimizer.zero_grad()\n",
    "        loss.backward()\n",
    "        optimizer.step()\n",
    "    \n",
    "        # Checking accuracy\n",
    "        preds = outputs.data.max(dim=1,keepdim=True)[1]\n",
    "        acc += preds.eq(labels.data.view_as(preds)).cpu().sum()\n",
    "    \n",
    "    acc = acc/len(train_loader.dataset) * 100\n",
    "    \n",
    "    for i, (images, labels) in enumerate(val_loader):\n",
    "        resnet.eval()\n",
    "        images = images.to(device)\n",
    "        labels = labels.to(device)\n",
    "    \n",
    "        # Forward pass\n",
    "        outputs = resnet(images)\n",
    "        val_loss = criterion(outputs, labels)\n",
    "    \n",
    "        # Checking accuracy\n",
    "        preds = outputs.data.max(dim=1,keepdim=True)[1]\n",
    "        val_acc += preds.eq(labels.data.view_as(preds)).cpu().sum()\n",
    "    \n",
    "    val_acc = val_acc/len(val_loader.dataset) * 100\n",
    "    \n",
    "    print(\"Epoch {} =>  loss : {loss:.2f};   Accuracy : {acc:.2f}%;   Val_loss : {val_loss:.2f};   Val_Accuracy : {val_acc:.2f}%\".format(epoch+1, loss=loss.item(), acc=acc, val_loss=val_loss.item(), val_acc=val_acc))\n",
    "  \n",
    "    Loss.append(loss)\n",
    "    Acc.append(acc)\n",
    "\n",
    "    Val_Loss.append(val_loss)\n",
    "    Val_Acc.append(val_acc)"
   ]
  },
  {
   "cell_type": "code",
   "execution_count": 11,
   "id": "ae115817",
   "metadata": {},
   "outputs": [
    {
     "data": {
      "image/png": "[encoded data removed]",
      "text/plain": [
       "<Figure size 432x288 with 1 Axes>"
      ]
     },
     "metadata": {
      "needs_background": "light"
     },
     "output_type": "display_data"
    }
   ],
   "source": [
    "plt.plot(range(n),Acc)\n",
    "plt.plot(range(n),Val_Acc)\n",
    "plt.ylabel('Precisão')\n",
    "plt.xlabel('Epoch')\n",
    "plt.title(\"Precisão\")\n",
    "plt.legend([\"Treino\", \"Validação\"])\n",
    "plt.show()"
   ]
  },
  {
   "cell_type": "code",
   "execution_count": 12,
   "id": "afff4020",
   "metadata": {},
   "outputs": [
    {
     "data": {
      "image/png": "[encoded data removed]",
      "text/plain": [
       "<Figure size 432x288 with 1 Axes>"
      ]
     },
     "metadata": {
      "needs_background": "light"
     },
     "output_type": "display_data"
    }
   ],
   "source": [
    "plt.plot(range(n),Acc)\n",
    "plt.plot(range(n),Val_Acc)\n",
    "plt.ylabel('Accuracy')\n",
    "plt.xlabel('Epoch')\n",
    "plt.title(\"Accuracy\")\n",
    "plt.legend([\"Training Accuracy\", \"Validation Accuracy\"])\n",
    "plt.show()"
   ]
  },
  {
   "cell_type": "code",
   "execution_count": 13,
   "id": "566f5463",
   "metadata": {},
   "outputs": [],
   "source": [
    "save_path = 'resnet18.pth'\n",
    "torch.save(resnet.state_dict(), save_path)"
   ]
  },
  {
   "cell_type": "code",
   "execution_count": 14,
   "id": "e0b0e5f2",
   "metadata": {},
   "outputs": [
    {
     "name": "stdout",
     "output_type": "stream",
     "text": [
      "Test Accuracy of the model on the test images: 93.45930232558139 %\n"
     ]
    }
   ],
   "source": [
    "Accuracies = []\n",
    "model = torchvision.models.resnet18(pretrained=True)   #load resnet18 model\n",
    "num_features = model.fc.in_features #extract fc layers features\n",
    "#model.fc.register_forward_hook(lambda m, inp, out: F.dropout(out, p=0.30, training=m.training))\n",
    "def append_dropout(model, rate=0.05):\n",
    "    for name, module in model.named_children():\n",
    "        if len(list(module.children())) > 0:\n",
    "            append_dropout(module)\n",
    "        if isinstance(module, nn.ReLU):\n",
    "            new = nn.Sequential(module, nn.Dropout2d(p=rate, inplace=False))\n",
    "            setattr(model, name, new)\n",
    "\n",
    "\n",
    "append_dropout(model)\n",
    "#print(resnet)\n",
    "\n",
    "\n",
    "model.fc = nn.Linear(num_features, 2)#(num_of_class == 2)\n",
    "model.load_state_dict(torch.load(\"resnet18.pth\"))\n",
    "model.to(device)\n",
    "criterion = nn.CrossEntropyLoss()\n",
    "optimizer = torch.optim.Adamax(model.parameters(), lr=0.001)\n",
    "\n",
    "model.eval()  \n",
    "with torch.no_grad():\n",
    "    correct = 0\n",
    "    total = 0\n",
    "\n",
    "    for images, labels in test_loader:\n",
    "        y_pred = []\n",
    "        Images = images.to(device)\n",
    "        Labels = labels.to(device)\n",
    "        outputs = model(Images) #antes outputs = resnet(Images)\n",
    "        prediction_array = outputs.data\n",
    "        \n",
    "        \n",
    "        _, predicted = torch.max(prediction_array, 1)\n",
    "        y_pred += predicted\n",
    "        total += Labels.size(0)\n",
    "        correct += (predicted == Labels).sum().item()\n",
    "        \n",
    "    acc = 100 * correct / total\n",
    "    Accuracies.append(acc)\n",
    "    print('Test Accuracy of the model on the test images: {} %'.format(100 * correct / total))"
   ]
  }
 ],
 "metadata": {
  "kernelspec": {
   "display_name": "Python 3 (ipykernel)",
   "language": "python",
   "name": "python3"
  },
  "language_info": {
   "codemirror_mode": {
    "name": "ipython",
    "version": 3
   },
   "file_extension": ".py",
   "mimetype": "text/x-python",
   "name": "python",
   "nbconvert_exporter": "python",
   "pygments_lexer": "ipython3",
   "version": "3.8.13"
  }
 },
 "nbformat": 4,
 "nbformat_minor": 5
}
