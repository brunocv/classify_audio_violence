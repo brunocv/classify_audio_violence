{
 "cells": [
  {
   "cell_type": "markdown",
   "metadata": {},
   "source": [
    "# Convolutional Neural Network\n",
    "\n",
    "### Part 1 - Building the CNN\n",
    "\n",
    "#### Importing the Tensorflow libraries and packages"
   ]
  },
  {
   "cell_type": "code",
   "execution_count": 1,
   "metadata": {},
   "outputs": [
    {
     "name": "stdout",
     "output_type": "stream",
     "text": [
      "Tensor Flow Version: 2.6.0\n",
      "Keras Version: 2.6.0\n",
      "\n",
      "Python 3.8.0 (default, Nov  6 2019, 16:00:02) [MSC v.1916 64 bit (AMD64)]\n",
      "Pandas 1.2.5\n",
      "Scikit-Learn 1.0.2\n",
      "GPU is available\n"
     ]
    }
   ],
   "source": [
    "import sys\n",
    "\n",
    "import tensorflow.keras\n",
    "import pandas as pd\n",
    "import sklearn as sk\n",
    "import tensorflow as tf\n",
    "\n",
    "print(f\"Tensor Flow Version: {tf.__version__}\")\n",
    "print(f\"Keras Version: {tensorflow.keras.__version__}\")\n",
    "print()\n",
    "print(f\"Python {sys.version}\")\n",
    "print(f\"Pandas {pd.__version__}\")\n",
    "print(f\"Scikit-Learn {sk.__version__}\")\n",
    "gpu = len(tf.config.list_physical_devices('GPU'))>0\n",
    "print(\"GPU is\", \"available\" if gpu else \"NOT AVAILABLE\")"
   ]
  },
  {
   "cell_type": "code",
   "execution_count": 2,
   "metadata": {},
   "outputs": [],
   "source": [
    "# Load the TensorBoard notebook extension\n",
    "%load_ext tensorboard\n",
    "from tensorflow.keras.models import Sequential\n",
    "from tensorflow.keras.layers import Conv2D, MaxPooling2D, Flatten, Dense, Dropout\n",
    "from tensorflow.keras.callbacks import ReduceLROnPlateau\n",
    "\n",
    "import os"
   ]
  },
  {
   "cell_type": "code",
   "execution_count": 4,
   "metadata": {},
   "outputs": [],
   "source": [
    "classifier = Sequential()\n",
    "\n",
    "#classes = 2\n",
    "\n",
    "#Kernels usually 1x1 | 3x3 | 5x5\n",
    "\n",
    "#Adding a convolutional layer\n",
    "classifier.add(Conv2D(16, (3, 3), input_shape = (150, 150, 3), padding='same', activation = 'relu'))\n",
    "classifier.add(MaxPooling2D(pool_size = (2, 2)))\n",
    "\n",
    "#Adding a second convolutional layer\n",
    "classifier.add(Conv2D(32, (3, 3), padding='same', activation = 'relu'))\n",
    "classifier.add(MaxPooling2D(pool_size = (2, 2)))\n",
    "\n",
    "#Flattening\n",
    "classifier.add(Flatten())\n",
    "\n",
    "\n",
    "#Full connection\n",
    "classifier.add(Dense(units = 32, activation = 'relu'))\n",
    "classifier.add(Dropout(0.10))\n",
    "classifier.add(Dense(units = 1, activation= 'sigmoid'))"
   ]
  },
  {
   "cell_type": "markdown",
   "metadata": {},
   "source": [
    "Let's double check the model description:"
   ]
  },
  {
   "cell_type": "code",
   "execution_count": 5,
   "metadata": {},
   "outputs": [
    {
     "name": "stdout",
     "output_type": "stream",
     "text": [
      "Model: \"sequential_1\"\n",
      "_________________________________________________________________\n",
      "Layer (type)                 Output Shape              Param #   \n",
      "=================================================================\n",
      "conv2d_2 (Conv2D)            (None, 150, 150, 16)      448       \n",
      "_________________________________________________________________\n",
      "max_pooling2d_2 (MaxPooling2 (None, 75, 75, 16)        0         \n",
      "_________________________________________________________________\n",
      "conv2d_3 (Conv2D)            (None, 75, 75, 32)        4640      \n",
      "_________________________________________________________________\n",
      "max_pooling2d_3 (MaxPooling2 (None, 37, 37, 32)        0         \n",
      "_________________________________________________________________\n",
      "flatten_1 (Flatten)          (None, 43808)             0         \n",
      "_________________________________________________________________\n",
      "dense_2 (Dense)              (None, 32)                1401888   \n",
      "_________________________________________________________________\n",
      "dropout_1 (Dropout)          (None, 32)                0         \n",
      "_________________________________________________________________\n",
      "dense_3 (Dense)              (None, 1)                 33        \n",
      "=================================================================\n",
      "Total params: 1,407,009\n",
      "Trainable params: 1,407,009\n",
      "Non-trainable params: 0\n",
      "_________________________________________________________________\n"
     ]
    }
   ],
   "source": [
    "classifier.summary()"
   ]
  },
  {
   "cell_type": "code",
   "execution_count": 6,
   "metadata": {},
   "outputs": [],
   "source": [
    "classifier.compile(optimizer = 'adam', loss = 'binary_crossentropy', metrics = ['accuracy'])"
   ]
  },
  {
   "cell_type": "markdown",
   "metadata": {},
   "source": [
    "### Part 2 - Fitting the CNN to the images\n"
   ]
  },
  {
   "cell_type": "code",
   "execution_count": 7,
   "metadata": {},
   "outputs": [
    {
     "name": "stdout",
     "output_type": "stream",
     "text": [
      "Found 1102 images belonging to 2 classes.\n",
      "Found 274 images belonging to 2 classes.\n",
      "Found 344 images belonging to 2 classes.\n"
     ]
    }
   ],
   "source": [
    "from tensorflow.keras.preprocessing.image import ImageDataGenerator\n",
    "\n",
    "path_dir = '../dataset_mel_final/train'\n",
    "parth_dir_test = '../dataset_mel_final/test'\n",
    "\n",
    "datagen = ImageDataGenerator(\n",
    "                    rescale=1./255,\n",
    "                    validation_split = 0.2)\n",
    "\n",
    "train_generator = datagen.flow_from_directory(\n",
    "    path_dir,\n",
    "    target_size=(150,150),\n",
    "    shuffle=True,\n",
    "    subset='training',\n",
    "    batch_size = 64,\n",
    "    class_mode = 'binary'\n",
    ")\n",
    "validation_generator = datagen.flow_from_directory(\n",
    "    path_dir,\n",
    "    target_size=(150,150),\n",
    "    subset='validation',\n",
    "    batch_size = 64,\n",
    "    class_mode = 'binary'\n",
    ")\n",
    "\n",
    "test_set = datagen.flow_from_directory(parth_dir_test,\n",
    "                                        target_size= (150,150),\n",
    "                                        batch_size = 64,\n",
    "                                        class_mode = 'binary')\n"
   ]
  },
  {
   "cell_type": "code",
   "execution_count": 8,
   "metadata": {},
   "outputs": [
    {
     "data": {
      "text/plain": [
       "{'nonviolence': 0, 'violence': 1}"
      ]
     },
     "execution_count": 8,
     "metadata": {},
     "output_type": "execute_result"
    }
   ],
   "source": [
    "train_generator.class_indices"
   ]
  },
  {
   "cell_type": "code",
   "execution_count": 9,
   "metadata": {},
   "outputs": [],
   "source": [
    "from tensorflow.keras.callbacks import EarlyStopping, ModelCheckpoint, TensorBoard\n",
    "import datetime\n",
    "\n",
    "#rm -rf /logs/\n",
    "\n",
    "es = EarlyStopping(monitor='val_loss', patience=10)\n",
    "mc = ModelCheckpoint('best_cnn.h5', monitor='val_loss', mode='min', save_best_only=True)\n",
    "reduceLR = ReduceLROnPlateau(monitor='val_loss', factor=0.1, patience=20)\n",
    "\n",
    "# Create a TensorBoard callback\n",
    "log_dir = \"logs\\\\fit\\\\\" + datetime.datetime.now().strftime(\"%Y%m%d-%H%M%S\")\n",
    "tensorboard_callback = TensorBoard(log_dir=log_dir, histogram_freq=1)"
   ]
  },
  {
   "cell_type": "code",
   "execution_count": 10,
   "metadata": {},
   "outputs": [
    {
     "name": "stdout",
     "output_type": "stream",
     "text": [
      "Epoch 1/600\n",
      "18/18 [==============================] - 7s 236ms/step - loss: 1.0051 - accuracy: 0.5045 - val_loss: 0.6937 - val_accuracy: 0.5000\n",
      "Epoch 2/600\n",
      "18/18 [==============================] - 4s 207ms/step - loss: 0.6938 - accuracy: 0.5000 - val_loss: 0.6888 - val_accuracy: 0.5000\n",
      "Epoch 3/600\n",
      "18/18 [==============================] - 4s 204ms/step - loss: 0.6850 - accuracy: 0.5000 - val_loss: 0.6751 - val_accuracy: 0.5000\n",
      "Epoch 4/600\n",
      "18/18 [==============================] - 4s 211ms/step - loss: 0.6604 - accuracy: 0.5753 - val_loss: 0.6489 - val_accuracy: 0.5255\n",
      "Epoch 5/600\n",
      "18/18 [==============================] - 4s 216ms/step - loss: 0.6212 - accuracy: 0.6751 - val_loss: 0.5254 - val_accuracy: 0.7774\n",
      "Epoch 6/600\n",
      "18/18 [==============================] - 4s 212ms/step - loss: 0.5372 - accuracy: 0.7414 - val_loss: 0.4279 - val_accuracy: 0.8650\n",
      "Epoch 7/600\n",
      "18/18 [==============================] - 4s 226ms/step - loss: 0.4249 - accuracy: 0.8094 - val_loss: 0.4978 - val_accuracy: 0.6861\n",
      "Epoch 8/600\n",
      "18/18 [==============================] - 4s 212ms/step - loss: 0.4084 - accuracy: 0.8140 - val_loss: 0.2838 - val_accuracy: 0.9197\n",
      "Epoch 9/600\n",
      "18/18 [==============================] - 4s 215ms/step - loss: 0.3231 - accuracy: 0.8539 - val_loss: 0.2470 - val_accuracy: 0.9453\n",
      "Epoch 10/600\n",
      "18/18 [==============================] - 4s 216ms/step - loss: 0.2770 - accuracy: 0.8775 - val_loss: 0.2057 - val_accuracy: 0.9453\n",
      "Epoch 11/600\n",
      "18/18 [==============================] - 4s 207ms/step - loss: 0.2672 - accuracy: 0.8784 - val_loss: 0.1540 - val_accuracy: 0.9526\n",
      "Epoch 12/600\n",
      "18/18 [==============================] - 4s 204ms/step - loss: 0.2445 - accuracy: 0.8857 - val_loss: 0.1578 - val_accuracy: 0.9562\n",
      "Epoch 13/600\n",
      "18/18 [==============================] - 4s 224ms/step - loss: 0.2521 - accuracy: 0.8829 - val_loss: 0.1560 - val_accuracy: 0.9562\n",
      "Epoch 14/600\n",
      "18/18 [==============================] - 4s 213ms/step - loss: 0.2303 - accuracy: 0.8929 - val_loss: 0.1993 - val_accuracy: 0.9234\n",
      "Epoch 15/600\n",
      "18/18 [==============================] - 4s 211ms/step - loss: 0.2709 - accuracy: 0.8766 - val_loss: 0.2007 - val_accuracy: 0.9526\n",
      "Epoch 16/600\n",
      "18/18 [==============================] - 4s 218ms/step - loss: 0.2309 - accuracy: 0.8920 - val_loss: 0.1366 - val_accuracy: 0.9416\n",
      "Epoch 17/600\n",
      "18/18 [==============================] - 4s 212ms/step - loss: 0.1820 - accuracy: 0.9138 - val_loss: 0.1373 - val_accuracy: 0.9453\n",
      "Epoch 18/600\n",
      "18/18 [==============================] - 4s 215ms/step - loss: 0.1955 - accuracy: 0.9102 - val_loss: 0.1437 - val_accuracy: 0.9416\n",
      "Epoch 19/600\n",
      "18/18 [==============================] - 4s 215ms/step - loss: 0.1778 - accuracy: 0.9165 - val_loss: 0.1695 - val_accuracy: 0.9489\n",
      "Epoch 20/600\n",
      "18/18 [==============================] - 4s 235ms/step - loss: 0.1853 - accuracy: 0.8975 - val_loss: 0.1258 - val_accuracy: 0.9416\n",
      "Epoch 21/600\n",
      "18/18 [==============================] - 4s 211ms/step - loss: 0.1731 - accuracy: 0.9074 - val_loss: 0.1429 - val_accuracy: 0.9416\n",
      "Epoch 22/600\n",
      "18/18 [==============================] - 4s 227ms/step - loss: 0.1656 - accuracy: 0.9201 - val_loss: 0.1405 - val_accuracy: 0.9380\n",
      "Epoch 23/600\n",
      "18/18 [==============================] - 4s 217ms/step - loss: 0.1599 - accuracy: 0.9138 - val_loss: 0.1217 - val_accuracy: 0.9453\n",
      "Epoch 24/600\n",
      "18/18 [==============================] - 4s 205ms/step - loss: 0.1527 - accuracy: 0.9156 - val_loss: 0.1322 - val_accuracy: 0.9489\n",
      "Epoch 25/600\n",
      "18/18 [==============================] - 4s 207ms/step - loss: 0.1375 - accuracy: 0.9247 - val_loss: 0.1328 - val_accuracy: 0.9416\n",
      "Epoch 26/600\n",
      "18/18 [==============================] - 4s 210ms/step - loss: 0.1487 - accuracy: 0.9192 - val_loss: 0.1197 - val_accuracy: 0.9453\n",
      "Epoch 27/600\n",
      "18/18 [==============================] - 4s 209ms/step - loss: 0.1354 - accuracy: 0.9211 - val_loss: 0.1474 - val_accuracy: 0.9562\n",
      "Epoch 28/600\n",
      "18/18 [==============================] - 4s 210ms/step - loss: 0.1292 - accuracy: 0.9265 - val_loss: 0.1203 - val_accuracy: 0.9416\n",
      "Epoch 29/600\n",
      "18/18 [==============================] - 4s 207ms/step - loss: 0.1190 - accuracy: 0.9347 - val_loss: 0.1255 - val_accuracy: 0.9489\n",
      "Epoch 30/600\n",
      "18/18 [==============================] - 4s 207ms/step - loss: 0.1238 - accuracy: 0.9365 - val_loss: 0.1344 - val_accuracy: 0.9453\n",
      "Epoch 31/600\n",
      "18/18 [==============================] - 4s 225ms/step - loss: 0.1119 - accuracy: 0.9347 - val_loss: 0.1457 - val_accuracy: 0.9526\n",
      "Epoch 32/600\n",
      "18/18 [==============================] - 4s 209ms/step - loss: 0.1255 - accuracy: 0.9183 - val_loss: 0.1325 - val_accuracy: 0.9416\n",
      "Epoch 33/600\n",
      "18/18 [==============================] - 4s 214ms/step - loss: 0.1038 - accuracy: 0.9428 - val_loss: 0.1482 - val_accuracy: 0.9526\n",
      "Epoch 34/600\n",
      "18/18 [==============================] - 4s 207ms/step - loss: 0.1045 - accuracy: 0.9419 - val_loss: 0.1286 - val_accuracy: 0.9489\n",
      "Epoch 35/600\n",
      "18/18 [==============================] - 4s 210ms/step - loss: 0.1206 - accuracy: 0.9319 - val_loss: 0.1324 - val_accuracy: 0.9416\n",
      "Epoch 36/600\n",
      "18/18 [==============================] - 4s 211ms/step - loss: 0.1098 - accuracy: 0.9283 - val_loss: 0.1428 - val_accuracy: 0.9416\n"
     ]
    },
    {
     "data": {
      "text/plain": [
       "<tensorflow.python.keras.callbacks.History at 0x2265eb2cd30>"
      ]
     },
     "execution_count": 10,
     "metadata": {},
     "output_type": "execute_result"
    }
   ],
   "source": [
    "classifier.fit(train_generator,\n",
    "                         epochs = 600,\n",
    "                         callbacks = [tensorboard_callback,es,mc,reduceLR],\n",
    "                         validation_data = validation_generator\n",
    "                         )"
   ]
  },
  {
   "cell_type": "code",
   "execution_count": 11,
   "metadata": {},
   "outputs": [],
   "source": [
    "#Overfitting -> Your training accuracy will be higher than the accuracy on the validation/test set\n",
    "\n",
    "#Overfitting indicates that your model is too complex for the problem that it is solving,\n",
    "#filters in the case of Convolutional Neural Networks, and layers in the case of overall Deep Learning Models\n",
    "\n",
    "#How do you know if your model is underfitting? Your model is underfitting if the accuracy on the validation set \n",
    "#is higher than the accuracy on the training set. Additionally, \n",
    "#if the whole model performs bad this is also called underfitting.\n",
    "\n",
    "#https://towardsdatascience.com/deep-learning-3-more-on-cnns-handling-overfitting-2bd5d99abe5d"
   ]
  },
  {
   "cell_type": "code",
   "execution_count": 15,
   "metadata": {},
   "outputs": [
    {
     "data": {
      "text/html": [
       "\n",
       "      <iframe id=\"tensorboard-frame-b4547a632d92ce52\" width=\"100%\" height=\"800\" frameborder=\"0\">\n",
       "      </iframe>\n",
       "      <script>\n",
       "        (function() {\n",
       "          const frame = document.getElementById(\"tensorboard-frame-b4547a632d92ce52\");\n",
       "          const url = new URL(\"/\", window.location);\n",
       "          const port = 6006;\n",
       "          if (port) {\n",
       "            url.port = port;\n",
       "          }\n",
       "          frame.src = url;\n",
       "        })();\n",
       "      </script>\n",
       "    "
      ],
      "text/plain": [
       "<IPython.core.display.HTML object>"
      ]
     },
     "metadata": {},
     "output_type": "display_data"
    }
   ],
   "source": [
    "%tensorboard --logdir logs/fit"
   ]
  },
  {
   "cell_type": "markdown",
   "metadata": {},
   "source": [
    "# Part 3 test the CNN"
   ]
  },
  {
   "cell_type": "code",
   "execution_count": 12,
   "metadata": {},
   "outputs": [],
   "source": [
    "# Load Model\n",
    "classifier.load_weights('best_cnn.h5')"
   ]
  },
  {
   "cell_type": "code",
   "execution_count": 13,
   "metadata": {},
   "outputs": [
    {
     "name": "stdout",
     "output_type": "stream",
     "text": [
      "Model: \"sequential_1\"\n",
      "_________________________________________________________________\n",
      "Layer (type)                 Output Shape              Param #   \n",
      "=================================================================\n",
      "conv2d_2 (Conv2D)            (None, 150, 150, 16)      448       \n",
      "_________________________________________________________________\n",
      "max_pooling2d_2 (MaxPooling2 (None, 75, 75, 16)        0         \n",
      "_________________________________________________________________\n",
      "conv2d_3 (Conv2D)            (None, 75, 75, 32)        4640      \n",
      "_________________________________________________________________\n",
      "max_pooling2d_3 (MaxPooling2 (None, 37, 37, 32)        0         \n",
      "_________________________________________________________________\n",
      "flatten_1 (Flatten)          (None, 43808)             0         \n",
      "_________________________________________________________________\n",
      "dense_2 (Dense)              (None, 32)                1401888   \n",
      "_________________________________________________________________\n",
      "dropout_1 (Dropout)          (None, 32)                0         \n",
      "_________________________________________________________________\n",
      "dense_3 (Dense)              (None, 1)                 33        \n",
      "=================================================================\n",
      "Total params: 1,407,009\n",
      "Trainable params: 1,407,009\n",
      "Non-trainable params: 0\n",
      "_________________________________________________________________\n"
     ]
    }
   ],
   "source": [
    "classifier.summary()"
   ]
  },
  {
   "cell_type": "code",
   "execution_count": 14,
   "metadata": {},
   "outputs": [
    {
     "name": "stdout",
     "output_type": "stream",
     "text": [
      "Test Loss 0.21285784244537354\n",
      "Test accuracy 0.9244186282157898\n"
     ]
    }
   ],
   "source": [
    "score = classifier.evaluate(test_set, verbose=0)\n",
    "\n",
    "print('Test Loss', score[0])\n",
    "print('Test accuracy', score[1])"
   ]
  }
 ],
 "metadata": {
  "kernelspec": {
   "display_name": "Python 3 (ipykernel)",
   "language": "python",
   "name": "python3"
  },
  "language_info": {
   "codemirror_mode": {
    "name": "ipython",
    "version": 3
   },
   "file_extension": ".py",
   "mimetype": "text/x-python",
   "name": "python",
   "nbconvert_exporter": "python",
   "pygments_lexer": "ipython3",
   "version": "3.8.0"
  }
 },
 "nbformat": 4,
 "nbformat_minor": 4
}
