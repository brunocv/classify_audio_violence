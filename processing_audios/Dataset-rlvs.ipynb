{
 "cells": [
  {
   "cell_type": "markdown",
   "id": "d1152506",
   "metadata": {},
   "source": [
    "# Converter MP4 em MP3"
   ]
  },
  {
   "cell_type": "markdown",
   "id": "f4c34000",
   "metadata": {},
   "source": [
    "Mudar os nomes para numerar os vídeos de violência"
   ]
  },
  {
   "cell_type": "code",
   "execution_count": null,
   "id": "e331949a",
   "metadata": {},
   "outputs": [],
   "source": [
    "import os\n",
    " \n",
    "# Function to rename multiple files\n",
    "def main():\n",
    "   \n",
    "    folder = \"../dataset_rlvs/Violence\"\n",
    "    for count, filename in enumerate(os.listdir(folder)):\n",
    "        file = filename\n",
    "        file = file.split(\".\")[-1]\n",
    "        \n",
    "        if file == \"mp4\":\n",
    "            dst = f\"{str(count)}.mp4\"\n",
    "        else:\n",
    "            dst = f\"{str(count)}.MOV\"\n",
    "            \n",
    "        src =f\"{folder}/{filename}\"  # foldername/filename, if .py file is outside folder\n",
    "        dst =f\"{folder}/{dst}\"\n",
    "         \n",
    "        # rename() function will\n",
    "        # rename all the files\n",
    "        os.rename(src, dst)\n",
    " \n",
    "# Driver Code\n",
    "if __name__ == '__main__':\n",
    "     \n",
    "    # Calling main() function\n",
    "    main()"
   ]
  },
  {
   "cell_type": "markdown",
   "id": "0fb3903e",
   "metadata": {},
   "source": [
    "Ficheiros MP4 de violência para mp3"
   ]
  },
  {
   "cell_type": "code",
   "execution_count": null,
   "id": "a26b795b",
   "metadata": {},
   "outputs": [],
   "source": [
    "import moviepy\n",
    "import os\n",
    "import glob\n",
    "import moviepy.editor \n",
    "from tqdm import tqdm\n",
    "\n",
    "pathdir = \"../dataset_rlvs/Violence\"\n",
    "\n",
    "# Get a list of all the files with .mp4 extension in pathdir folder.\n",
    "\n",
    "mkv_filenames_list = glob.glob(os.path.join(pathdir, \"*.mp4\"))\n",
    "\n",
    "#444 mp4\n",
    "for filename in tqdm(mkv_filenames_list):\n",
    "    print(filename)\n",
    "        \n",
    "    video = moviepy.editor.VideoFileClip(filename)\n",
    "    audio = video.audio\n",
    "\n",
    "    # Some of my mp4 files can be without audio (just in case).\n",
    "    if audio is not None:\n",
    "        mov_file_name = filename.replace('.mp4', '.mp3')  # Replace .mp4 with .mp3\n",
    "        audio.write_audiofile(mov_file_name)\n",
    "else:\n",
    "    print(\"Finished conversion\")"
   ]
  },
  {
   "cell_type": "code",
   "execution_count": 1,
   "id": "15291212",
   "metadata": {},
   "outputs": [],
   "source": [
    "import sys\n",
    "import os\n",
    "\n",
    "directory = \"../dataset_rlvs/Violence\"\n",
    "test = os.listdir( directory )\n",
    "\n",
    "for item in test:\n",
    "    if item.endswith(\".mp4\"):\n",
    "        os.remove( os.path.join( directory, item ) )"
   ]
  },
  {
   "cell_type": "code",
   "execution_count": null,
   "id": "a3b3eb23",
   "metadata": {},
   "outputs": [],
   "source": [
    "import moviepy\n",
    "import os\n",
    "import glob\n",
    "import moviepy.editor \n",
    "from tqdm import tqdm\n",
    "\n",
    "pathdir = \"../dataset/fix\"\n",
    "\n",
    "# Get a list of all the files with .mp4 extension in pathdir folder.\n",
    "\n",
    "mkv_filenames_list = glob.glob(os.path.join(pathdir, \"*.mp4\"))\n",
    "\n",
    "#444 mp4\n",
    "for filename in tqdm(mkv_filenames_list):\n",
    "    print(filename)\n",
    "        \n",
    "    video = moviepy.editor.VideoFileClip(filename)\n",
    "    audio = video.audio\n",
    "\n",
    "    # Some of my mp4 files can be without audio (just in case).\n",
    "    if audio is not None:\n",
    "        mov_file_name = filename.replace('.mp4', '.mp3')  # Replace .mp4 with .mp3\n",
    "        audio.write_audiofile(mov_file_name)\n",
    "else:\n",
    "    print(\"Finished conversion\")"
   ]
  },
  {
   "cell_type": "code",
   "execution_count": 1,
   "id": "566e57c3",
   "metadata": {},
   "outputs": [],
   "source": [
    "import os\n",
    " \n",
    "# Function to rename multiple files\n",
    "def main():\n",
    "   \n",
    "    folder = \"../dataset_rlvs/Violence\"\n",
    "    for count, filename in enumerate(os.listdir(folder)):\n",
    "        file = filename\n",
    "        file = file.split(\".\")[-1]\n",
    "        \n",
    "        if file == \"mp3\":\n",
    "            dst = f\"{str(count)}_3.mp3\"\n",
    "        else:\n",
    "            dst = f\"{str(count)}_3.mp3\"\n",
    "            \n",
    "        src =f\"{folder}/{filename}\"  # foldername/filename, if .py file is outside folder\n",
    "        dst =f\"{folder}/{dst}\"\n",
    "         \n",
    "        # rename() function will\n",
    "        # rename all the files\n",
    "        os.rename(src, dst)\n",
    " \n",
    "# Driver Code\n",
    "if __name__ == '__main__':\n",
    "     \n",
    "    # Calling main() function\n",
    "    main()"
   ]
  },
  {
   "cell_type": "code",
   "execution_count": null,
   "id": "fa08b839",
   "metadata": {},
   "outputs": [],
   "source": []
  }
 ],
 "metadata": {
  "kernelspec": {
   "display_name": "Python 3 (ipykernel)",
   "language": "python",
   "name": "python3"
  },
  "language_info": {
   "codemirror_mode": {
    "name": "ipython",
    "version": 3
   },
   "file_extension": ".py",
   "mimetype": "text/x-python",
   "name": "python",
   "nbconvert_exporter": "python",
   "pygments_lexer": "ipython3",
   "version": "3.9.7"
  }
 },
 "nbformat": 4,
 "nbformat_minor": 5
}
