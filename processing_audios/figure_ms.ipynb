{
 "cells": [
  {
   "cell_type": "code",
   "execution_count": 1,
   "id": "341eff59",
   "metadata": {},
   "outputs": [],
   "source": [
    "import moviepy\n",
    "import os\n",
    "import glob\n",
    "import moviepy.editor \n",
    "from tqdm import tqdm\n"
   ]
  },
  {
   "cell_type": "code",
   "execution_count": 2,
   "id": "423aec59",
   "metadata": {},
   "outputs": [
    {
     "name": "stdout",
     "output_type": "stream",
     "text": [
      "MoviePy - Writing audio in nonviolence_5.mp3\n"
     ]
    },
    {
     "name": "stderr",
     "output_type": "stream",
     "text": [
      "                                                                                                                       "
     ]
    },
    {
     "name": "stdout",
     "output_type": "stream",
     "text": [
      "MoviePy - Done.\n"
     ]
    },
    {
     "name": "stderr",
     "output_type": "stream",
     "text": [
      "\r"
     ]
    }
   ],
   "source": [
    "filename = \"nonviolence_5.MOV\"\n",
    "video = moviepy.editor.VideoFileClip(filename)\n",
    "audio = video.audio\n",
    "\n",
    "if audio is not None:\n",
    "    mov_file_name = filename.replace('.MOV', '.mp3')  # Replace .MOV with .mp3\n",
    "    audio.write_audiofile(mov_file_name)"
   ]
  },
  {
   "cell_type": "code",
   "execution_count": null,
   "id": "28be8b0c",
   "metadata": {},
   "outputs": [],
   "source": [
    "filename = \"nonviolence_4.MOV\"\n",
    "video = moviepy.editor.VideoFileClip(filename)\n",
    "audio = video.audio\n",
    "\n",
    "if audio is not None:\n",
    "    mov_file_name = filename.replace('.MOV', '.mp3')  # Replace .MOV with .mp3\n",
    "    audio.write_audiofile(mov_file_name)"
   ]
  },
  {
   "cell_type": "code",
   "execution_count": null,
   "id": "f2a9b308",
   "metadata": {},
   "outputs": [],
   "source": [
    "filename = \"violencia_1.MOV\"\n",
    "video = moviepy.editor.VideoFileClip(filename)\n",
    "audio = video.audio\n",
    "\n",
    "if audio is not None:\n",
    "    mov_file_name = filename.replace('.MOV', '.mp3')  # Replace .MOV with .mp3\n",
    "    audio.write_audiofile(mov_file_name)"
   ]
  },
  {
   "cell_type": "code",
   "execution_count": null,
   "id": "5ee68d21",
   "metadata": {},
   "outputs": [],
   "source": [
    "filename = \"violencia_7.MOV\"\n",
    "video = moviepy.editor.VideoFileClip(filename)\n",
    "audio = video.audio\n",
    "\n",
    "if audio is not None:\n",
    "    mov_file_name = filename.replace('.MOV', '.mp3')  # Replace .MOV with .mp3\n",
    "    audio.write_audiofile(mov_file_name)"
   ]
  },
  {
   "cell_type": "code",
   "execution_count": 3,
   "id": "06a7a45e",
   "metadata": {},
   "outputs": [],
   "source": [
    "import librosa\n",
    "import librosa.display\n",
    "import IPython.display as ipd\n",
    "import numpy as np\n",
    "import matplotlib.pyplot as plt"
   ]
  },
  {
   "cell_type": "code",
   "execution_count": 4,
   "id": "68a03caf",
   "metadata": {},
   "outputs": [
    {
     "data": {
      "text/plain": [
       "<Figure size 432x288 with 0 Axes>"
      ]
     },
     "metadata": {},
     "output_type": "display_data"
    }
   ],
   "source": [
    "n_fft = 2048\n",
    "hop_length = 512\n",
    "n_mels = 128\n",
    "\n",
    "\n",
    "scale_file = \"nonviolence_5.mp3\"\n",
    "y, sr = librosa.load(scale_file)\n",
    "\n",
    "S = librosa.feature.melspectrogram(y, sr=sr, n_fft=n_fft, hop_length=hop_length, n_mels=n_mels)\n",
    "S_DB = librosa.power_to_db(S, ref=np.max)\n",
    "librosa.display.specshow(S_DB, sr=sr, hop_length=hop_length, x_axis='time', y_axis='mel');\n",
    "\n",
    "plt.axis('on')\n",
    "plt.xlabel(\"Tempo\")\n",
    "plt.axis(\"tight\")\n",
    "plt.savefig(\"nonviolence_5 .png\")\n",
    "plt.clf()"
   ]
  },
  {
   "cell_type": "code",
   "execution_count": null,
   "id": "7a74fb1b",
   "metadata": {},
   "outputs": [],
   "source": [
    "n_fft = 2048\n",
    "hop_length = 512\n",
    "n_mels = 128\n",
    "\n",
    "\n",
    "scale_file = \"nonviolence_4.mp3\"\n",
    "y, sr = librosa.load(scale_file)\n",
    "\n",
    "S = librosa.feature.melspectrogram(y, sr=sr, n_fft=n_fft, hop_length=hop_length, n_mels=n_mels)\n",
    "S_DB = librosa.power_to_db(S, ref=np.max)\n",
    "librosa.display.specshow(S_DB, sr=sr, hop_length=hop_length, x_axis='time', y_axis='mel');\n",
    "\n",
    "plt.axis('on')\n",
    "plt.xlabel(\"Tempo\")\n",
    "plt.axis(\"tight\")\n",
    "plt.savefig(\"nonviolence_4 .png\")\n",
    "plt.clf()"
   ]
  },
  {
   "cell_type": "code",
   "execution_count": null,
   "id": "9118923b",
   "metadata": {},
   "outputs": [],
   "source": [
    "n_fft = 2048\n",
    "hop_length = 512\n",
    "n_mels = 128\n",
    "\n",
    "\n",
    "scale_file = \"violencia_1.mp3\"\n",
    "y, sr = librosa.load(scale_file)\n",
    "\n",
    "S = librosa.feature.melspectrogram(y, sr=sr, n_fft=n_fft, hop_length=hop_length, n_mels=n_mels)\n",
    "S_DB = librosa.power_to_db(S, ref=np.max)\n",
    "librosa.display.specshow(S_DB, sr=sr, hop_length=hop_length, x_axis='time', y_axis='mel');\n",
    "\n",
    "plt.axis('on')\n",
    "plt.xlabel(\"Tempo\")\n",
    "plt.axis(\"tight\")\n",
    "plt.savefig(\"violencia_1 .png\")\n",
    "plt.clf()"
   ]
  },
  {
   "cell_type": "code",
   "execution_count": null,
   "id": "5539e2dc",
   "metadata": {},
   "outputs": [],
   "source": [
    "n_fft = 2048\n",
    "hop_length = 512\n",
    "n_mels = 128\n",
    "\n",
    "\n",
    "scale_file = \"violencia_7.mp3\"\n",
    "y, sr = librosa.load(scale_file)\n",
    "\n",
    "S = librosa.feature.melspectrogram(y, sr=sr, n_fft=n_fft, hop_length=hop_length, n_mels=n_mels)\n",
    "S_DB = librosa.power_to_db(S, ref=np.max)\n",
    "librosa.display.specshow(S_DB, sr=sr, hop_length=hop_length, x_axis='time', y_axis='mel');\n",
    "\n",
    "plt.axis('on')\n",
    "plt.xlabel(\"Tempo\")\n",
    "plt.axis(\"tight\")\n",
    "plt.savefig(\"violencia_7 .png\")\n",
    "plt.clf()"
   ]
  },
  {
   "cell_type": "code",
   "execution_count": null,
   "id": "59b295ad",
   "metadata": {},
   "outputs": [],
   "source": []
  }
 ],
 "metadata": {
  "kernelspec": {
   "display_name": "Python 3 (ipykernel)",
   "language": "python",
   "name": "python3"
  },
  "language_info": {
   "codemirror_mode": {
    "name": "ipython",
    "version": 3
   },
   "file_extension": ".py",
   "mimetype": "text/x-python",
   "name": "python",
   "nbconvert_exporter": "python",
   "pygments_lexer": "ipython3",
   "version": "3.8.13"
  }
 },
 "nbformat": 4,
 "nbformat_minor": 5
}
