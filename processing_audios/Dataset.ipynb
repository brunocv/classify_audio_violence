{
 "cells": [
  {
   "cell_type": "markdown",
   "id": "1ed9fccf",
   "metadata": {},
   "source": [
    "# Contagem de ficheiros"
   ]
  },
  {
   "cell_type": "markdown",
   "id": "d951720e",
   "metadata": {},
   "source": [
    "Número de ficheiros em diretoria (494 nonviolence, 795 violence) -> (1175 nonviolence, 755 violence)"
   ]
  },
  {
   "cell_type": "code",
   "execution_count": null,
   "id": "ad90546e",
   "metadata": {},
   "outputs": [],
   "source": [
    "import os\n",
    "directory_path = '../dataset/nonviolence'\n",
    "No_of_files_nonviolence = len(os.listdir(directory_path))"
   ]
  },
  {
   "cell_type": "code",
   "execution_count": null,
   "id": "24747be9",
   "metadata": {},
   "outputs": [],
   "source": [
    "No_of_files_nonviolence"
   ]
  },
  {
   "cell_type": "code",
   "execution_count": null,
   "id": "a5f60ec3",
   "metadata": {},
   "outputs": [],
   "source": [
    "import os\n",
    "directory_path = '../dataset/violence'\n",
    "No_of_files_violence = len(os.listdir(directory_path))"
   ]
  },
  {
   "cell_type": "code",
   "execution_count": null,
   "id": "44f81960",
   "metadata": {},
   "outputs": [],
   "source": [
    "No_of_files_violence"
   ]
  },
  {
   "cell_type": "code",
   "execution_count": null,
   "id": "d2bc5547",
   "metadata": {},
   "outputs": [],
   "source": [
    "import matplotlib.pyplot as plt\n",
    "fig = plt.figure()\n",
    "ax = fig.add_axes([0,0,1,1])\n",
    "y = ['nonviolence','violence']\n",
    "x = [No_of_files_nonviolence,No_of_files_violence]\n",
    "ax.bar(y,x)\n",
    "plt.show()"
   ]
  },
  {
   "cell_type": "markdown",
   "id": "d1152506",
   "metadata": {},
   "source": [
    "# Converter MP4 e MOV em MP3"
   ]
  },
  {
   "cell_type": "markdown",
   "id": "7ad7cd01",
   "metadata": {},
   "source": [
    "Mudar os nomes para numerar os vídeos de não violência"
   ]
  },
  {
   "cell_type": "code",
   "execution_count": null,
   "id": "2d79ea0c",
   "metadata": {},
   "outputs": [],
   "source": [
    "import os\n",
    " \n",
    "# Function to rename multiple files\n",
    "def main():\n",
    "   \n",
    "    folder = \"../dataset/nonviolence\"\n",
    "    for count, filename in enumerate(os.listdir(folder)):\n",
    "        file = filename\n",
    "        file = file.split(\".\")[-1]\n",
    "        \n",
    "        if file == \"mp4\":\n",
    "            dst = f\"{str(count)}.mp4\"\n",
    "        else:\n",
    "            dst = f\"{str(count)}.MOV\"\n",
    "            \n",
    "        src =f\"{folder}/{filename}\"  # foldername/filename, if .py file is outside folder\n",
    "        dst =f\"{folder}/{dst}\"\n",
    "         \n",
    "        # rename() function will\n",
    "        # rename all the files\n",
    "        os.rename(src, dst)\n",
    " \n",
    "# Driver Code\n",
    "if __name__ == '__main__':\n",
    "     \n",
    "    # Calling main() function\n",
    "    main()"
   ]
  },
  {
   "cell_type": "markdown",
   "id": "f4c34000",
   "metadata": {},
   "source": [
    "Mudar os nomes para numerar os vídeos de violência"
   ]
  },
  {
   "cell_type": "code",
   "execution_count": null,
   "id": "e331949a",
   "metadata": {},
   "outputs": [],
   "source": [
    "import os\n",
    " \n",
    "# Function to rename multiple files\n",
    "def main():\n",
    "   \n",
    "    folder = \"../dataset/violence\"\n",
    "    for count, filename in enumerate(os.listdir(folder)):\n",
    "        file = filename\n",
    "        file = file.split(\".\")[-1]\n",
    "        \n",
    "        if file == \"mp4\":\n",
    "            dst = f\"{str(count)}.mp4\"\n",
    "        else:\n",
    "            dst = f\"{str(count)}.MOV\"\n",
    "            \n",
    "        src =f\"{folder}/{filename}\"  # foldername/filename, if .py file is outside folder\n",
    "        dst =f\"{folder}/{dst}\"\n",
    "         \n",
    "        # rename() function will\n",
    "        # rename all the files\n",
    "        os.rename(src, dst)\n",
    " \n",
    "# Driver Code\n",
    "if __name__ == '__main__':\n",
    "     \n",
    "    # Calling main() function\n",
    "    main()"
   ]
  },
  {
   "cell_type": "markdown",
   "id": "fc0609ab",
   "metadata": {},
   "source": [
    "Ficheiros MOV de não violência para mp3"
   ]
  },
  {
   "cell_type": "code",
   "execution_count": null,
   "id": "593265a5",
   "metadata": {},
   "outputs": [],
   "source": [
    "import moviepy\n",
    "import os\n",
    "import glob\n",
    "import moviepy.editor \n",
    "from tqdm import tqdm\n",
    "\n",
    "pathdir = \"../dataset/nonviolence\"\n",
    "\n",
    "# Get a list of all the files with .MOV extension in pathdir folder.\n",
    "\n",
    "mkv_filenames_list = glob.glob(os.path.join(pathdir, \"*.MOV\"))\n",
    "\n",
    "#226 MOV\n",
    "for filename in tqdm(mkv_filenames_list):\n",
    "    print(filename)\n",
    "        \n",
    "    video = moviepy.editor.VideoFileClip(filename)\n",
    "    audio = video.audio\n",
    "\n",
    "    # Some of my MOV files can be without audio (just in case).\n",
    "    if audio is not None:\n",
    "        mov_file_name = filename.replace('.MOV', '.mp3')  # Replace .MOV with .mp3\n",
    "        audio.write_audiofile(mov_file_name)\n",
    "else:\n",
    "    print(\"Finished conversion\")"
   ]
  },
  {
   "cell_type": "markdown",
   "id": "6f89dd86",
   "metadata": {},
   "source": [
    "Ficheiros MP4 de não violência para mp3"
   ]
  },
  {
   "cell_type": "code",
   "execution_count": null,
   "id": "2acc2fe8",
   "metadata": {},
   "outputs": [],
   "source": [
    "import moviepy\n",
    "import os\n",
    "import glob\n",
    "import moviepy.editor \n",
    "from tqdm import tqdm\n",
    "\n",
    "pathdir = \"../dataset/nonviolence\"\n",
    "\n",
    "# Get a list of all the files with .mp4 extension in pathdir folder.\n",
    "\n",
    "mkv_filenames_list = glob.glob(os.path.join(pathdir, \"*.mp4\"))\n",
    "\n",
    "#268 mp4\n",
    "for filename in tqdm(mkv_filenames_list):\n",
    "    print(filename)\n",
    "        \n",
    "    video = moviepy.editor.VideoFileClip(filename)\n",
    "    audio = video.audio\n",
    "\n",
    "    # Some of my mp4 files can be without audio (just in case).\n",
    "    if audio is not None:\n",
    "        mov_file_name = filename.replace('.mp4', '.mp3')  # Replace .mp4 with .mp3\n",
    "        audio.write_audiofile(mov_file_name)\n",
    "else:\n",
    "    print(\"Finished conversion\")"
   ]
  },
  {
   "cell_type": "markdown",
   "id": "2f31e01b",
   "metadata": {},
   "source": [
    "Ficheiros MOV de violência para mp3"
   ]
  },
  {
   "cell_type": "code",
   "execution_count": null,
   "id": "027d3c35",
   "metadata": {},
   "outputs": [],
   "source": [
    "import moviepy\n",
    "import os\n",
    "import glob\n",
    "import moviepy.editor \n",
    "from tqdm import tqdm\n",
    "\n",
    "pathdir = \"../dataset/violence\"\n",
    "\n",
    "# Get a list of all the files with .MOV extension in pathdir folder.\n",
    "\n",
    "mkv_filenames_list = glob.glob(os.path.join(pathdir, \"*.MOV\"))\n",
    "\n",
    "#351 MOV\n",
    "for filename in tqdm(mkv_filenames_list):\n",
    "    print(filename)\n",
    "        \n",
    "    video = moviepy.editor.VideoFileClip(filename)\n",
    "    audio = video.audio\n",
    "\n",
    "    # Some of my MOV files can be without audio (just in case).\n",
    "    if audio is not None:\n",
    "        mov_file_name = filename.replace('.MOV', '.mp3')  # Replace .MOV with .mp3\n",
    "        audio.write_audiofile(mov_file_name)\n",
    "else:\n",
    "    print(\"Finished conversion\")"
   ]
  },
  {
   "cell_type": "markdown",
   "id": "0fb3903e",
   "metadata": {},
   "source": [
    "Ficheiros MP4 de violência para mp3"
   ]
  },
  {
   "cell_type": "code",
   "execution_count": null,
   "id": "a26b795b",
   "metadata": {},
   "outputs": [],
   "source": [
    "import moviepy\n",
    "import os\n",
    "import glob\n",
    "import moviepy.editor \n",
    "from tqdm import tqdm\n",
    "\n",
    "pathdir = \"../dataset/violence\"\n",
    "\n",
    "# Get a list of all the files with .mp4 extension in pathdir folder.\n",
    "\n",
    "mkv_filenames_list = glob.glob(os.path.join(pathdir, \"*.mp4\"))\n",
    "\n",
    "#444 mp4\n",
    "for filename in tqdm(mkv_filenames_list):\n",
    "    print(filename)\n",
    "        \n",
    "    video = moviepy.editor.VideoFileClip(filename)\n",
    "    audio = video.audio\n",
    "\n",
    "    # Some of my mp4 files can be without audio (just in case).\n",
    "    if audio is not None:\n",
    "        mov_file_name = filename.replace('.mp4', '.mp3')  # Replace .mp4 with .mp3\n",
    "        audio.write_audiofile(mov_file_name)\n",
    "else:\n",
    "    print(\"Finished conversion\")"
   ]
  },
  {
   "cell_type": "markdown",
   "id": "2788a2d0",
   "metadata": {},
   "source": [
    "Apagar todos os ficheiros MOV e MP4 de não violência"
   ]
  },
  {
   "cell_type": "code",
   "execution_count": 1,
   "id": "d964f067",
   "metadata": {},
   "outputs": [],
   "source": [
    "import sys\n",
    "import os\n",
    "\n",
    "directory = \"../dataset/nonviolence/\"\n",
    "test = os.listdir( directory )\n",
    "\n",
    "for item in test:\n",
    "    if item.endswith(\".MOV\"):\n",
    "        os.remove( os.path.join( directory, item ) )"
   ]
  },
  {
   "cell_type": "code",
   "execution_count": 2,
   "id": "70aa1a45",
   "metadata": {},
   "outputs": [],
   "source": [
    "import sys\n",
    "import os\n",
    "\n",
    "directory = \"../dataset/nonviolence/\"\n",
    "test = os.listdir( directory )\n",
    "\n",
    "for item in test:\n",
    "    if item.endswith(\".mp4\"):\n",
    "        os.remove( os.path.join( directory, item ) )"
   ]
  },
  {
   "cell_type": "markdown",
   "id": "4f0bba14",
   "metadata": {},
   "source": [
    "494 nonviolence"
   ]
  },
  {
   "cell_type": "code",
   "execution_count": 3,
   "id": "b0f1a71d",
   "metadata": {},
   "outputs": [
    {
     "data": {
      "text/plain": [
       "494"
      ]
     },
     "execution_count": 3,
     "metadata": {},
     "output_type": "execute_result"
    }
   ],
   "source": [
    "import os\n",
    "directory_path = '../dataset/nonviolence'\n",
    "No_of_files_nonviolence = len(os.listdir(directory_path))\n",
    "No_of_files_nonviolence"
   ]
  },
  {
   "cell_type": "markdown",
   "id": "94ab1881",
   "metadata": {},
   "source": [
    "Apagar todos os ficheiros MOV e MP4 de violência"
   ]
  },
  {
   "cell_type": "code",
   "execution_count": 4,
   "id": "ac1f94f9",
   "metadata": {},
   "outputs": [],
   "source": [
    "import sys\n",
    "import os\n",
    "\n",
    "directory = \"../dataset/violence/\"\n",
    "test = os.listdir( directory )\n",
    "\n",
    "for item in test:\n",
    "    if item.endswith(\".MOV\"):\n",
    "        os.remove( os.path.join( directory, item ) )"
   ]
  },
  {
   "cell_type": "code",
   "execution_count": 5,
   "id": "15291212",
   "metadata": {},
   "outputs": [],
   "source": [
    "import sys\n",
    "import os\n",
    "\n",
    "directory = \"../dataset/violence/\"\n",
    "test = os.listdir( directory )\n",
    "\n",
    "for item in test:\n",
    "    if item.endswith(\".mp4\"):\n",
    "        os.remove( os.path.join( directory, item ) )"
   ]
  },
  {
   "cell_type": "markdown",
   "id": "a9418964",
   "metadata": {},
   "source": [
    "795 violence"
   ]
  },
  {
   "cell_type": "code",
   "execution_count": 6,
   "id": "5755c100",
   "metadata": {},
   "outputs": [
    {
     "data": {
      "text/plain": [
       "795"
      ]
     },
     "execution_count": 6,
     "metadata": {},
     "output_type": "execute_result"
    }
   ],
   "source": [
    "import os\n",
    "directory_path = '../dataset/violence'\n",
    "No_of_files_violence = len(os.listdir(directory_path))\n",
    "No_of_files_violence"
   ]
  },
  {
   "cell_type": "markdown",
   "id": "9d035461",
   "metadata": {},
   "source": [
    "Caso tenha dividido errado, voltar a criar o mp3"
   ]
  },
  {
   "cell_type": "code",
   "execution_count": 2,
   "id": "a3b3eb23",
   "metadata": {},
   "outputs": [
    {
     "name": "stderr",
     "output_type": "stream",
     "text": [
      "\r",
      "  0%|                                                                                            | 0/1 [00:00<?, ?it/s]"
     ]
    },
    {
     "name": "stdout",
     "output_type": "stream",
     "text": [
      "../dataset/fix\\20210427_095231.mp4\n"
     ]
    },
    {
     "name": "stderr",
     "output_type": "stream",
     "text": [
      "  0%|                                                                                            | 0/1 [00:02<?, ?it/s]"
     ]
    },
    {
     "name": "stdout",
     "output_type": "stream",
     "text": [
      "MoviePy - Writing audio in ../dataset/fix\\20210427_095231.mp3\n"
     ]
    },
    {
     "name": "stderr",
     "output_type": "stream",
     "text": [
      "\n",
      "chunk:   0%|                                                                         | 0/737 [00:00<?, ?it/s, now=None]\u001b[A\n",
      "chunk:   0%|▎                                                                | 3/737 [00:00<02:36,  4.70it/s, now=None]\u001b[A\n",
      "chunk:  20%|████████████▎                                                 | 146/737 [00:00<00:02, 265.38it/s, now=None]\u001b[A\n",
      "chunk:  35%|█████████████████████▌                                        | 256/737 [00:00<00:01, 438.26it/s, now=None]\u001b[A\n",
      "chunk:  50%|██████████████████████████████▊                               | 367/737 [00:00<00:00, 591.62it/s, now=None]\u001b[A\n",
      "chunk:  65%|████████████████████████████████████████▍                     | 481/737 [00:01<00:00, 726.46it/s, now=None]\u001b[A\n",
      "chunk:  81%|██████████████████████████████████████████████████            | 595/737 [00:01<00:00, 833.93it/s, now=None]\u001b[A\n",
      "chunk:  97%|███████████████████████████████████████████████████████████▉  | 713/737 [00:01<00:00, 927.60it/s, now=None]\u001b[A\n",
      "100%|████████████████████████████████████████████████████████████████████████████████████| 1/1 [00:04<00:00,  4.02s/it]\u001b[A"
     ]
    },
    {
     "name": "stdout",
     "output_type": "stream",
     "text": [
      "MoviePy - Done.\n",
      "Finished conversion\n"
     ]
    },
    {
     "name": "stderr",
     "output_type": "stream",
     "text": [
      "\n"
     ]
    }
   ],
   "source": [
    "import moviepy\n",
    "import os\n",
    "import glob\n",
    "import moviepy.editor \n",
    "from tqdm import tqdm\n",
    "\n",
    "pathdir = \"../dataset/fix\"\n",
    "\n",
    "# Get a list of all the files with .mp4 extension in pathdir folder.\n",
    "\n",
    "mkv_filenames_list = glob.glob(os.path.join(pathdir, \"*.mp4\"))\n",
    "\n",
    "#444 mp4\n",
    "for filename in tqdm(mkv_filenames_list):\n",
    "    print(filename)\n",
    "        \n",
    "    video = moviepy.editor.VideoFileClip(filename)\n",
    "    audio = video.audio\n",
    "\n",
    "    # Some of my mp4 files can be without audio (just in case).\n",
    "    if audio is not None:\n",
    "        mov_file_name = filename.replace('.mp4', '.mp3')  # Replace .mp4 with .mp3\n",
    "        audio.write_audiofile(mov_file_name)\n",
    "else:\n",
    "    print(\"Finished conversion\")"
   ]
  },
  {
   "cell_type": "code",
   "execution_count": null,
   "id": "566e57c3",
   "metadata": {},
   "outputs": [],
   "source": []
  }
 ],
 "metadata": {
  "kernelspec": {
   "display_name": "Python 3 (ipykernel)",
   "language": "python",
   "name": "python3"
  },
  "language_info": {
   "codemirror_mode": {
    "name": "ipython",
    "version": 3
   },
   "file_extension": ".py",
   "mimetype": "text/x-python",
   "name": "python",
   "nbconvert_exporter": "python",
   "pygments_lexer": "ipython3",
   "version": "3.9.7"
  }
 },
 "nbformat": 4,
 "nbformat_minor": 5
}
