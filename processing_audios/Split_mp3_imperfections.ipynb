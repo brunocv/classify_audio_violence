{
 "cells": [
  {
   "cell_type": "code",
   "execution_count": 1,
   "id": "60c26a35",
   "metadata": {},
   "outputs": [],
   "source": [
    "from pydub import AudioSegment"
   ]
  },
  {
   "cell_type": "markdown",
   "id": "7a113df9",
   "metadata": {},
   "source": [
    "# Split mp3 nonviolence"
   ]
  },
  {
   "cell_type": "code",
   "execution_count": 2,
   "id": "c3da01c8",
   "metadata": {},
   "outputs": [],
   "source": [
    "def split_nonviolence(file, time):\n",
    "    sound = AudioSegment.from_mp3(\"../dataset/nonviolence/\"+ str(file) + \".mp3\")\n",
    "\n",
    "    # pydub does things in milliseconds\n",
    "    seconds = time * 1000\n",
    "\n",
    "    first_half = sound[:seconds]\n",
    "    second_half = sound[seconds:]\n",
    "\n",
    "    first_half.export(\"../dataset/nonviolence/\" + str(file) + \".mp3\", format=\"mp3\")\n",
    "    second_half.export(\"../dataset/remover/\"+ str(file) + \".mp3\", format=\"mp3\")"
   ]
  },
  {
   "cell_type": "code",
   "execution_count": 3,
   "id": "e27cdc6e",
   "metadata": {},
   "outputs": [],
   "source": [
    "split_nonviolence(1,19)"
   ]
  },
  {
   "cell_type": "code",
   "execution_count": 4,
   "id": "6ebeaaa1",
   "metadata": {},
   "outputs": [],
   "source": [
    "split_nonviolence(31,18)\n",
    "split_nonviolence(32,19)\n",
    "split_nonviolence(33,19)\n",
    "split_nonviolence(34,18)"
   ]
  },
  {
   "cell_type": "code",
   "execution_count": 3,
   "id": "713e2ffc",
   "metadata": {},
   "outputs": [],
   "source": [
    "split_nonviolence(70,20)"
   ]
  },
  {
   "cell_type": "code",
   "execution_count": 4,
   "id": "55096b28",
   "metadata": {},
   "outputs": [],
   "source": [
    "split_nonviolence(78,21)\n",
    "split_nonviolence(80,23)\n",
    "split_nonviolence(90,19)\n",
    "split_nonviolence(93,25)"
   ]
  },
  {
   "cell_type": "code",
   "execution_count": 5,
   "id": "eaf035d3",
   "metadata": {},
   "outputs": [],
   "source": [
    "split_nonviolence(106,22)\n",
    "split_nonviolence(113,22)\n",
    "split_nonviolence(118,25)\n",
    "split_nonviolence(132,25)\n",
    "split_nonviolence(133,25)\n",
    "split_nonviolence(139,22)\n",
    "split_nonviolence(140,22)\n",
    "split_nonviolence(158,24)\n",
    "split_nonviolence(159,23)\n",
    "split_nonviolence(171,21)"
   ]
  },
  {
   "cell_type": "code",
   "execution_count": 6,
   "id": "4993a0a2",
   "metadata": {},
   "outputs": [],
   "source": [
    "split_nonviolence(\"171_2\",19)"
   ]
  },
  {
   "cell_type": "code",
   "execution_count": 3,
   "id": "973aebae",
   "metadata": {},
   "outputs": [],
   "source": [
    "split_nonviolence(\"173_2\",15)\n",
    "split_nonviolence(\"180_2\",15)\n",
    "split_nonviolence(186,21)\n",
    "split_nonviolence(192,21)\n",
    "split_nonviolence(\"203_2\",9)\n",
    "split_nonviolence(\"206_2\",11)\n",
    "split_nonviolence(\"207_2\",11)\n",
    "split_nonviolence(\"208_2\",13)\n",
    "split_nonviolence(\"209_2\",13)\n",
    "split_nonviolence(\"218_2\",10)\n",
    "split_nonviolence(\"220_2\",10)\n",
    "split_nonviolence(\"223_2\",13)\n",
    "split_nonviolence(\"228_2\",10)\n",
    "split_nonviolence(\"239_2\",14)\n",
    "split_nonviolence(\"242_2\",9)\n",
    "split_nonviolence(\"250_2\",10)\n",
    "split_nonviolence(\"251_2\",9)\n",
    "split_nonviolence(\"253_2\",12)\n",
    "split_nonviolence(\"255_2\",10)\n",
    "split_nonviolence(\"256_2\",13)\n",
    "split_nonviolence(\"298_2\",9)"
   ]
  },
  {
   "cell_type": "code",
   "execution_count": 4,
   "id": "a8016758",
   "metadata": {},
   "outputs": [],
   "source": [
    "split_nonviolence(\"315_2\",15)\n",
    "split_nonviolence(\"318_2\",13)\n",
    "split_nonviolence(\"320_2\",13)\n",
    "split_nonviolence(\"359_2\",8)\n",
    "split_nonviolence(398,24)"
   ]
  },
  {
   "cell_type": "code",
   "execution_count": 3,
   "id": "93cdce09",
   "metadata": {},
   "outputs": [],
   "source": [
    "split_nonviolence(401,21)\n",
    "split_nonviolence(405,24)\n",
    "split_nonviolence(457,20)\n",
    "split_nonviolence(462,15)"
   ]
  },
  {
   "cell_type": "code",
   "execution_count": 4,
   "id": "75492856",
   "metadata": {},
   "outputs": [],
   "source": [
    "split_nonviolence(\"502_2\",5)\n",
    "split_nonviolence(\"505_2\",13)\n",
    "split_nonviolence(\"506_2\",10)\n",
    "split_nonviolence(\"510_2\",14)\n",
    "split_nonviolence(\"511_2\",13)\n",
    "split_nonviolence(\"512_2\",4)\n",
    "split_nonviolence(\"513_2\",10)\n",
    "split_nonviolence(\"515_2\",13)\n",
    "split_nonviolence(\"524_2\",8)\n",
    "split_nonviolence(\"529_2\",14)\n",
    "split_nonviolence(\"530_2\",6)\n",
    "split_nonviolence(\"549_2\",9)"
   ]
  },
  {
   "cell_type": "code",
   "execution_count": 5,
   "id": "cbee3483",
   "metadata": {},
   "outputs": [],
   "source": [
    "split_nonviolence(\"609_2\",11)\n",
    "split_nonviolence(\"611_2\",11)\n",
    "split_nonviolence(\"613_2\",11)\n",
    "split_nonviolence(\"622_2\",14)\n",
    "split_nonviolence(\"627_2\",14)\n",
    "split_nonviolence(\"628_2\",14)\n",
    "split_nonviolence(\"629_2\",10)\n",
    "split_nonviolence(\"632_2\",13)\n",
    "split_nonviolence(\"647_2\",13)\n",
    "split_nonviolence(\"651_2\",15)\n",
    "split_nonviolence(\"652_2\",12)\n",
    "split_nonviolence(\"661_2\",12)\n",
    "split_nonviolence(\"663_2\",16)\n",
    "split_nonviolence(\"664_2\",14)\n",
    "split_nonviolence(\"673_2\",13)\n",
    "split_nonviolence(\"676_2\",14)"
   ]
  },
  {
   "cell_type": "code",
   "execution_count": 6,
   "id": "6708ae3f",
   "metadata": {},
   "outputs": [],
   "source": [
    "split_nonviolence(\"710_2\",10)\n",
    "split_nonviolence(\"712_2\",15)\n",
    "split_nonviolence(\"724_2\",8)\n",
    "split_nonviolence(\"774_2\",8)"
   ]
  }
 ],
 "metadata": {
  "kernelspec": {
   "display_name": "Python 3 (ipykernel)",
   "language": "python",
   "name": "python3"
  },
  "language_info": {
   "codemirror_mode": {
    "name": "ipython",
    "version": 3
   },
   "file_extension": ".py",
   "mimetype": "text/x-python",
   "name": "python",
   "nbconvert_exporter": "python",
   "pygments_lexer": "ipython3",
   "version": "3.9.7"
  }
 },
 "nbformat": 4,
 "nbformat_minor": 5
}
