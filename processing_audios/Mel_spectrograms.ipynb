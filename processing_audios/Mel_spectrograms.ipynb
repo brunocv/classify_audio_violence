{
 "cells": [
  {
   "cell_type": "code",
   "execution_count": null,
   "id": "f3ed954f",
   "metadata": {},
   "outputs": [],
   "source": [
    "import librosa\n",
    "import librosa.display\n",
    "import IPython.display as ipd\n",
    "import numpy as np\n",
    "import matplotlib.pyplot as plt"
   ]
  },
  {
   "cell_type": "code",
   "execution_count": null,
   "id": "e727f9d1",
   "metadata": {},
   "outputs": [],
   "source": [
    "import os\n",
    " \n",
    "# Function to rename multiple files\n",
    "def main():\n",
    "   \n",
    "    folder = \"../dataset_islab_v3/nonviolence\"\n",
    "    for count, filename in enumerate(os.listdir(folder)):\n",
    "        file = filename\n",
    "        file = file.split(\".\")[-1]\n",
    "        \n",
    "        if file == \"mp3\":\n",
    "            dst = f\"{str(count)}.wav\"\n",
    "        else:\n",
    "            dst = f\"{str(count)}.wav\"\n",
    "            \n",
    "        src =f\"{folder}/{filename}\"  # foldername/filename, if .py file is outside folder\n",
    "        dst =f\"{folder}/{dst}\"\n",
    "         \n",
    "        # rename() function will\n",
    "        # rename all the files\n",
    "        os.rename(src, dst)\n",
    " \n",
    "# Driver Code\n",
    "if __name__ == '__main__':\n",
    "     \n",
    "    # Calling main() function\n",
    "    main()"
   ]
  },
  {
   "cell_type": "code",
   "execution_count": null,
   "id": "459e7deb",
   "metadata": {},
   "outputs": [],
   "source": [
    "import os\n",
    " \n",
    "# Function to rename multiple files\n",
    "def main():\n",
    "   \n",
    "    folder = \"../dataset_islab_v3/violence\"\n",
    "    for count, filename in enumerate(os.listdir(folder)):\n",
    "        file = filename\n",
    "        file = file.split(\".\")[-1]\n",
    "        \n",
    "        if file == \"mp3\":\n",
    "            dst = f\"{str(count)}.wav\"\n",
    "        else:\n",
    "            dst = f\"{str(count)}.wav\"\n",
    "            \n",
    "        src =f\"{folder}/{filename}\"  # foldername/filename, if .py file is outside folder\n",
    "        dst =f\"{folder}/{dst}\"\n",
    "         \n",
    "        # rename() function will\n",
    "        # rename all the files\n",
    "        os.rename(src, dst)\n",
    " \n",
    "# Driver Code\n",
    "if __name__ == '__main__':\n",
    "     \n",
    "    # Calling main() function\n",
    "    main()"
   ]
  },
  {
   "cell_type": "code",
   "execution_count": null,
   "id": "cb515702",
   "metadata": {},
   "outputs": [],
   "source": [
    "n_fft = 2048\n",
    "hop_length = 512\n",
    "n_mels = 128\n",
    "save_results_to = '../dataset_mel_fixed/nonviolence/'\n",
    "\n",
    "for i in range(860):\n",
    "\n",
    "    scale_file = \"../dataset_islab_v3/nonviolence/\"+ str(i)+ \".wav\"\n",
    "    y, sr = librosa.load(scale_file)\n",
    "\n",
    "\n",
    "    S = librosa.feature.melspectrogram(y, sr=sr, n_fft=n_fft, hop_length=hop_length, n_mels=n_mels)\n",
    "    S_DB = librosa.power_to_db(S, ref=np.max)\n",
    "    librosa.display.specshow(S_DB, sr=sr, hop_length=hop_length, x_axis='time', y_axis='mel');\n",
    "    #plt.show()\n",
    "\n",
    "    plt.savefig(save_results_to + str(i) + '.png')\n",
    "    plt.clf()"
   ]
  },
  {
   "cell_type": "code",
   "execution_count": null,
   "id": "936426fb",
   "metadata": {},
   "outputs": [],
   "source": [
    "n_fft = 2048\n",
    "hop_length = 512\n",
    "n_mels = 128\n",
    "save_results_to = '../dataset_mel_fixed/violence/'\n",
    "\n",
    "for i in range(860):\n",
    "\n",
    "    scale_file = \"../dataset_islab_v3/violence/\"+ str(i)+ \".wav\"\n",
    "    y, sr = librosa.load(scale_file)\n",
    "\n",
    "\n",
    "    S = librosa.feature.melspectrogram(y, sr=sr, n_fft=n_fft, hop_length=hop_length, n_mels=n_mels)\n",
    "    S_DB = librosa.power_to_db(S, ref=np.max)\n",
    "    librosa.display.specshow(S_DB, sr=sr, hop_length=hop_length, x_axis='time', y_axis='mel');\n",
    "    #plt.show() 152 erro\n",
    "\n",
    "    plt.savefig(save_results_to + str(i) + '.png')\n",
    "    plt.clf()"
   ]
  }
 ],
 "metadata": {
  "kernelspec": {
   "display_name": "Python 3 (ipykernel)",
   "language": "python",
   "name": "python3"
  },
  "language_info": {
   "codemirror_mode": {
    "name": "ipython",
    "version": 3
   },
   "file_extension": ".py",
   "mimetype": "text/x-python",
   "name": "python",
   "nbconvert_exporter": "python",
   "pygments_lexer": "ipython3",
   "version": "3.9.7"
  }
 },
 "nbformat": 4,
 "nbformat_minor": 5
}
