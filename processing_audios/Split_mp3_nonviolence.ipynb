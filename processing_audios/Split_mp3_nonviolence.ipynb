{
 "cells": [
  {
   "cell_type": "code",
   "execution_count": 1,
   "id": "60c26a35",
   "metadata": {},
   "outputs": [],
   "source": [
    "from pydub import AudioSegment"
   ]
  },
  {
   "cell_type": "markdown",
   "id": "7a113df9",
   "metadata": {},
   "source": [
    "# Split mp3 non violence"
   ]
  },
  {
   "cell_type": "markdown",
   "id": "e98a23ce",
   "metadata": {},
   "source": [
    "Vídeos nonviolence (grandes 40s+):\n",
    "- 66 grande\n",
    "- 67 grande\n",
    "- 86 grande\n",
    "- 88 grande\n",
    "- 89 grande\n",
    "- 94 grande\n",
    "- 98 grande\n",
    "- 100 grande\n",
    "- 102 grande\n",
    "- 103 grande\n",
    "- 104 grande\n",
    "- 115 grande\n",
    "- 118 grande\n",
    "- 122 grande\n",
    "- 134 grande\n",
    "- 171 grande\n",
    "- 181 grande\n",
    "- 186 grande\n",
    "- 377 grande\n",
    "- 379 grande\n",
    "- 407 grande\n",
    "- 425 grande"
   ]
  },
  {
   "cell_type": "code",
   "execution_count": 2,
   "id": "029776aa",
   "metadata": {},
   "outputs": [
    {
     "data": {
      "text/plain": [
       "<_io.BufferedRandom name='../dataset/nonviolence/66_1.mp3'>"
      ]
     },
     "execution_count": 2,
     "metadata": {},
     "output_type": "execute_result"
    }
   ],
   "source": [
    "sound = AudioSegment.from_mp3(\"../dataset/nonviolence/66.mp3\")\n",
    "\n",
    "halfway_point = len(sound) / 2\n",
    "first_half = sound[:halfway_point]\n",
    "second_half = sound[halfway_point:]\n",
    "\n",
    "first_half.export(\"../dataset/nonviolence/66.mp3\", format=\"mp3\")\n",
    "second_half.export(\"../dataset/nonviolence/66_1.mp3\", format=\"mp3\")"
   ]
  },
  {
   "cell_type": "code",
   "execution_count": 5,
   "id": "9b068f5a",
   "metadata": {},
   "outputs": [
    {
     "data": {
      "text/plain": [
       "<_io.BufferedRandom name='../dataset/nonviolence/67_1.mp3'>"
      ]
     },
     "execution_count": 5,
     "metadata": {},
     "output_type": "execute_result"
    }
   ],
   "source": [
    "sound = AudioSegment.from_mp3(\"../dataset/nonviolence/67.mp3\")\n",
    "\n",
    "halfway_point = len(sound) / 2\n",
    "first_half = sound[:halfway_point]\n",
    "second_half = sound[halfway_point:]\n",
    "\n",
    "first_half.export(\"../dataset/nonviolence/67.mp3\", format=\"mp3\")\n",
    "second_half.export(\"../dataset/nonviolence/67_1.mp3\", format=\"mp3\")"
   ]
  },
  {
   "cell_type": "code",
   "execution_count": 6,
   "id": "76dd02a5",
   "metadata": {},
   "outputs": [
    {
     "data": {
      "text/plain": [
       "<_io.BufferedRandom name='../dataset/nonviolence/86_1.mp3'>"
      ]
     },
     "execution_count": 6,
     "metadata": {},
     "output_type": "execute_result"
    }
   ],
   "source": [
    "sound = AudioSegment.from_mp3(\"../dataset/nonviolence/86.mp3\")\n",
    "\n",
    "halfway_point = len(sound) / 2\n",
    "first_half = sound[:halfway_point]\n",
    "second_half = sound[halfway_point:]\n",
    "\n",
    "first_half.export(\"../dataset/nonviolence/86.mp3\", format=\"mp3\")\n",
    "second_half.export(\"../dataset/nonviolence/86_1.mp3\", format=\"mp3\")"
   ]
  },
  {
   "cell_type": "code",
   "execution_count": 7,
   "id": "1189f159",
   "metadata": {},
   "outputs": [
    {
     "data": {
      "text/plain": [
       "<_io.BufferedRandom name='../dataset/nonviolence/88_1.mp3'>"
      ]
     },
     "execution_count": 7,
     "metadata": {},
     "output_type": "execute_result"
    }
   ],
   "source": [
    "sound = AudioSegment.from_mp3(\"../dataset/nonviolence/88.mp3\")\n",
    "\n",
    "halfway_point = len(sound) / 2\n",
    "first_half = sound[:halfway_point]\n",
    "second_half = sound[halfway_point:]\n",
    "\n",
    "first_half.export(\"../dataset/nonviolence/88.mp3\", format=\"mp3\")\n",
    "second_half.export(\"../dataset/nonviolence/88_1.mp3\", format=\"mp3\")"
   ]
  },
  {
   "cell_type": "code",
   "execution_count": 8,
   "id": "2492f2ee",
   "metadata": {},
   "outputs": [
    {
     "data": {
      "text/plain": [
       "<_io.BufferedRandom name='../dataset/nonviolence/89_1.mp3'>"
      ]
     },
     "execution_count": 8,
     "metadata": {},
     "output_type": "execute_result"
    }
   ],
   "source": [
    "sound = AudioSegment.from_mp3(\"../dataset/nonviolence/89.mp3\")\n",
    "\n",
    "halfway_point = len(sound) / 2\n",
    "first_half = sound[:halfway_point]\n",
    "second_half = sound[halfway_point:]\n",
    "\n",
    "first_half.export(\"../dataset/nonviolence/89.mp3\", format=\"mp3\")\n",
    "second_half.export(\"../dataset/nonviolence/89_1.mp3\", format=\"mp3\")"
   ]
  },
  {
   "cell_type": "code",
   "execution_count": 9,
   "id": "21d4df22",
   "metadata": {},
   "outputs": [
    {
     "data": {
      "text/plain": [
       "<_io.BufferedRandom name='../dataset/nonviolence/94_1.mp3'>"
      ]
     },
     "execution_count": 9,
     "metadata": {},
     "output_type": "execute_result"
    }
   ],
   "source": [
    "sound = AudioSegment.from_mp3(\"../dataset/nonviolence/94.mp3\")\n",
    "\n",
    "halfway_point = len(sound) / 2\n",
    "first_half = sound[:halfway_point]\n",
    "second_half = sound[halfway_point:]\n",
    "\n",
    "first_half.export(\"../dataset/nonviolence/94.mp3\", format=\"mp3\")\n",
    "second_half.export(\"../dataset/nonviolence/94_1.mp3\", format=\"mp3\")"
   ]
  },
  {
   "cell_type": "code",
   "execution_count": 10,
   "id": "ea7d1535",
   "metadata": {},
   "outputs": [
    {
     "data": {
      "text/plain": [
       "<_io.BufferedRandom name='../dataset/nonviolence/98_1.mp3'>"
      ]
     },
     "execution_count": 10,
     "metadata": {},
     "output_type": "execute_result"
    }
   ],
   "source": [
    "sound = AudioSegment.from_mp3(\"../dataset/nonviolence/98.mp3\")\n",
    "\n",
    "halfway_point = len(sound) / 2\n",
    "first_half = sound[:halfway_point]\n",
    "second_half = sound[halfway_point:]\n",
    "\n",
    "first_half.export(\"../dataset/nonviolence/98.mp3\", format=\"mp3\")\n",
    "second_half.export(\"../dataset/nonviolence/98_1.mp3\", format=\"mp3\")"
   ]
  },
  {
   "cell_type": "code",
   "execution_count": 11,
   "id": "3d3eca1f",
   "metadata": {},
   "outputs": [
    {
     "data": {
      "text/plain": [
       "<_io.BufferedRandom name='../dataset/nonviolence/100_1.mp3'>"
      ]
     },
     "execution_count": 11,
     "metadata": {},
     "output_type": "execute_result"
    }
   ],
   "source": [
    "sound = AudioSegment.from_mp3(\"../dataset/nonviolence/100.mp3\")\n",
    "\n",
    "halfway_point = len(sound) / 2\n",
    "first_half = sound[:halfway_point]\n",
    "second_half = sound[halfway_point:]\n",
    "\n",
    "first_half.export(\"../dataset/nonviolence/100.mp3\", format=\"mp3\")\n",
    "second_half.export(\"../dataset/nonviolence/100_1.mp3\", format=\"mp3\")"
   ]
  },
  {
   "cell_type": "code",
   "execution_count": 12,
   "id": "cadf21ae",
   "metadata": {},
   "outputs": [
    {
     "data": {
      "text/plain": [
       "<_io.BufferedRandom name='../dataset/nonviolence/102_1.mp3'>"
      ]
     },
     "execution_count": 12,
     "metadata": {},
     "output_type": "execute_result"
    }
   ],
   "source": [
    "sound = AudioSegment.from_mp3(\"../dataset/nonviolence/102.mp3\")\n",
    "\n",
    "halfway_point = len(sound) / 2\n",
    "first_half = sound[:halfway_point]\n",
    "second_half = sound[halfway_point:]\n",
    "\n",
    "first_half.export(\"../dataset/nonviolence/102.mp3\", format=\"mp3\")\n",
    "second_half.export(\"../dataset/nonviolence/102_1.mp3\", format=\"mp3\")"
   ]
  },
  {
   "cell_type": "code",
   "execution_count": 13,
   "id": "cf1a0904",
   "metadata": {},
   "outputs": [
    {
     "data": {
      "text/plain": [
       "<_io.BufferedRandom name='../dataset/nonviolence/103_1.mp3'>"
      ]
     },
     "execution_count": 13,
     "metadata": {},
     "output_type": "execute_result"
    }
   ],
   "source": [
    "sound = AudioSegment.from_mp3(\"../dataset/nonviolence/103.mp3\")\n",
    "\n",
    "halfway_point = len(sound) / 2\n",
    "first_half = sound[:halfway_point]\n",
    "second_half = sound[halfway_point:]\n",
    "\n",
    "first_half.export(\"../dataset/nonviolence/103.mp3\", format=\"mp3\")\n",
    "second_half.export(\"../dataset/nonviolence/103_1.mp3\", format=\"mp3\")"
   ]
  },
  {
   "cell_type": "code",
   "execution_count": 14,
   "id": "3558589d",
   "metadata": {},
   "outputs": [
    {
     "data": {
      "text/plain": [
       "<_io.BufferedRandom name='../dataset/nonviolence/104_1.mp3'>"
      ]
     },
     "execution_count": 14,
     "metadata": {},
     "output_type": "execute_result"
    }
   ],
   "source": [
    "sound = AudioSegment.from_mp3(\"../dataset/nonviolence/104.mp3\")\n",
    "\n",
    "halfway_point = len(sound) / 2\n",
    "first_half = sound[:halfway_point]\n",
    "second_half = sound[halfway_point:]\n",
    "\n",
    "first_half.export(\"../dataset/nonviolence/104.mp3\", format=\"mp3\")\n",
    "second_half.export(\"../dataset/nonviolence/104_1.mp3\", format=\"mp3\")"
   ]
  },
  {
   "cell_type": "code",
   "execution_count": 15,
   "id": "92667292",
   "metadata": {},
   "outputs": [
    {
     "data": {
      "text/plain": [
       "<_io.BufferedRandom name='../dataset/nonviolence/115_1.mp3'>"
      ]
     },
     "execution_count": 15,
     "metadata": {},
     "output_type": "execute_result"
    }
   ],
   "source": [
    "sound = AudioSegment.from_mp3(\"../dataset/nonviolence/115.mp3\")\n",
    "\n",
    "halfway_point = len(sound) / 2\n",
    "first_half = sound[:halfway_point]\n",
    "second_half = sound[halfway_point:]\n",
    "\n",
    "first_half.export(\"../dataset/nonviolence/115.mp3\", format=\"mp3\")\n",
    "second_half.export(\"../dataset/nonviolence/115_1.mp3\", format=\"mp3\")"
   ]
  },
  {
   "cell_type": "code",
   "execution_count": 16,
   "id": "7d031427",
   "metadata": {},
   "outputs": [
    {
     "data": {
      "text/plain": [
       "<_io.BufferedRandom name='../dataset/nonviolence/118_1.mp3'>"
      ]
     },
     "execution_count": 16,
     "metadata": {},
     "output_type": "execute_result"
    }
   ],
   "source": [
    "sound = AudioSegment.from_mp3(\"../dataset/nonviolence/118.mp3\")\n",
    "\n",
    "halfway_point = len(sound) / 2\n",
    "first_half = sound[:halfway_point]\n",
    "second_half = sound[halfway_point:]\n",
    "\n",
    "first_half.export(\"../dataset/nonviolence/118.mp3\", format=\"mp3\")\n",
    "second_half.export(\"../dataset/nonviolence/118_1.mp3\", format=\"mp3\")"
   ]
  },
  {
   "cell_type": "code",
   "execution_count": 17,
   "id": "1fc99f26",
   "metadata": {},
   "outputs": [
    {
     "data": {
      "text/plain": [
       "<_io.BufferedRandom name='../dataset/nonviolence/122_1.mp3'>"
      ]
     },
     "execution_count": 17,
     "metadata": {},
     "output_type": "execute_result"
    }
   ],
   "source": [
    "sound = AudioSegment.from_mp3(\"../dataset/nonviolence/122.mp3\")\n",
    "\n",
    "halfway_point = len(sound) / 2\n",
    "first_half = sound[:halfway_point]\n",
    "second_half = sound[halfway_point:]\n",
    "\n",
    "first_half.export(\"../dataset/nonviolence/122.mp3\", format=\"mp3\")\n",
    "second_half.export(\"../dataset/nonviolence/122_1.mp3\", format=\"mp3\")"
   ]
  },
  {
   "cell_type": "code",
   "execution_count": 18,
   "id": "65ebb70c",
   "metadata": {},
   "outputs": [
    {
     "data": {
      "text/plain": [
       "<_io.BufferedRandom name='../dataset/nonviolence/134_1.mp3'>"
      ]
     },
     "execution_count": 18,
     "metadata": {},
     "output_type": "execute_result"
    }
   ],
   "source": [
    "sound = AudioSegment.from_mp3(\"../dataset/nonviolence/134.mp3\")\n",
    "\n",
    "halfway_point = len(sound) / 2\n",
    "first_half = sound[:halfway_point]\n",
    "second_half = sound[halfway_point:]\n",
    "\n",
    "first_half.export(\"../dataset/nonviolence/134.mp3\", format=\"mp3\")\n",
    "second_half.export(\"../dataset/nonviolence/134_1.mp3\", format=\"mp3\")"
   ]
  },
  {
   "cell_type": "code",
   "execution_count": 19,
   "id": "f09a15f2",
   "metadata": {},
   "outputs": [
    {
     "data": {
      "text/plain": [
       "<_io.BufferedRandom name='../dataset/nonviolence/171_1.mp3'>"
      ]
     },
     "execution_count": 19,
     "metadata": {},
     "output_type": "execute_result"
    }
   ],
   "source": [
    "sound = AudioSegment.from_mp3(\"../dataset/nonviolence/171.mp3\")\n",
    "\n",
    "halfway_point = len(sound) / 2\n",
    "first_half = sound[:halfway_point]\n",
    "second_half = sound[halfway_point:]\n",
    "\n",
    "first_half.export(\"../dataset/nonviolence/171.mp3\", format=\"mp3\")\n",
    "second_half.export(\"../dataset/nonviolence/171_1.mp3\", format=\"mp3\")"
   ]
  },
  {
   "cell_type": "code",
   "execution_count": 20,
   "id": "340aa78e",
   "metadata": {},
   "outputs": [
    {
     "data": {
      "text/plain": [
       "<_io.BufferedRandom name='../dataset/nonviolence/186_1.mp3'>"
      ]
     },
     "execution_count": 20,
     "metadata": {},
     "output_type": "execute_result"
    }
   ],
   "source": [
    "sound = AudioSegment.from_mp3(\"../dataset/nonviolence/186.mp3\")\n",
    "\n",
    "halfway_point = len(sound) / 2\n",
    "first_half = sound[:halfway_point]\n",
    "second_half = sound[halfway_point:]\n",
    "\n",
    "first_half.export(\"../dataset/nonviolence/186.mp3\", format=\"mp3\")\n",
    "second_half.export(\"../dataset/nonviolence/186_1.mp3\", format=\"mp3\")"
   ]
  },
  {
   "cell_type": "code",
   "execution_count": 21,
   "id": "88f98eb1",
   "metadata": {},
   "outputs": [
    {
     "data": {
      "text/plain": [
       "<_io.BufferedRandom name='../dataset/nonviolence/377_1.mp3'>"
      ]
     },
     "execution_count": 21,
     "metadata": {},
     "output_type": "execute_result"
    }
   ],
   "source": [
    "sound = AudioSegment.from_mp3(\"../dataset/nonviolence/377.mp3\")\n",
    "\n",
    "halfway_point = len(sound) / 2\n",
    "first_half = sound[:halfway_point]\n",
    "second_half = sound[halfway_point:]\n",
    "\n",
    "first_half.export(\"../dataset/nonviolence/377.mp3\", format=\"mp3\")\n",
    "second_half.export(\"../dataset/nonviolence/377_1.mp3\", format=\"mp3\")"
   ]
  },
  {
   "cell_type": "code",
   "execution_count": 22,
   "id": "b971dc78",
   "metadata": {},
   "outputs": [
    {
     "data": {
      "text/plain": [
       "<_io.BufferedRandom name='../dataset/nonviolence/379_1.mp3'>"
      ]
     },
     "execution_count": 22,
     "metadata": {},
     "output_type": "execute_result"
    }
   ],
   "source": [
    "sound = AudioSegment.from_mp3(\"../dataset/nonviolence/379.mp3\")\n",
    "\n",
    "halfway_point = len(sound) / 2\n",
    "first_half = sound[:halfway_point]\n",
    "second_half = sound[halfway_point:]\n",
    "\n",
    "first_half.export(\"../dataset/nonviolence/379.mp3\", format=\"mp3\")\n",
    "second_half.export(\"../dataset/nonviolence/379_1.mp3\", format=\"mp3\")"
   ]
  },
  {
   "cell_type": "code",
   "execution_count": 23,
   "id": "1ec31129",
   "metadata": {},
   "outputs": [
    {
     "data": {
      "text/plain": [
       "<_io.BufferedRandom name='../dataset/nonviolence/407_1.mp3'>"
      ]
     },
     "execution_count": 23,
     "metadata": {},
     "output_type": "execute_result"
    }
   ],
   "source": [
    "sound = AudioSegment.from_mp3(\"../dataset/nonviolence/407.mp3\")\n",
    "\n",
    "halfway_point = len(sound) / 2\n",
    "first_half = sound[:halfway_point]\n",
    "second_half = sound[halfway_point:]\n",
    "\n",
    "first_half.export(\"../dataset/nonviolence/407.mp3\", format=\"mp3\")\n",
    "second_half.export(\"../dataset/nonviolence/407_1.mp3\", format=\"mp3\")"
   ]
  },
  {
   "cell_type": "code",
   "execution_count": 24,
   "id": "d458c7fc",
   "metadata": {},
   "outputs": [
    {
     "data": {
      "text/plain": [
       "<_io.BufferedRandom name='../dataset/nonviolence/425_1.mp3'>"
      ]
     },
     "execution_count": 24,
     "metadata": {},
     "output_type": "execute_result"
    }
   ],
   "source": [
    "sound = AudioSegment.from_mp3(\"../dataset/nonviolence/425.mp3\")\n",
    "\n",
    "halfway_point = len(sound) / 2\n",
    "first_half = sound[:halfway_point]\n",
    "second_half = sound[halfway_point:]\n",
    "\n",
    "first_half.export(\"../dataset/nonviolence/425.mp3\", format=\"mp3\")\n",
    "second_half.export(\"../dataset/nonviolence/425_1.mp3\", format=\"mp3\")"
   ]
  },
  {
   "cell_type": "code",
   "execution_count": null,
   "id": "9f150a86",
   "metadata": {},
   "outputs": [],
   "source": []
  }
 ],
 "metadata": {
  "kernelspec": {
   "display_name": "Python 3 (ipykernel)",
   "language": "python",
   "name": "python3"
  },
  "language_info": {
   "codemirror_mode": {
    "name": "ipython",
    "version": 3
   },
   "file_extension": ".py",
   "mimetype": "text/x-python",
   "name": "python",
   "nbconvert_exporter": "python",
   "pygments_lexer": "ipython3",
   "version": "3.9.7"
  }
 },
 "nbformat": 4,
 "nbformat_minor": 5
}
