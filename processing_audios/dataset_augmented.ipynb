{
 "cells": [
  {
   "cell_type": "code",
   "execution_count": 1,
   "id": "464e2d6b",
   "metadata": {},
   "outputs": [],
   "source": [
    "#test 172 each\n",
    "#train 688 each"
   ]
  },
  {
   "cell_type": "code",
   "execution_count": 12,
   "id": "8a3c16f8",
   "metadata": {},
   "outputs": [
    {
     "name": "stdout",
     "output_type": "stream",
     "text": [
      "Files and directories in a specified path:\n"
     ]
    }
   ],
   "source": [
    "import os\n",
    "from PIL import Image\n",
    "\n",
    "path_of_the_directory= '../dataset_mel_final_augmented/test/nonviolence'\n",
    "print(\"Files and directories in a specified path:\")\n",
    "for filename in os.listdir(path_of_the_directory):\n",
    "    f = os.path.join(path_of_the_directory,filename)\n",
    "    if os.path.isfile(f):\n",
    "        imageObject = Image.open(f)\n",
    "        new_image = imageObject.transpose(Image.FLIP_LEFT_RIGHT)\n",
    "        x = f.split('\\\\') # x[0] = diretoria x[1] = 10.png\n",
    "        y = x[1].split(\".\") #y[0] = 10\n",
    "        new_image.save(path_of_the_directory + \"/\" + y[0] + \"_flip.png\")"
   ]
  },
  {
   "cell_type": "code",
   "execution_count": 13,
   "id": "fe8cd924",
   "metadata": {},
   "outputs": [
    {
     "name": "stdout",
     "output_type": "stream",
     "text": [
      "Files and directories in a specified path:\n"
     ]
    }
   ],
   "source": [
    "import os\n",
    "from PIL import Image\n",
    "\n",
    "path_of_the_directory= '../dataset_mel_final_augmented/test/violence'\n",
    "print(\"Files and directories in a specified path:\")\n",
    "for filename in os.listdir(path_of_the_directory):\n",
    "    f = os.path.join(path_of_the_directory,filename)\n",
    "    if os.path.isfile(f):\n",
    "        imageObject = Image.open(f)\n",
    "        new_image = imageObject.transpose(Image.FLIP_LEFT_RIGHT)\n",
    "        x = f.split('\\\\') # x[0] = diretoria x[1] = 10.png\n",
    "        y = x[1].split(\".\") #y[0] = 10\n",
    "        new_image.save(path_of_the_directory + \"/\" + y[0] + \"_flip.png\")"
   ]
  },
  {
   "cell_type": "code",
   "execution_count": 14,
   "id": "a0058fe4",
   "metadata": {},
   "outputs": [
    {
     "name": "stdout",
     "output_type": "stream",
     "text": [
      "Files and directories in a specified path:\n"
     ]
    }
   ],
   "source": [
    "import os\n",
    "from PIL import Image\n",
    "\n",
    "path_of_the_directory= '../dataset_mel_final_augmented/train/nonviolence'\n",
    "print(\"Files and directories in a specified path:\")\n",
    "for filename in os.listdir(path_of_the_directory):\n",
    "    f = os.path.join(path_of_the_directory,filename)\n",
    "    if os.path.isfile(f):\n",
    "        imageObject = Image.open(f)\n",
    "        new_image = imageObject.transpose(Image.FLIP_LEFT_RIGHT)\n",
    "        x = f.split('\\\\') # x[0] = diretoria x[1] = 10.png\n",
    "        y = x[1].split(\".\") #y[0] = 10\n",
    "        new_image.save(path_of_the_directory + \"/\" + y[0] + \"_flip.png\")"
   ]
  },
  {
   "cell_type": "code",
   "execution_count": 15,
   "id": "c1783e7b",
   "metadata": {},
   "outputs": [
    {
     "name": "stdout",
     "output_type": "stream",
     "text": [
      "Files and directories in a specified path:\n"
     ]
    }
   ],
   "source": [
    "import os\n",
    "from PIL import Image\n",
    "\n",
    "path_of_the_directory= '../dataset_mel_final_augmented/train/violence'\n",
    "print(\"Files and directories in a specified path:\")\n",
    "for filename in os.listdir(path_of_the_directory):\n",
    "    f = os.path.join(path_of_the_directory,filename)\n",
    "    if os.path.isfile(f):\n",
    "        imageObject = Image.open(f)\n",
    "        new_image = imageObject.transpose(Image.FLIP_LEFT_RIGHT)\n",
    "        x = f.split('\\\\') # x[0] = diretoria x[1] = 10.png\n",
    "        y = x[1].split(\".\") #y[0] = 10\n",
    "        new_image.save(path_of_the_directory + \"/\" + y[0] + \"_flip.png\")"
   ]
  }
 ],
 "metadata": {
  "kernelspec": {
   "display_name": "Python 3 (ipykernel)",
   "language": "python",
   "name": "python3"
  },
  "language_info": {
   "codemirror_mode": {
    "name": "ipython",
    "version": 3
   },
   "file_extension": ".py",
   "mimetype": "text/x-python",
   "name": "python",
   "nbconvert_exporter": "python",
   "pygments_lexer": "ipython3",
   "version": "3.8.0"
  }
 },
 "nbformat": 4,
 "nbformat_minor": 5
}
